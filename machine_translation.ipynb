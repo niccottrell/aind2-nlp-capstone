{
 "cells": [
  {
   "cell_type": "markdown",
   "metadata": {
    "collapsed": true
   },
   "source": [
    "# Artificial Intelligence Nanodegree\n",
    "## Machine Translation Project\n",
    "In this notebook, sections that end with **'(IMPLEMENTATION)'** in the header indicate that the following blocks of code will require additional functionality which you must provide. Please be sure to read the instructions carefully!\n",
    "\n",
    "## Introduction\n",
    "In this notebook, you will build a deep neural network that functions as part of an end-to-end machine translation pipeline. Your completed pipeline will accept English text as input and return the French translation.\n",
    "\n",
    "- **Preprocess** - You'll convert text to sequence of integers.\n",
    "- **Models** Create models which accepts a sequence of integers as input and returns a probability distribution over possible translations. After learning about the basic types of neural networks that are often used for machine translation, you will engage in your own investigations, to design your own model!\n",
    "- **Prediction** Run the model on English text."
   ]
  },
  {
   "cell_type": "code",
   "execution_count": 36,
   "metadata": {},
   "outputs": [
    {
     "name": "stdout",
     "output_type": "stream",
     "text": [
      "The autoreload extension is already loaded. To reload it, use:\n",
      "  %reload_ext autoreload\n"
     ]
    }
   ],
   "source": [
    "%load_ext autoreload\n",
    "%aimport helper, tests\n",
    "%autoreload 1"
   ]
  },
  {
   "cell_type": "code",
   "execution_count": 37,
   "metadata": {},
   "outputs": [
    {
     "name": "stdout",
     "output_type": "stream",
     "text": [
      "1.1.0\n",
      "2.1.2\n"
     ]
    }
   ],
   "source": [
    "import collections\n",
    "\n",
    "import helper\n",
    "import tensorflow as tf\n",
    "import keras\n",
    "import numpy as np\n",
    "import project_tests as tests\n",
    "\n",
    "from keras.preprocessing.text import Tokenizer\n",
    "from keras.preprocessing.sequence import pad_sequences\n",
    "from keras.models import Model\n",
    "from keras.layers import GRU, Input, Dense, TimeDistributed, Activation, RepeatVector, Bidirectional\n",
    "from keras.layers.embeddings import Embedding\n",
    "from keras.optimizers import Adam\n",
    "from keras.losses import sparse_categorical_crossentropy\n",
    "\n",
    "print(tf.__version__)\n",
    "print(keras.__version__)"
   ]
  },
  {
   "cell_type": "markdown",
   "metadata": {},
   "source": [
    "### Verify access to the GPU\n",
    "The following test applies only if you expect to be using a GPU, e.g., while running in a Udacity Workspace or using an AWS instance with GPU support. Run the next cell, and verify that the device_type is \"GPU\".\n",
    "- If the device is not GPU & you are running from a Udacity Workspace, then save your workspace with the icon at the top, then click \"enable\" at the bottom of the workspace.\n",
    "- If the device is not GPU & you are running from an AWS instance, then refer to the cloud computing instructions in the classroom to verify your setup steps."
   ]
  },
  {
   "cell_type": "code",
   "execution_count": 38,
   "metadata": {},
   "outputs": [
    {
     "name": "stdout",
     "output_type": "stream",
     "text": [
      "[name: \"/cpu:0\"\n",
      "device_type: \"CPU\"\n",
      "memory_limit: 268435456\n",
      "locality {\n",
      "}\n",
      "incarnation: 14955838380427020890\n",
      "]\n"
     ]
    }
   ],
   "source": [
    "from tensorflow.python.client import device_lib\n",
    "print(device_lib.list_local_devices())"
   ]
  },
  {
   "cell_type": "markdown",
   "metadata": {},
   "source": [
    "## Dataset\n",
    "We begin by investigating the dataset that will be used to train and evaluate your pipeline.  The most common datasets used for machine translation are from [WMT](http://www.statmt.org/).  However, that will take a long time to train a neural network on.  We'll be using a dataset we created for this project that contains a small vocabulary.  You'll be able to train your model in a reasonable time with this dataset.\n",
    "### Load Data\n",
    "The data is located in `data/small_vocab_en` and `data/small_vocab_fr`. The `small_vocab_en` file contains English sentences with their French translations in the `small_vocab_fr` file. Load the English and French data from these files from running the cell below."
   ]
  },
  {
   "cell_type": "code",
   "execution_count": 39,
   "metadata": {},
   "outputs": [
    {
     "name": "stdout",
     "output_type": "stream",
     "text": [
      "Dataset Loaded\n",
      "english_sentences length= 137861\n",
      "french_sentences length= 137861\n"
     ]
    }
   ],
   "source": [
    "# Load English data\n",
    "english_sentences = helper.load_data('data/small_vocab_en')\n",
    "# Load French data\n",
    "french_sentences = helper.load_data('data/small_vocab_fr')\n",
    "\n",
    "print('Dataset Loaded')\n",
    "\n",
    "print('english_sentences length= {}'.format(len(english_sentences)))\n",
    "print('french_sentences length= {}'.format(len(french_sentences)))"
   ]
  },
  {
   "cell_type": "markdown",
   "metadata": {},
   "source": [
    "### Files\n",
    "Each line in `small_vocab_en` contains an English sentence with the respective translation in each line of `small_vocab_fr`.  View the first two lines from each file."
   ]
  },
  {
   "cell_type": "code",
   "execution_count": 40,
   "metadata": {},
   "outputs": [
    {
     "name": "stdout",
     "output_type": "stream",
     "text": [
      "small_vocab_en Line 1:  new jersey is sometimes quiet during autumn , and it is snowy in april .\n",
      "small_vocab_fr Line 1:  new jersey est parfois calme pendant l' automne , et il est neigeux en avril .\n",
      "small_vocab_en Line 2:  the united states is usually chilly during july , and it is usually freezing in november .\n",
      "small_vocab_fr Line 2:  les états-unis est généralement froid en juillet , et il gèle habituellement en novembre .\n"
     ]
    }
   ],
   "source": [
    "for sample_i in range(2):\n",
    "    print('small_vocab_en Line {}:  {}'.format(sample_i + 1, english_sentences[sample_i]))\n",
    "    print('small_vocab_fr Line {}:  {}'.format(sample_i + 1, french_sentences[sample_i]))"
   ]
  },
  {
   "cell_type": "markdown",
   "metadata": {},
   "source": [
    "From looking at the sentences, you can see they have been preprocessed already.  The puncuations have been delimited using spaces. All the text have been converted to lowercase.  This should save you some time, but the text requires more preprocessing.\n",
    "### Vocabulary\n",
    "The complexity of the problem is determined by the complexity of the vocabulary.  A more complex vocabulary is a more complex problem.  Let's look at the complexity of the dataset we'll be working with."
   ]
  },
  {
   "cell_type": "code",
   "execution_count": 41,
   "metadata": {},
   "outputs": [
    {
     "name": "stdout",
     "output_type": "stream",
     "text": [
      "1823250 English words.\n",
      "227 unique English words.\n",
      "10 Most common words in the English dataset:\n",
      "\"is\" \",\" \".\" \"in\" \"it\" \"during\" \"the\" \"but\" \"and\" \"sometimes\"\n",
      "\n",
      "1961295 French words.\n",
      "355 unique French words.\n",
      "10 Most common words in the French dataset:\n",
      "\"est\" \".\" \",\" \"en\" \"il\" \"les\" \"mais\" \"et\" \"la\" \"parfois\"\n"
     ]
    }
   ],
   "source": [
    "english_words_counter = collections.Counter([word for sentence in english_sentences for word in sentence.split()])\n",
    "french_words_counter = collections.Counter([word for sentence in french_sentences for word in sentence.split()])\n",
    "\n",
    "print('{} English words.'.format(len([word for sentence in english_sentences for word in sentence.split()])))\n",
    "print('{} unique English words.'.format(len(english_words_counter)))\n",
    "print('10 Most common words in the English dataset:')\n",
    "print('\"' + '\" \"'.join(list(zip(*english_words_counter.most_common(10)))[0]) + '\"')\n",
    "print()\n",
    "print('{} French words.'.format(len([word for sentence in french_sentences for word in sentence.split()])))\n",
    "print('{} unique French words.'.format(len(french_words_counter)))\n",
    "print('10 Most common words in the French dataset:')\n",
    "print('\"' + '\" \"'.join(list(zip(*french_words_counter.most_common(10)))[0]) + '\"')"
   ]
  },
  {
   "cell_type": "markdown",
   "metadata": {},
   "source": [
    "For comparison, _Alice's Adventures in Wonderland_ contains 2,766 unique words of a total of 15,500 words.\n",
    "## Preprocess\n",
    "For this project, you won't use text data as input to your model. Instead, you'll convert the text into sequences of integers using the following preprocess methods:\n",
    "1. Tokenize the words into ids\n",
    "2. Add padding to make all the sequences the same length.\n",
    "\n",
    "Time to start preprocessing the data...\n",
    "### Tokenize (IMPLEMENTATION)\n",
    "For a neural network to predict on text data, it first has to be turned into data it can understand. Text data like \"dog\" is a sequence of ASCII character encodings.  Since a neural network is a series of multiplication and addition operations, the input data needs to be number(s).\n",
    "\n",
    "We can turn each character into a number or each word into a number.  These are called character and word ids, respectively.  Character ids are used for character level models that generate text predictions for each character.  A word level model uses word ids that generate text predictions for each word.  Word level models tend to learn better, since they are lower in complexity, so we'll use those.\n",
    "\n",
    "Turn each sentence into a sequence of words ids using Keras's [`Tokenizer`](https://keras.io/preprocessing/text/#tokenizer) function. Use this function to tokenize `english_sentences` and `french_sentences` in the cell below.\n",
    "\n",
    "Running the cell will run `tokenize` on sample data and show output for debugging."
   ]
  },
  {
   "cell_type": "code",
   "execution_count": 42,
   "metadata": {},
   "outputs": [
    {
     "name": "stdout",
     "output_type": "stream",
     "text": [
      "{'prize': 17, 'this': 18, 'is': 19, 'jove': 11, 'my': 12, 'over': 7, 'quick': 2, 'the': 1, 'lazy': 8, 'dog': 9, 'brown': 4, 'of': 14, 'by': 10, 'lexicography': 15, 'won': 16, 'jumps': 6, 'a': 3, 'sentence': 21, 'short': 20, 'fox': 5, 'study': 13}\n",
      "\n",
      "Sequence 1 in x\n",
      "  Input:  The quick brown fox jumps over the lazy dog .\n",
      "  Output: [1, 2, 4, 5, 6, 7, 1, 8, 9]\n",
      "Sequence 2 in x\n",
      "  Input:  By Jove , my quick study of lexicography won a prize .\n",
      "  Output: [10, 11, 12, 2, 13, 14, 15, 16, 3, 17]\n",
      "Sequence 3 in x\n",
      "  Input:  This is a short sentence .\n",
      "  Output: [18, 19, 3, 20, 21]\n"
     ]
    }
   ],
   "source": [
    "def tokenize(x):\n",
    "    \"\"\"\n",
    "    Tokenize x\n",
    "    :param x: List of sentences/strings to be tokenized\n",
    "    :return: Tuple of (tokenized x data, tokenizer used to tokenize x)\n",
    "    \"\"\"\n",
    "    # TODO: Implement\n",
    "    tokenizer = Tokenizer()\n",
    "    tokenizer.fit_on_texts(x)\n",
    "    tokenized = tokenizer.texts_to_sequences(x)\n",
    "    return tokenized, tokenizer\n",
    "\n",
    "tests.test_tokenize(tokenize)\n",
    "\n",
    "# Tokenize Example output\n",
    "text_sentences = [\n",
    "    'The quick brown fox jumps over the lazy dog .',\n",
    "    'By Jove , my quick study of lexicography won a prize .',\n",
    "    'This is a short sentence .']\n",
    "text_tokenized, text_tokenizer = tokenize(text_sentences)\n",
    "print(text_tokenizer.word_index)\n",
    "print()\n",
    "for sample_i, (sent, token_sent) in enumerate(zip(text_sentences, text_tokenized)):\n",
    "    print('Sequence {} in x'.format(sample_i + 1))\n",
    "    print('  Input:  {}'.format(sent))\n",
    "    print('  Output: {}'.format(token_sent))"
   ]
  },
  {
   "cell_type": "markdown",
   "metadata": {},
   "source": [
    "### Padding (IMPLEMENTATION)\n",
    "When batching the sequence of word ids together, each sequence needs to be the same length.  Since sentences are dynamic in length, we can add padding to the end of the sequences to make them the same length.\n",
    "\n",
    "Make sure all the English sequences have the same length and all the French sequences have the same length by adding padding to the **end** of each sequence using Keras's [`pad_sequences`](https://keras.io/preprocessing/sequence/#pad_sequences) function."
   ]
  },
  {
   "cell_type": "code",
   "execution_count": 43,
   "metadata": {},
   "outputs": [
    {
     "name": "stdout",
     "output_type": "stream",
     "text": [
      "Sequence 1 in x\n",
      "  Input:  [1 2 4 5 6 7 1 8 9]\n",
      "  Output: [1 2 4 5 6 7 1 8 9 0]\n",
      "Sequence 2 in x\n",
      "  Input:  [10 11 12  2 13 14 15 16  3 17]\n",
      "  Output: [10 11 12  2 13 14 15 16  3 17]\n",
      "Sequence 3 in x\n",
      "  Input:  [18 19  3 20 21]\n",
      "  Output: [18 19  3 20 21  0  0  0  0  0]\n"
     ]
    }
   ],
   "source": [
    "def pad(x, length=None):\n",
    "    \"\"\"\n",
    "    Pad x\n",
    "    :param x: List of sequences.\n",
    "    :param length: Length to pad the sequence to.  If None, use length of longest sequence in x.\n",
    "    :return: Padded numpy array of sequences\n",
    "    \"\"\"\n",
    "    \n",
    "    # TODO: Implement\n",
    "    return pad_sequences(x, maxlen=length, padding='post', truncating='post')\n",
    "tests.test_pad(pad)\n",
    "\n",
    "# Pad Tokenized output\n",
    "test_pad = pad(text_tokenized)\n",
    "for sample_i, (token_sent, pad_sent) in enumerate(zip(text_tokenized, test_pad)):\n",
    "    print('Sequence {} in x'.format(sample_i + 1))\n",
    "    print('  Input:  {}'.format(np.array(token_sent)))\n",
    "    print('  Output: {}'.format(pad_sent))"
   ]
  },
  {
   "cell_type": "markdown",
   "metadata": {},
   "source": [
    "### Preprocess Pipeline\n",
    "Your focus for this project is to build neural network architecture, so we won't ask you to create a preprocess pipeline.  Instead, we've provided you with the implementation of the `preprocess` function."
   ]
  },
  {
   "cell_type": "code",
   "execution_count": 44,
   "metadata": {},
   "outputs": [
    {
     "name": "stdout",
     "output_type": "stream",
     "text": [
      "Data Preprocessed\n",
      "Max English sentence length: 15\n",
      "Max French sentence length: 21\n",
      "English vocabulary size: 199\n",
      "French vocabulary size: 344\n"
     ]
    }
   ],
   "source": [
    "def preprocess(x, y):\n",
    "    \"\"\"\n",
    "    Preprocess x and y\n",
    "    :param x: Feature List of sentences\n",
    "    :param y: Label List of sentences\n",
    "    :return: Tuple of (Preprocessed x, Preprocessed y, x tokenizer, y tokenizer)\n",
    "    \"\"\"\n",
    "    preprocess_x, x_tk = tokenize(x)\n",
    "    preprocess_y, y_tk = tokenize(y)\n",
    "\n",
    "    preprocess_x = pad(preprocess_x)\n",
    "    preprocess_y = pad(preprocess_y)\n",
    "\n",
    "    # Keras's sparse_categorical_crossentropy function requires the labels to be in 3 dimensions\n",
    "    preprocess_y = preprocess_y.reshape(*preprocess_y.shape, 1)\n",
    "\n",
    "    return preprocess_x, preprocess_y, x_tk, y_tk\n",
    "\n",
    "preproc_english_sentences, preproc_french_sentences, english_tokenizer, french_tokenizer =\\\n",
    "    preprocess(english_sentences, french_sentences)\n",
    "    \n",
    "max_english_sequence_length = preproc_english_sentences.shape[1]\n",
    "max_french_sequence_length = preproc_french_sentences.shape[1]\n",
    "english_vocab_size = len(english_tokenizer.word_index)\n",
    "french_vocab_size = len(french_tokenizer.word_index)\n",
    "\n",
    "print('Data Preprocessed')\n",
    "print(\"Max English sentence length:\", max_english_sequence_length)\n",
    "print(\"Max French sentence length:\", max_french_sequence_length)\n",
    "print(\"English vocabulary size:\", english_vocab_size)\n",
    "print(\"French vocabulary size:\", french_vocab_size)"
   ]
  },
  {
   "cell_type": "markdown",
   "metadata": {},
   "source": [
    "## Models\n",
    "In this section, you will experiment with various neural network architectures.\n",
    "You will begin by training four relatively simple architectures.\n",
    "- Model 1 is a simple RNN\n",
    "- Model 2 is a RNN with Embedding\n",
    "- Model 3 is a Bidirectional RNN\n",
    "- Model 4 is an optional Encoder-Decoder RNN\n",
    "\n",
    "After experimenting with the four simple architectures, you will construct a deeper architecture that is designed to outperform all four models.\n",
    "### Ids Back to Text\n",
    "The neural network will be translating the input to words ids, which isn't the final form we want.  We want the French translation.  The function `logits_to_text` will bridge the gab between the logits from the neural network to the French translation.  You'll be using this function to better understand the output of the neural network."
   ]
  },
  {
   "cell_type": "code",
   "execution_count": 45,
   "metadata": {},
   "outputs": [
    {
     "name": "stdout",
     "output_type": "stream",
     "text": [
      "`logits_to_text` function loaded.\n"
     ]
    }
   ],
   "source": [
    "def logits_to_text(logits, tokenizer):\n",
    "    \"\"\"\n",
    "    Turn logits from a neural network into text using the tokenizer\n",
    "    :param logits: Logits from a neural network\n",
    "    :param tokenizer: Keras Tokenizer fit on the labels\n",
    "    :return: String that represents the text of the logits\n",
    "    \"\"\"\n",
    "    index_to_words = {id: word for word, id in tokenizer.word_index.items()}\n",
    "    index_to_words[0] = '<PAD>'\n",
    "\n",
    "    return ' '.join([index_to_words[prediction] for prediction in np.argmax(logits, 1)])\n",
    "\n",
    "print('`logits_to_text` function loaded.')"
   ]
  },
  {
   "cell_type": "markdown",
   "metadata": {},
   "source": [
    "### Model 1: RNN (IMPLEMENTATION)\n",
    "![RNN](images/rnn.png)\n",
    "A basic RNN model is a good baseline for sequence data.  In this model, you'll build a RNN that translates English to French."
   ]
  },
  {
   "cell_type": "code",
   "execution_count": 46,
   "metadata": {},
   "outputs": [
    {
     "name": "stdout",
     "output_type": "stream",
     "text": [
      "input_shape= (137861, 21, 1)\n",
      "output_sequence_length= 21\n",
      "english_vocab_size 199\n",
      "french_vocab_size 344\n",
      "_________________________________________________________________\n",
      "Layer (type)                 Output Shape              Param #   \n",
      "=================================================================\n",
      "gru_9 (GRU)                  (None, 21, 512)           789504    \n",
      "_________________________________________________________________\n",
      "time_distributed_17 (TimeDis (None, 21, 344)           176472    \n",
      "=================================================================\n",
      "Total params: 965,976\n",
      "Trainable params: 965,976\n",
      "Non-trainable params: 0\n",
      "_________________________________________________________________\n",
      "None\n",
      "input_shape= (137861, 21, 1)\n",
      "output_sequence_length= 21\n",
      "english_vocab_size 199\n",
      "french_vocab_size 344\n",
      "_________________________________________________________________\n",
      "Layer (type)                 Output Shape              Param #   \n",
      "=================================================================\n",
      "gru_10 (GRU)                 (None, 21, 512)           789504    \n",
      "_________________________________________________________________\n",
      "time_distributed_18 (TimeDis (None, 21, 344)           176472    \n",
      "=================================================================\n",
      "Total params: 965,976\n",
      "Trainable params: 965,976\n",
      "Non-trainable params: 0\n",
      "_________________________________________________________________\n",
      "None\n",
      "Train on 110288 samples, validate on 27573 samples\n",
      "Epoch 1/10\n",
      "110080/110288 [============================>.] - ETA: 0s - loss: 1.5614 - acc: 0.5983"
     ]
    },
    {
     "ename": "InvalidArgumentError",
     "evalue": "Received a label value of 344 which is outside the valid range of [0, 344).  Label values: 10 38 1 20 16 17 5 7 83 1 39 17 0 0 0 0 0 0 0 0 0 99 124 4 72 4 77 6 4 75 0 0 0 0 0 0 0 0 0 0 0 0 20 16 1 13 14 84 5 39 13 14 1 7 86 0 0 0 0 0 0 0 0 3 55 91 10 38 4 73 6 4 71 0 0 0 0 0 0 0 0 0 0 0 101 1 9 18 2 48 6 3 1 12 19 2 53 0 0 0 0 0 0 0 0 10 85 1 61 16 13 14 5 7 86 27 1 13 14 0 0 0 0 0 0 0 20 109 10 23 14 1 192 236 0 0 0 0 0 0 0 0 0 0 0 0 0 29 1 21 2 45 6 3 1 8 139 26 11 24 0 0 0 0 0 0 0 0 27 145 121 148 97 153 0 0 0 0 0 0 0 0 0 0 0 0 0 0 0 3 55 4 78 4 72 6 4 74 0 0 0 0 0 0 0 0 0 0 0 0 3 55 4 75 4 78 6 4 73 0 0 0 0 0 0 0 0 0 0 0 0 101 1 58 69 2 43 5 3 1 12 65 2 56 0 0 0 0 0 0 0 0 11 30 1 12 59 2 53 5 3 1 9 60 2 52 0 0 0 0 0 0 0 7 36 1 10 81 69 15 42 5 3 1 8 137 2 43 0 0 0 0 0 0 3 55 4 78 4 70 6 4 28 76 0 0 0 0 0 0 0 0 0 0 0 36 1 19 37 11 44 6 3 1 8 63 2 45 0 0 0 0 0 0 0 0 11 30 1 9 125 2 52 5 3 1 8 10 81 2 53 0 0 0 0 0 0 191 96 13 14 1 7 83 5 64 13 14 1 7 80 0 0 0 0 0 0 0 11 30 1 8 7 102 2 43 6 3 1 21 2 49 0 0 0 0 0 0 0 3 100 4 72 10 38 6 4 75 0 0 0 0 0 0 0 0 0 0 0 0 7 80 1 20 16 10 23 14 5 7 86 1 61 23 14 0 0 0 0 0 0 4 32 31 1 9 66 2 48 6 3 1 67 2 51 0 0 0 0 0 0 0 27 55 4 74 10 38 6 4 71 0 0 0 0 0 0 0 0 0 0 0 0 39 13 14 1 10 16 22 38 5 27 1 13 14 84 0 0 0 0 0 0 0 11 30 1 8 65 37 11 46 6 3 1 8 19 2 52 0 0 0 0 0 0 27 143 121 151 97 134 0 0 0 0 0 0 0 0 0 0 0 0 0 0 0 3 158 91 7 147 97 162 0 0 0 0 0 0 0 0 0 0 0 0 0 0 146 10 218 1 40 109 10 23 14 0 0 0 0 0 0 0 0 0 0 0 0 10 220 1 20 109 10 23 14 0 0 0 0 0 0 0 0 0 0 0 0 0 29 1 12 19 15 25 22 47 6 3 1 9 57 2 50 0 0 0 0 0 0 7 33 1 9 18 2 46 5 3 1 12 67 2 43 0 0 0 0 0 0 0 101 1 9 65 15 25 22 51 5 3 1 21 2 54 0 0 0 0 0 0 0 35 34 1 9 66 2 48 5 3 1 8 68 15 42 0 0 0 0 0 0 0 62 1 8 60 2 43 5 3 1 12 67 2 52 0 0 0 0 0 0 0 0 7 33 1 12 21 2 41 5 3 1 8 67 2 54 0 0 0 0 0 0 0 10 82 1 20 16 10 23 14 5 7 90 27 1 10 23 14 0 0 0 0 0 1 3 223 15 35 34 0 0 0 0 0 0 0 0 0 0 0 0 0 0 0 4 32 31 1 9 58 15 25 22 48 6 3 1 8 60 26 11 24 0 0 0 20 16 17 1 7 88 5 20 17 1 10 85 0 0 0 0 0 0 0 0 0 11 30 1 59 15 25 22 53 6 3 1 21 2 43 0 0 0 0 0 0 0 3 158 91 144 163 110 166 0 0 0 0 0 0 0 0 0 0 0 0 0 0 7 86 1 64 16 17 5 7 83 1 20 93 0 0 0 0 0 0 0 0 0 35 34 1 19 15 25 22 45 5 3 1 12 18 2 48 0 0 0 0 0 0 11 30 1 104 15 42 6 3 105 103 9 19 2 49 0 0 0 0 0 0 0 20 16 10 23 14 1 84 5 40 23 14 1 7 90 0 0 0 0 0 0 0 62 105 103 9 19 15 25 22 45 5 3 1 8 21 26 11 24 0 0 0 0 3 113 120 168 97 155 0 0 0 0 0 0 0 0 0 0 0 0 0 0 0 64 16 17 1 10 38 5 39 17 1 7 86 0 0 0 0 0 0 0 0 0 35 34 1 9 66 15 111 22 11 24 6 3 1 8 68 2 43 0 0 0 0 33 1 66 37 11 24 6 3 1 8 10 81 2 53 0 0 0 0 0 0 0 4 32 31 1 12 21 2 52 6 3 1 8 18 2 41 0 0 0 0 0 0 29 1 9 59 2 43 6 3 1 12 63 2 45 0 0 0 0 0 0 0 0 29 1 8 60 15 25 22 48 5 3 1 8 19 2 44 0 0 0 0 0 0 35 34 1 12 59 26 98 5 3 1 9 18 2 47 0 0 0 0 0 0 0 36 1 9 7 102 2 49 6 3 1 8 59 2 47 0 0 0 0 0 0 0 7 33 1 8 58 2 48 6 3 1 67 2 43 0 0 0 0 0 0 0 0 62 1 8 57 2 50 5 3 1 8 68 2 56 0 0 0 0 0 0 0 0 35 34 1 9 18 2 43 5 3 1 21 2 52 0 0 0 0 0 0 0 0 62 1 8 104 15 42 6 3 1 12 57 26 11 24 0 0 0 0 0 0 0 107 126 10 38 4 70 6 4 78 0 0 0 0 0 0 0 0 0 0 0 0 36 1 9 59 37 11 46 5 3 1 8 19 2 51 0 0 0 0 0 0 0 7 33 1 10 81 2 41 6 3 1 57 26 11 24 0 0 0 0 0 0 0 35 34 1 60 2 41 5 3 1 8 59 2 50 0 0 0 0 0 0 0 0 7 83 1 10 16 10 23 14 64 5 10 82 1 10 23 14 0 0 0 0 0 84 1 20 16 17 13 5 7 88 1 61 13 17 0 0 0 0 0 0 0 0 99 127 91 28 76 4 77 6 4 71 0 0 0 0 0 0 0 0 0 0 0 7 36 1 8 10 81 2 48 6 3 1 9 19 2 52 0 0 0 0 0 0 29 1 8 10 81 2 43 5 3 1 19 2 50 0 0 0 0 0 0 0 0 4 32 31 1 9 117 2 50 6 3 1 65 2 51 0 0 0 0 0 0 0 101 1 8 18 2 53 5 3 1 8 19 15 42 0 0 0 0 0 0 0 0 7 33 1 9 60 2 48 5 3 1 19 2 47 0 0 0 0 0 0 0 0 99 127 91 4 77 4 74 6 4 75 0 0 0 0 0 0 0 0 0 0 0 39 16 10 23 14 1 7 87 5 64 23 14 1 10 85 0 0 0 0 0 0 7 33 1 60 26 98 5 3 1 12 92 2 41 0 0 0 0 0 0 0 0 11 30 1 104 26 98 5 3 1 9 59 2 49 0 0 0 0 0 0 0 0 29 1 59 26 98 5 3 1 58 2 52 0 0 0 0 0 0 0 0 0 0 3 55 4 73 4 28 6 4 28 76 0 0 0 0 0 0 0 0 0 0 0 36 1 19 2 52 5 3 1 21 2 50 0 0 0 0 0 0 0 0 0 0 29 1 12 59 2 49 6 3 1 9 22 102 2 41 0 0 0 0 0 0 0 7 89 1 20 16 17 13 5 7 86 1 39 17 13 0 0 0 0 0 0 0 10 85 1 20 16 13 14 5 7 88 1 61 13 14 0 0 0 0 0 0 0 29 1 57 15 25 22 48 5 3 1 65 26 11 24 0 0 0 0 0 0 0 106 130 4 74 6 4 71 0 0 0 0 0 0 0 0 0 0 0 0 0 0 101 1 8 18 37 11 44 5 3 1 67 2 43 0 0 0 0 0 0 0 0 4 32 31 1 9 68 2 54 5 3 1 8 19 2 51 0 0 0 0 0 0 20 16 1 13 14 7 83 5 61 13 14 1 7 88 0 0 0 0 0 0 0 99 127 10 38 4 75 6 4 70 0 0 0 0 0 0 0 0 0 0 0 0 99 127 4 75 28 76 6 4 71 0 0 0 0 0 0 0 0 0 0 0 0 40 16 17 13 1 10 38 5 64 13 17 1 7 80 0 0 0 0 0 0 0 29 1 8 18 37 11 44 5 3 1 9 19 2 43 0 0 0 0 0 0 0 4 32 31 1 12 18 15 42 5 3 1 8 66 26 11 24 0 0 0 0 0 36 1 104 2 45 6 3 1 8 18 2 46 0 0 0 0 0 0 0 0 0 116 100 4 78 4 77 6 4 71 0 0 0 0 0 0 0 0 0 0 0 0 3 94 4 71 4 78 6 4 75 0 0 0 0 0 0 0 0 0 0 0 0 3 55 91 4 77 6 4 74 0 0 0 0 0 0 0 0 0 0 0 0 0 11 30 1 243 15 42 6 3 1 9 65 2 56 0 0 0 0 0 0 0 0 33 105 103 9 19 2 41 5 3 1 69 21 2 48 0 0 0 0 0 0 0 7 89 1 39 13 14 108 96 5 10 85 1 61 13 14 0 0 0 0 0 0 7 80 1 20 13 14 108 96 5 7 87 1 39 13 14 0 0 0 0 0 0 4 32 31 1 19 37 11 44 5 3 1 21 15 42 0 0 0 0 0 0 0 35 34 1 58 8 2 49 5 3 95 69 2 56 0 0 0 0 0 0 0 0 4 32 31 1 9 66 2 49 6 3 1 8 92 2 53 0 0 0 0 0 0 35 34 1 9 18 2 52 5 3 1 9 60 26 11 24 0 0 0 0 0 0 3 55 10 38 28 76 6 4 77 0 0 0 0 0 0 0 0 0 0 0 0 4 32 31 1 9 125 2 43 6 3 1 65 2 44 0 0 0 0 0 0 0 3 118 113 7 97 150 174 0 0 0 0 0 0 0 0 0 0 0 0 0 0 64 16 1 13 14 10 82 5 20 13 14 1 10 38 0 0 0 0 0 0 0 4 32 31 1 9 65 2 49 6 3 1 8 57 2 50 0 0 0 0 0 0 3 55 91 28 76 10 38 6 4 28 0 0 0 0 0 0 0 0 0 0 0 11 30 1 12 92 15 25 79 56 5 3 1 21 2 47 0 0 0 0 0 0 27 143 7 151 97 153 0 0 0 0 0 0 0 0 0 0 0 0 0 0 0 62 1 9 63 2 50 5 3 1 68 2 54 0 0 0 0 0 0 0 0 0 35 34 1 9 57 2 54 5 3 1 9 21 2 41 0 0 0 0 0 0 0 20 16 17 1 13 7 88 5 20 13 17 1 10 38 0 0 0 0 0 0 0 36 1 12 18 2 41 6 3 1 12 63 2 50 0 0 0 0 0 0 0 0 11 30 1 12 19 15 42 5 3 1 57 2 47 0 0 0 0 0 0 0 0 212 99 124 278 0 0 0 0 0 0 0 0 0 0 0 0 0 0 0 0 0 7 87 1 20 16 10 23 14 5 7 89 1 64 23 14 0 0 0 0 0 0 3 94 4 70 4 78 6 4 73 0 0 0 0 0 0 0 0 0 0 0 0 135 4 74 4 73 6 4 28 0 0 0 0 0 0 0 0 0 0 0 0 0 11 30 1 9 19 2 50 5 3 1 21 2 49 0 0 0 0 0 0 0 0 27 94 4 28 4 77 6 28 76 0 0 0 0 0 0 0 0 0 0 0 0 29 1 9 26 63 15 42 6 3 1 9 65 2 43 0 0 0 0 0 0 0 7 90 1 20 16 17 5 10 85 1 39 17 0 0 0 0 0 0 0 0 0 36 1 9 125 2 50 5 3 1 60 2 51 0 0 0 0 0 0 0 0 0 7 90 1 64 16 17 13 5 7 89 1 20 13 17 0 0 0 0 0 0 0 7 33 1 104 2 24 6 3 1 9 59 2 44 0 0 0 0 0 0 0 0 27 55 7 288 153 193 0 0 0 0 0 0 0 0 0 0 0 0 0 0 0 11 30 1 9 21 15 42 6 3 1 68 2 50 0 0 0 0 0 0 0 0 20 16 17 1 10 38 5 61 17 1 7 80 0 0 0 0 0 0 0 0 0 11 30 1 104 2 50 6 3 95 9 2 56 0 0 0 0 0 0 0 0 0 7 62 1 10 81 2 49 6 3 1 9 65 2 56 0 0 0 0 0 0 0 3 55 4 70 6 4 75 0 0 0 0 0 0 0 0 0 0 0 0 0 0 27 113 120 148 97 150 0 0 0 0 0 0 0 0 0 0 0 0 0 0 0 106 130 28 76 4 74 6 4 73 0 0 0 0 0 0 0 0 0 0 0 0 20 16 10 23 14 1 10 85 5 61 23 14 1 7 89 0 0 0 0 0 0 4 32 31 1 9 19 15 25 22 47 5 3 1 8 67 2 50 0 0 0 0 27 55 4 77 4 74 6 4 78 0 0 0 0 0 0 0 0 0 0 0 0 29 1 69 21 2 41 6 3 1 8 10 81 2 53 0 0 0 0 0 0 0 116 100 4 74 4 72 6 4 77 0 0 0 0 0 0 0 0 0 0 0 0 29 1 9 66 15 111 22 11 24 5 9 22 102 2 52 0 0 0 0 0 0 129 96 10 23 14 1 7 80 5 61 23 14 1 7 88 0 0 0 0 0 0 29 1 12 66 15 25 22 51 5 3 1 9 18 2 48 0 0 0 0 0 0 146 7 201 1 39 109 10 23 156 0 0 0 0 0 0 0 0 0 0 0 0 4 32 31 1 9 19 2 41 6 3 1 8 59 26 11 24 0 0 0 0 0 27 55 4 74 4 70 6 4 28 0 0 0 0 0 0 0 0 0 0 0 0 29 1 8 112 15 25 22 51 5 3 1 66 2 50 0 0 0 0 0 0 0 3 160 171 1 198 22 164 185 187 0 0 0 0 0 0 0 0 0 0 0 0 27 55 4 77 78 6 28 0 0 0 0 0 0 0 0 0 0 0 0 0 0 3 100 4 75 28 76 6 4 74 0 0 0 0 0 0 0 0 0 0 0 0 11 30 1 9 59 37 11 44 5 3 1 8 18 2 52 0 0 0 0 0 0 106 130 28 76 4 73 6 4 28 0 0 0 0 0 0 0 0 0 0 0 0 4 32 31 1 8 21 15 25 79 56 5 3 1 8 60 2 46 0 0 0 0 11 30 1 7 102 2 54 5 3 1 9 21 2 56 0 0 0 0 0 0 0 27 94 10 38 4 71 6 4 78 0 0 0 0 0 0 0 0 0 0 0 0 116 100 38 4 71 6 4 78 0 0 0 0 0 0 0 0 0 0 0 0 0 20 16 1 13 14 7 87 5 40 13 14 1 10 38 0 0 0 0 0 0 0 36 1 8 63 37 11 46 5 3 1 21 2 53 0 0 0 0 0 0 0 0 84 1 20 16 10 23 14 5 7 83 1 64 23 14 0 0 0 0 0 0 0 7 90 1 61 16 13 14 5 7 83 1 64 13 14 0 0 0 0 0 0 0 29 1 68 2 52 6 3 1 8 19 2 41 0 0 0 0 0 0 0 0 0 27 55 4 70 4 74 6 4 77 0 0 0 0 0 0 0 0 0 0 0 0 11 30 1 18 2 52 5 3 1 12 57 2 43 0 0 0 0 0 0 0 0 29 1 9 19 2 52 6 3 1 9 57 2 49 0 0 0 0 0 0 0 0 36 105 103 9 19 15 25 79 56 5 3 1 58 69 2 44 0 0 0 0 0 20 16 10 23 14 1 7 86 5 39 23 14 1 7 87 0 0 0 0 0 0 135 4 73 4 28 76 6 4 74 0 0 0 0 0 0 0 0 0 0 0 0 29 1 9 58 2 53 5 3 1 9 21 2 48 0 0 0 0 0 0 0 0 35 34 1 8 21 2 49 6 3 1 59 2 43 0 0 0 0 0 0 0 0 29 1 8 63 2 49 5 3 1 12 66 2 53 0 0 0 0 0 0 0 0 36 1 63 2 52 5 3 1 8 21 2 53 0 0 0 0 0 0 0 0 0 29 1 68 15 25 22 51 5 3 1 8 65 26 11 24 0 0 0 0 0 0 7 80 1 64 16 17 5 10 38 1 61 17 0 0 0 0 0 0 0 0 0 7 33 1 12 59 2 43 5 3 1 12 68 26 11 24 0 0 0 0 0 0 116 207 22 136 7 36 2 46 0 0 0 0 0 0 0 0 0 0 0 0 0 64 16 17 1 10 38 5 20 17 1 7 88 0 0 0 0 0 0 0 0 0 3 55 115 248 110 176 0 0 0 0 0 0 0 0 0 0 0 0 0 0 0 35 34 1 9 117 15 42 6 3 1 21 2 48 0 0 0 0 0 0 0 0 35 34 1 19 2 54 5 3 1 9 59 2 41 0 0 0 0 0 0 0 0 27 94 4 75 6 4 78 0 0 0 0 0 0 0 0 0 0 0 0 0 0 3 94 121 147 97 153 0 0 0 0 0 0 0 0 0 0 0 0 0 0 0 36 1 8 18 2 54 6 3 1 18 15 42 0 0 0 0 0 0 0 0 0 29 1 9 138 2 50 5 9 26 63 26 11 24 0 0 0 0 0 0 0 0 99 131 233 2 36 11 24 142 0 0 0 0 0 0 0 0 0 0 0 0 0 11 30 1 8 59 2 50 6 3 1 112 2 45 0 0 0 0 0 0 0 0 101 1 9 65 2 41 5 3 1 8 67 26 11 24 0 0 0 0 0 0 0 35 34 105 103 9 19 15 111 22 11 24 6 3 1 60 2 43 0 0 0 0 29 1 9 18 26 98 6 3 1 12 19 2 46 0 0 0 0 0 0 0 0 61 16 17 13 1 7 83 5 40 13 140 1 7 89 0 0 0 0 0 0 0 3 100 4 74 4 78 6 10 38 0 0 0 0 0 0 0 0 0 0 0 0 4 32 31 1 12 67 37 11 46 6 3 1 8 18 26 11 24 0 0 0 0 62 1 8 92 2 49 6 3 1 66 15 42 0 0 0 0 0 0 0 0 0 27 55 4 78 4 28 6 4 70 0 0 0 0 0 0 0 0 0 0 0 0 135 4 71 6 4 77 0 0 0 0 0 0 0 0 0 0 0 0 0 0 0 7 33 1 12 63 15 111 22 11 24 5 3 95 15 42 0 0 0 0 0 0 7 33 1 8 10 81 2 48 6 3 1 8 63 2 41 0 0 0 0 0 0 29 1 9 22 102 15 25 22 47 5 3 1 58 69 2 50 0 0 0 0 0 20 16 1 13 14 10 82 5 64 13 14 1 7 83 0 0 0 0 0 0 0 11 30 1 12 68 2 24 5 3 1 8 18 2 45 0 0 0 0 0 0 0 129 96 13 14 1 7 83 5 39 13 14 1 84 0 0 0 0 0 0 0 0 135 10 38 4 77 6 4 70 0 0 0 0 0 0 0 0 0 0 0 0 0 3 55 4 28 4 73 6 4 71 0 0 0 0 0 0 0 0 0 0 0 0 35 34 1 8 21 2 48 5 3 1 19 2 56 0 0 0 0 0 0 0 0 11 30 1 12 68 15 25 79 56 5 9 22 102 2 48 0 0 0 0 0 0 99 124 10 38 6 4 75 0 0 0 0 0 0 0 0 0 0 0 0 0 0 29 1 9 58 37 11 44 6 3 95 2 53 0 0 0 0 0 0 0 0 0 29 1 8 19 2 41 6 3 157 26 11 24 0 0 0 0 0 0 0 0 0 7 62 1 9 10 81 2 49 5 3 1 8 18 2 51 0 0 0 0 0 0 36 1 58 26 98 5 3 1 8 21 2 45 0 0 0 0 0 0 0 0 0 40 16 10 23 14 1 84 5 20 23 14 1 10 38 0 0 0 0 0 0 0 27 143 146 165 97 134 0 0 0 0 0 0 0 0 0 0 0 0 0 0 0 7 86 1 61 16 13 14 5 7 88 1 64 13 14 0 0 0 0 0 0 0 11 30 1 8 21 37 11 46 5 3 1 12 92 2 48 0 0 0 0 0 0 115 216 122 20 109 17 13 0 0 0 0 0 0 0 0 0 0 0 0 0 0 107 126 4 77 4 75 6 4 72 0 0 0 0 0 0 0 0 0 0 0 0 107 126 4 78 4 74 6 4 70 0 0 0 0 0 0 0 0 0 0 0 0 3 143 10 248 110 134 0 0 0 0 0 0 0 0 0 0 0 0 0 0 0 11 30 1 10 81 2 45 5 3 1 8 67 2 53 0 0 0 0 0 0 0 35 34 1 9 65 2 52 5 3 1 9 19 2 48 0 0 0 0 0 0 0 27 1 10 344 22 7 224 97 134 0 0 0 0 0 0 0 0 0 0 0 0 62 1 9 19 2 41 5 3 1 12 65 2 56 0 0 0 0 0 0 0 0 10 82 1 64 16 17 13 5 7 88 1 20 13 17 0 0 0 0 0 0 0 35 34 1 10 81 37 11 46 5 3 1 8 63 2 49 0 0 0 0 0 0 27 178 22 167 181 2 62 2 50 0 0 0 0 0 0 0 0 0 0 0 0 4 32 31 1 21 15 25 22 53 6 3 1 12 21 2 41 0 0 0 0 0 27 55 4 71 4 28 6 4 28 76 0 0 0 0 0 0 0 0 0 0 0 3 55 91 10 38 4 71 6 4 28 0 0 0 0 0 0 0 0 0 0 0 20 16 17 1 10 85 5 40 93 1 7 83 0 0 0 0 0 0 0 0 0 7 33 1 9 58 2 49 6 3 1 12 19 2 41 0 0 0 0 0 0 0 263 179 209 141 175 0 0 0 0 0 0 0 0 0 0 0 0 0 0 0 0 4 32 31 1 7 102 2 45 5 3 105 103 9 19 2 52 0 0 0 0 0 7 33 1 12 18 2 43 5 3 95 9 2 49 0 0 0 0 0 0 0 0 62 1 69 21 15 42 5 9 108 177 2 54 0 0 0 0 0 0 0 0 0 36 1 9 117 2 43 6 3 1 8 65 2 44 0 0 0 0 0 0 0 0 4 32 31 1 8 21 2 52 6 3 1 8 57 26 11 24 0 0 0 0 0 64 16 17 1 84 5 20 93 1 7 88 0 0 0 0 0 0 0 0 0 0 20 16 17 13 1 7 80 5 39 17 13 1 7 90 0 0 0 0 0 0 0 99 124 4 72 4 28 6 4 159 0 0 0 0 0 0 0 0 0 0 0 0 35 34 1 21 2 52 5 3 1 8 21 2 54 0 0 0 0 0 0 0 0 7 36 1 8 306 2 50 6 3 1 8 112 2 52 0 0 0 0 0 0 0 4 32 31 1 21 15 25 22 45 5 3 1 8 21 15 42 0 0 0 0 0 40 16 1 13 14 7 80 5 61 13 14 1 7 86 0 0 0 0 0 0 0 35 34 1 12 60 2 51 6 3 1 12 65 2 43 0 0 0 0 0 0 0 7 33 1 9 18 15 25 22 47 5 3 1 8 66 2 51 0 0 0 0 0 35 34 1 12 63 15 111 22 11 24 5 3 1 8 66 2 56 0 0 0 0 33 1 57 2 43 6 3 1 12 19 2 50 0 0 0 0 0 0 0 0 0 29 1 12 59 2 52 6 3 1 9 65 2 45 0 0 0 0 0 0 0 0 20 16 10 23 14 1 10 38 5 61 23 14 1 10 82 0 0 0 0 0 0 135 4 71 4 72 6 10 38 0 0 0 0 0 0 0 0 0 0 0 0 0 39 16 17 1 7 80 5 20 17 1 10 85 0 0 0 0 0 0 0 0 0 7 33 1 9 19 2 48 6 3 1 57 2 50 0 0 0 0 0 0 0 0 11 30 1 8 18 15 25 22 47 6 3 95 9 2 41 0 0 0 0 0 0 7 89 1 20 16 13 14 0 0 0 0 0 0 0 0 0 0 0 0 0 0 62 1 12 63 2 50 5 3 1 12 19 2 48 0 0 0 0 0 0 0 0 35 34 1 63 37 11 44 6 3 1 9 68 2 50 0 0 0 0 0 0 0 64 16 17 1 13 84 5 39 17 13 1 7 90 0 0 0 0 0 0 0 0\n\t [[Node: loss_19/time_distributed_18_loss/SparseSoftmaxCrossEntropyWithLogits/SparseSoftmaxCrossEntropyWithLogits = SparseSoftmaxCrossEntropyWithLogits[T=DT_FLOAT, Tlabels=DT_INT64, _device=\"/job:localhost/replica:0/task:0/cpu:0\"](loss_19/time_distributed_18_loss/Reshape_1, loss_19/time_distributed_18_loss/Cast)]]\n\nCaused by op 'loss_19/time_distributed_18_loss/SparseSoftmaxCrossEntropyWithLogits/SparseSoftmaxCrossEntropyWithLogits', defined at:\n  File \"/Users/nic/anaconda3/envs/aind-nlp-capstone/lib/python3.5/runpy.py\", line 193, in _run_module_as_main\n    \"__main__\", mod_spec)\n  File \"/Users/nic/anaconda3/envs/aind-nlp-capstone/lib/python3.5/runpy.py\", line 85, in _run_code\n    exec(code, run_globals)\n  File \"/Users/nic/anaconda3/envs/aind-nlp-capstone/lib/python3.5/site-packages/ipykernel_launcher.py\", line 16, in <module>\n    app.launch_new_instance()\n  File \"/Users/nic/anaconda3/envs/aind-nlp-capstone/lib/python3.5/site-packages/traitlets/config/application.py\", line 658, in launch_instance\n    app.start()\n  File \"/Users/nic/anaconda3/envs/aind-nlp-capstone/lib/python3.5/site-packages/ipykernel/kernelapp.py\", line 505, in start\n    self.io_loop.start()\n  File \"/Users/nic/anaconda3/envs/aind-nlp-capstone/lib/python3.5/site-packages/tornado/platform/asyncio.py\", line 148, in start\n    self.asyncio_loop.run_forever()\n  File \"/Users/nic/anaconda3/envs/aind-nlp-capstone/lib/python3.5/asyncio/base_events.py\", line 421, in run_forever\n    self._run_once()\n  File \"/Users/nic/anaconda3/envs/aind-nlp-capstone/lib/python3.5/asyncio/base_events.py\", line 1425, in _run_once\n    handle._run()\n  File \"/Users/nic/anaconda3/envs/aind-nlp-capstone/lib/python3.5/asyncio/events.py\", line 127, in _run\n    self._callback(*self._args)\n  File \"/Users/nic/anaconda3/envs/aind-nlp-capstone/lib/python3.5/site-packages/tornado/ioloop.py\", line 690, in <lambda>\n    lambda f: self._run_callback(functools.partial(callback, future))\n  File \"/Users/nic/anaconda3/envs/aind-nlp-capstone/lib/python3.5/site-packages/tornado/ioloop.py\", line 743, in _run_callback\n    ret = callback()\n  File \"/Users/nic/anaconda3/envs/aind-nlp-capstone/lib/python3.5/site-packages/tornado/gen.py\", line 781, in inner\n    self.run()\n  File \"/Users/nic/anaconda3/envs/aind-nlp-capstone/lib/python3.5/site-packages/tornado/gen.py\", line 742, in run\n    yielded = self.gen.send(value)\n  File \"/Users/nic/anaconda3/envs/aind-nlp-capstone/lib/python3.5/site-packages/ipykernel/kernelbase.py\", line 378, in dispatch_queue\n    yield self.process_one()\n  File \"/Users/nic/anaconda3/envs/aind-nlp-capstone/lib/python3.5/site-packages/tornado/gen.py\", line 225, in wrapper\n    runner = Runner(result, future, yielded)\n  File \"/Users/nic/anaconda3/envs/aind-nlp-capstone/lib/python3.5/site-packages/tornado/gen.py\", line 708, in __init__\n    self.run()\n  File \"/Users/nic/anaconda3/envs/aind-nlp-capstone/lib/python3.5/site-packages/tornado/gen.py\", line 742, in run\n    yielded = self.gen.send(value)\n  File \"/Users/nic/anaconda3/envs/aind-nlp-capstone/lib/python3.5/site-packages/ipykernel/kernelbase.py\", line 365, in process_one\n    yield gen.maybe_future(dispatch(*args))\n  File \"/Users/nic/anaconda3/envs/aind-nlp-capstone/lib/python3.5/site-packages/tornado/gen.py\", line 209, in wrapper\n    yielded = next(result)\n  File \"/Users/nic/anaconda3/envs/aind-nlp-capstone/lib/python3.5/site-packages/ipykernel/kernelbase.py\", line 272, in dispatch_shell\n    yield gen.maybe_future(handler(stream, idents, msg))\n  File \"/Users/nic/anaconda3/envs/aind-nlp-capstone/lib/python3.5/site-packages/tornado/gen.py\", line 209, in wrapper\n    yielded = next(result)\n  File \"/Users/nic/anaconda3/envs/aind-nlp-capstone/lib/python3.5/site-packages/ipykernel/kernelbase.py\", line 542, in execute_request\n    user_expressions, allow_stdin,\n  File \"/Users/nic/anaconda3/envs/aind-nlp-capstone/lib/python3.5/site-packages/tornado/gen.py\", line 209, in wrapper\n    yielded = next(result)\n  File \"/Users/nic/anaconda3/envs/aind-nlp-capstone/lib/python3.5/site-packages/ipykernel/ipkernel.py\", line 294, in do_execute\n    res = shell.run_cell(code, store_history=store_history, silent=silent)\n  File \"/Users/nic/anaconda3/envs/aind-nlp-capstone/lib/python3.5/site-packages/ipykernel/zmqshell.py\", line 536, in run_cell\n    return super(ZMQInteractiveShell, self).run_cell(*args, **kwargs)\n  File \"/Users/nic/anaconda3/envs/aind-nlp-capstone/lib/python3.5/site-packages/IPython/core/interactiveshell.py\", line 2848, in run_cell\n    raw_cell, store_history, silent, shell_futures)\n  File \"/Users/nic/anaconda3/envs/aind-nlp-capstone/lib/python3.5/site-packages/IPython/core/interactiveshell.py\", line 2874, in _run_cell\n    return runner(coro)\n  File \"/Users/nic/anaconda3/envs/aind-nlp-capstone/lib/python3.5/site-packages/IPython/core/async_helpers.py\", line 67, in _pseudo_sync_runner\n    coro.send(None)\n  File \"/Users/nic/anaconda3/envs/aind-nlp-capstone/lib/python3.5/site-packages/IPython/core/interactiveshell.py\", line 3049, in run_cell_async\n    interactivity=interactivity, compiler=compiler, result=result)\n  File \"/Users/nic/anaconda3/envs/aind-nlp-capstone/lib/python3.5/site-packages/IPython/core/interactiveshell.py\", line 3214, in run_ast_nodes\n    if (yield from self.run_code(code, result)):\n  File \"/Users/nic/anaconda3/envs/aind-nlp-capstone/lib/python3.5/site-packages/IPython/core/interactiveshell.py\", line 3296, in run_code\n    exec(code_obj, self.user_global_ns, self.user_ns)\n  File \"<ipython-input-46-0385eafd71c2>\", line 44, in <module>\n    french_vocab_size)\n  File \"<ipython-input-46-0385eafd71c2>\", line 27, in simple_model\n    metrics=['accuracy'])\n  File \"/Users/nic/anaconda3/envs/aind-nlp-capstone/lib/python3.5/site-packages/keras/models.py\", line 821, in compile\n    **kwargs)\n  File \"/Users/nic/anaconda3/envs/aind-nlp-capstone/lib/python3.5/site-packages/keras/engine/training.py\", line 860, in compile\n    sample_weight, mask)\n  File \"/Users/nic/anaconda3/envs/aind-nlp-capstone/lib/python3.5/site-packages/keras/engine/training.py\", line 459, in weighted\n    score_array = fn(y_true, y_pred)\n  File \"/Users/nic/anaconda3/envs/aind-nlp-capstone/lib/python3.5/site-packages/keras/losses.py\", line 62, in sparse_categorical_crossentropy\n    return K.sparse_categorical_crossentropy(y_true, y_pred)\n  File \"/Users/nic/anaconda3/envs/aind-nlp-capstone/lib/python3.5/site-packages/keras/backend/tensorflow_backend.py\", line 2922, in sparse_categorical_crossentropy\n    logits=logits)\n  File \"/Users/nic/anaconda3/envs/aind-nlp-capstone/lib/python3.5/site-packages/tensorflow/python/ops/nn_ops.py\", line 1742, in sparse_softmax_cross_entropy_with_logits\n    precise_logits, labels, name=name)\n  File \"/Users/nic/anaconda3/envs/aind-nlp-capstone/lib/python3.5/site-packages/tensorflow/python/ops/gen_nn_ops.py\", line 2418, in _sparse_softmax_cross_entropy_with_logits\n    features=features, labels=labels, name=name)\n  File \"/Users/nic/anaconda3/envs/aind-nlp-capstone/lib/python3.5/site-packages/tensorflow/python/framework/op_def_library.py\", line 768, in apply_op\n    op_def=op_def)\n  File \"/Users/nic/anaconda3/envs/aind-nlp-capstone/lib/python3.5/site-packages/tensorflow/python/framework/ops.py\", line 2336, in create_op\n    original_op=self._default_original_op, op_def=op_def)\n  File \"/Users/nic/anaconda3/envs/aind-nlp-capstone/lib/python3.5/site-packages/tensorflow/python/framework/ops.py\", line 1228, in __init__\n    self._traceback = _extract_stack()\n\nInvalidArgumentError (see above for traceback): Received a label value of 344 which is outside the valid range of [0, 344).  Label values: 10 38 1 20 16 17 5 7 83 1 39 17 0 0 0 0 0 0 0 0 0 99 124 4 72 4 77 6 4 75 0 0 0 0 0 0 0 0 0 0 0 0 20 16 1 13 14 84 5 39 13 14 1 7 86 0 0 0 0 0 0 0 0 3 55 91 10 38 4 73 6 4 71 0 0 0 0 0 0 0 0 0 0 0 101 1 9 18 2 48 6 3 1 12 19 2 53 0 0 0 0 0 0 0 0 10 85 1 61 16 13 14 5 7 86 27 1 13 14 0 0 0 0 0 0 0 20 109 10 23 14 1 192 236 0 0 0 0 0 0 0 0 0 0 0 0 0 29 1 21 2 45 6 3 1 8 139 26 11 24 0 0 0 0 0 0 0 0 27 145 121 148 97 153 0 0 0 0 0 0 0 0 0 0 0 0 0 0 0 3 55 4 78 4 72 6 4 74 0 0 0 0 0 0 0 0 0 0 0 0 3 55 4 75 4 78 6 4 73 0 0 0 0 0 0 0 0 0 0 0 0 101 1 58 69 2 43 5 3 1 12 65 2 56 0 0 0 0 0 0 0 0 11 30 1 12 59 2 53 5 3 1 9 60 2 52 0 0 0 0 0 0 0 7 36 1 10 81 69 15 42 5 3 1 8 137 2 43 0 0 0 0 0 0 3 55 4 78 4 70 6 4 28 76 0 0 0 0 0 0 0 0 0 0 0 36 1 19 37 11 44 6 3 1 8 63 2 45 0 0 0 0 0 0 0 0 11 30 1 9 125 2 52 5 3 1 8 10 81 2 53 0 0 0 0 0 0 191 96 13 14 1 7 83 5 64 13 14 1 7 80 0 0 0 0 0 0 0 11 30 1 8 7 102 2 43 6 3 1 21 2 49 0 0 0 0 0 0 0 3 100 4 72 10 38 6 4 75 0 0 0 0 0 0 0 0 0 0 0 0 7 80 1 20 16 10 23 14 5 7 86 1 61 23 14 0 0 0 0 0 0 4 32 31 1 9 66 2 48 6 3 1 67 2 51 0 0 0 0 0 0 0 27 55 4 74 10 38 6 4 71 0 0 0 0 0 0 0 0 0 0 0 0 39 13 14 1 10 16 22 38 5 27 1 13 14 84 0 0 0 0 0 0 0 11 30 1 8 65 37 11 46 6 3 1 8 19 2 52 0 0 0 0 0 0 27 143 121 151 97 134 0 0 0 0 0 0 0 0 0 0 0 0 0 0 0 3 158 91 7 147 97 162 0 0 0 0 0 0 0 0 0 0 0 0 0 0 146 10 218 1 40 109 10 23 14 0 0 0 0 0 0 0 0 0 0 0 0 10 220 1 20 109 10 23 14 0 0 0 0 0 0 0 0 0 0 0 0 0 29 1 12 19 15 25 22 47 6 3 1 9 57 2 50 0 0 0 0 0 0 7 33 1 9 18 2 46 5 3 1 12 67 2 43 0 0 0 0 0 0 0 101 1 9 65 15 25 22 51 5 3 1 21 2 54 0 0 0 0 0 0 0 35 34 1 9 66 2 48 5 3 1 8 68 15 42 0 0 0 0 0 0 0 62 1 8 60 2 43 5 3 1 12 67 2 52 0 0 0 0 0 0 0 0 7 33 1 12 21 2 41 5 3 1 8 67 2 54 0 0 0 0 0 0 0 10 82 1 20 16 10 23 14 5 7 90 27 1 10 23 14 0 0 0 0 0 1 3 223 15 35 34 0 0 0 0 0 0 0 0 0 0 0 0 0 0 0 4 32 31 1 9 58 15 25 22 48 6 3 1 8 60 26 11 24 0 0 0 20 16 17 1 7 88 5 20 17 1 10 85 0 0 0 0 0 0 0 0 0 11 30 1 59 15 25 22 53 6 3 1 21 2 43 0 0 0 0 0 0 0 3 158 91 144 163 110 166 0 0 0 0 0 0 0 0 0 0 0 0 0 0 7 86 1 64 16 17 5 7 83 1 20 93 0 0 0 0 0 0 0 0 0 35 34 1 19 15 25 22 45 5 3 1 12 18 2 48 0 0 0 0 0 0 11 30 1 104 15 42 6 3 105 103 9 19 2 49 0 0 0 0 0 0 0 20 16 10 23 14 1 84 5 40 23 14 1 7 90 0 0 0 0 0 0 0 62 105 103 9 19 15 25 22 45 5 3 1 8 21 26 11 24 0 0 0 0 3 113 120 168 97 155 0 0 0 0 0 0 0 0 0 0 0 0 0 0 0 64 16 17 1 10 38 5 39 17 1 7 86 0 0 0 0 0 0 0 0 0 35 34 1 9 66 15 111 22 11 24 6 3 1 8 68 2 43 0 0 0 0 33 1 66 37 11 24 6 3 1 8 10 81 2 53 0 0 0 0 0 0 0 4 32 31 1 12 21 2 52 6 3 1 8 18 2 41 0 0 0 0 0 0 29 1 9 59 2 43 6 3 1 12 63 2 45 0 0 0 0 0 0 0 0 29 1 8 60 15 25 22 48 5 3 1 8 19 2 44 0 0 0 0 0 0 35 34 1 12 59 26 98 5 3 1 9 18 2 47 0 0 0 0 0 0 0 36 1 9 7 102 2 49 6 3 1 8 59 2 47 0 0 0 0 0 0 0 7 33 1 8 58 2 48 6 3 1 67 2 43 0 0 0 0 0 0 0 0 62 1 8 57 2 50 5 3 1 8 68 2 56 0 0 0 0 0 0 0 0 35 34 1 9 18 2 43 5 3 1 21 2 52 0 0 0 0 0 0 0 0 62 1 8 104 15 42 6 3 1 12 57 26 11 24 0 0 0 0 0 0 0 107 126 10 38 4 70 6 4 78 0 0 0 0 0 0 0 0 0 0 0 0 36 1 9 59 37 11 46 5 3 1 8 19 2 51 0 0 0 0 0 0 0 7 33 1 10 81 2 41 6 3 1 57 26 11 24 0 0 0 0 0 0 0 35 34 1 60 2 41 5 3 1 8 59 2 50 0 0 0 0 0 0 0 0 7 83 1 10 16 10 23 14 64 5 10 82 1 10 23 14 0 0 0 0 0 84 1 20 16 17 13 5 7 88 1 61 13 17 0 0 0 0 0 0 0 0 99 127 91 28 76 4 77 6 4 71 0 0 0 0 0 0 0 0 0 0 0 7 36 1 8 10 81 2 48 6 3 1 9 19 2 52 0 0 0 0 0 0 29 1 8 10 81 2 43 5 3 1 19 2 50 0 0 0 0 0 0 0 0 4 32 31 1 9 117 2 50 6 3 1 65 2 51 0 0 0 0 0 0 0 101 1 8 18 2 53 5 3 1 8 19 15 42 0 0 0 0 0 0 0 0 7 33 1 9 60 2 48 5 3 1 19 2 47 0 0 0 0 0 0 0 0 99 127 91 4 77 4 74 6 4 75 0 0 0 0 0 0 0 0 0 0 0 39 16 10 23 14 1 7 87 5 64 23 14 1 10 85 0 0 0 0 0 0 7 33 1 60 26 98 5 3 1 12 92 2 41 0 0 0 0 0 0 0 0 11 30 1 104 26 98 5 3 1 9 59 2 49 0 0 0 0 0 0 0 0 29 1 59 26 98 5 3 1 58 2 52 0 0 0 0 0 0 0 0 0 0 3 55 4 73 4 28 6 4 28 76 0 0 0 0 0 0 0 0 0 0 0 36 1 19 2 52 5 3 1 21 2 50 0 0 0 0 0 0 0 0 0 0 29 1 12 59 2 49 6 3 1 9 22 102 2 41 0 0 0 0 0 0 0 7 89 1 20 16 17 13 5 7 86 1 39 17 13 0 0 0 0 0 0 0 10 85 1 20 16 13 14 5 7 88 1 61 13 14 0 0 0 0 0 0 0 29 1 57 15 25 22 48 5 3 1 65 26 11 24 0 0 0 0 0 0 0 106 130 4 74 6 4 71 0 0 0 0 0 0 0 0 0 0 0 0 0 0 101 1 8 18 37 11 44 5 3 1 67 2 43 0 0 0 0 0 0 0 0 4 32 31 1 9 68 2 54 5 3 1 8 19 2 51 0 0 0 0 0 0 20 16 1 13 14 7 83 5 61 13 14 1 7 88 0 0 0 0 0 0 0 99 127 10 38 4 75 6 4 70 0 0 0 0 0 0 0 0 0 0 0 0 99 127 4 75 28 76 6 4 71 0 0 0 0 0 0 0 0 0 0 0 0 40 16 17 13 1 10 38 5 64 13 17 1 7 80 0 0 0 0 0 0 0 29 1 8 18 37 11 44 5 3 1 9 19 2 43 0 0 0 0 0 0 0 4 32 31 1 12 18 15 42 5 3 1 8 66 26 11 24 0 0 0 0 0 36 1 104 2 45 6 3 1 8 18 2 46 0 0 0 0 0 0 0 0 0 116 100 4 78 4 77 6 4 71 0 0 0 0 0 0 0 0 0 0 0 0 3 94 4 71 4 78 6 4 75 0 0 0 0 0 0 0 0 0 0 0 0 3 55 91 4 77 6 4 74 0 0 0 0 0 0 0 0 0 0 0 0 0 11 30 1 243 15 42 6 3 1 9 65 2 56 0 0 0 0 0 0 0 0 33 105 103 9 19 2 41 5 3 1 69 21 2 48 0 0 0 0 0 0 0 7 89 1 39 13 14 108 96 5 10 85 1 61 13 14 0 0 0 0 0 0 7 80 1 20 13 14 108 96 5 7 87 1 39 13 14 0 0 0 0 0 0 4 32 31 1 19 37 11 44 5 3 1 21 15 42 0 0 0 0 0 0 0 35 34 1 58 8 2 49 5 3 95 69 2 56 0 0 0 0 0 0 0 0 4 32 31 1 9 66 2 49 6 3 1 8 92 2 53 0 0 0 0 0 0 35 34 1 9 18 2 52 5 3 1 9 60 26 11 24 0 0 0 0 0 0 3 55 10 38 28 76 6 4 77 0 0 0 0 0 0 0 0 0 0 0 0 4 32 31 1 9 125 2 43 6 3 1 65 2 44 0 0 0 0 0 0 0 3 118 113 7 97 150 174 0 0 0 0 0 0 0 0 0 0 0 0 0 0 64 16 1 13 14 10 82 5 20 13 14 1 10 38 0 0 0 0 0 0 0 4 32 31 1 9 65 2 49 6 3 1 8 57 2 50 0 0 0 0 0 0 3 55 91 28 76 10 38 6 4 28 0 0 0 0 0 0 0 0 0 0 0 11 30 1 12 92 15 25 79 56 5 3 1 21 2 47 0 0 0 0 0 0 27 143 7 151 97 153 0 0 0 0 0 0 0 0 0 0 0 0 0 0 0 62 1 9 63 2 50 5 3 1 68 2 54 0 0 0 0 0 0 0 0 0 35 34 1 9 57 2 54 5 3 1 9 21 2 41 0 0 0 0 0 0 0 20 16 17 1 13 7 88 5 20 13 17 1 10 38 0 0 0 0 0 0 0 36 1 12 18 2 41 6 3 1 12 63 2 50 0 0 0 0 0 0 0 0 11 30 1 12 19 15 42 5 3 1 57 2 47 0 0 0 0 0 0 0 0 212 99 124 278 0 0 0 0 0 0 0 0 0 0 0 0 0 0 0 0 0 7 87 1 20 16 10 23 14 5 7 89 1 64 23 14 0 0 0 0 0 0 3 94 4 70 4 78 6 4 73 0 0 0 0 0 0 0 0 0 0 0 0 135 4 74 4 73 6 4 28 0 0 0 0 0 0 0 0 0 0 0 0 0 11 30 1 9 19 2 50 5 3 1 21 2 49 0 0 0 0 0 0 0 0 27 94 4 28 4 77 6 28 76 0 0 0 0 0 0 0 0 0 0 0 0 29 1 9 26 63 15 42 6 3 1 9 65 2 43 0 0 0 0 0 0 0 7 90 1 20 16 17 5 10 85 1 39 17 0 0 0 0 0 0 0 0 0 36 1 9 125 2 50 5 3 1 60 2 51 0 0 0 0 0 0 0 0 0 7 90 1 64 16 17 13 5 7 89 1 20 13 17 0 0 0 0 0 0 0 7 33 1 104 2 24 6 3 1 9 59 2 44 0 0 0 0 0 0 0 0 27 55 7 288 153 193 0 0 0 0 0 0 0 0 0 0 0 0 0 0 0 11 30 1 9 21 15 42 6 3 1 68 2 50 0 0 0 0 0 0 0 0 20 16 17 1 10 38 5 61 17 1 7 80 0 0 0 0 0 0 0 0 0 11 30 1 104 2 50 6 3 95 9 2 56 0 0 0 0 0 0 0 0 0 7 62 1 10 81 2 49 6 3 1 9 65 2 56 0 0 0 0 0 0 0 3 55 4 70 6 4 75 0 0 0 0 0 0 0 0 0 0 0 0 0 0 27 113 120 148 97 150 0 0 0 0 0 0 0 0 0 0 0 0 0 0 0 106 130 28 76 4 74 6 4 73 0 0 0 0 0 0 0 0 0 0 0 0 20 16 10 23 14 1 10 85 5 61 23 14 1 7 89 0 0 0 0 0 0 4 32 31 1 9 19 15 25 22 47 5 3 1 8 67 2 50 0 0 0 0 27 55 4 77 4 74 6 4 78 0 0 0 0 0 0 0 0 0 0 0 0 29 1 69 21 2 41 6 3 1 8 10 81 2 53 0 0 0 0 0 0 0 116 100 4 74 4 72 6 4 77 0 0 0 0 0 0 0 0 0 0 0 0 29 1 9 66 15 111 22 11 24 5 9 22 102 2 52 0 0 0 0 0 0 129 96 10 23 14 1 7 80 5 61 23 14 1 7 88 0 0 0 0 0 0 29 1 12 66 15 25 22 51 5 3 1 9 18 2 48 0 0 0 0 0 0 146 7 201 1 39 109 10 23 156 0 0 0 0 0 0 0 0 0 0 0 0 4 32 31 1 9 19 2 41 6 3 1 8 59 26 11 24 0 0 0 0 0 27 55 4 74 4 70 6 4 28 0 0 0 0 0 0 0 0 0 0 0 0 29 1 8 112 15 25 22 51 5 3 1 66 2 50 0 0 0 0 0 0 0 3 160 171 1 198 22 164 185 187 0 0 0 0 0 0 0 0 0 0 0 0 27 55 4 77 78 6 28 0 0 0 0 0 0 0 0 0 0 0 0 0 0 3 100 4 75 28 76 6 4 74 0 0 0 0 0 0 0 0 0 0 0 0 11 30 1 9 59 37 11 44 5 3 1 8 18 2 52 0 0 0 0 0 0 106 130 28 76 4 73 6 4 28 0 0 0 0 0 0 0 0 0 0 0 0 4 32 31 1 8 21 15 25 79 56 5 3 1 8 60 2 46 0 0 0 0 11 30 1 7 102 2 54 5 3 1 9 21 2 56 0 0 0 0 0 0 0 27 94 10 38 4 71 6 4 78 0 0 0 0 0 0 0 0 0 0 0 0 116 100 38 4 71 6 4 78 0 0 0 0 0 0 0 0 0 0 0 0 0 20 16 1 13 14 7 87 5 40 13 14 1 10 38 0 0 0 0 0 0 0 36 1 8 63 37 11 46 5 3 1 21 2 53 0 0 0 0 0 0 0 0 84 1 20 16 10 23 14 5 7 83 1 64 23 14 0 0 0 0 0 0 0 7 90 1 61 16 13 14 5 7 83 1 64 13 14 0 0 0 0 0 0 0 29 1 68 2 52 6 3 1 8 19 2 41 0 0 0 0 0 0 0 0 0 27 55 4 70 4 74 6 4 77 0 0 0 0 0 0 0 0 0 0 0 0 11 30 1 18 2 52 5 3 1 12 57 2 43 0 0 0 0 0 0 0 0 29 1 9 19 2 52 6 3 1 9 57 2 49 0 0 0 0 0 0 0 0 36 105 103 9 19 15 25 79 56 5 3 1 58 69 2 44 0 0 0 0 0 20 16 10 23 14 1 7 86 5 39 23 14 1 7 87 0 0 0 0 0 0 135 4 73 4 28 76 6 4 74 0 0 0 0 0 0 0 0 0 0 0 0 29 1 9 58 2 53 5 3 1 9 21 2 48 0 0 0 0 0 0 0 0 35 34 1 8 21 2 49 6 3 1 59 2 43 0 0 0 0 0 0 0 0 29 1 8 63 2 49 5 3 1 12 66 2 53 0 0 0 0 0 0 0 0 36 1 63 2 52 5 3 1 8 21 2 53 0 0 0 0 0 0 0 0 0 29 1 68 15 25 22 51 5 3 1 8 65 26 11 24 0 0 0 0 0 0 7 80 1 64 16 17 5 10 38 1 61 17 0 0 0 0 0 0 0 0 0 7 33 1 12 59 2 43 5 3 1 12 68 26 11 24 0 0 0 0 0 0 116 207 22 136 7 36 2 46 0 0 0 0 0 0 0 0 0 0 0 0 0 64 16 17 1 10 38 5 20 17 1 7 88 0 0 0 0 0 0 0 0 0 3 55 115 248 110 176 0 0 0 0 0 0 0 0 0 0 0 0 0 0 0 35 34 1 9 117 15 42 6 3 1 21 2 48 0 0 0 0 0 0 0 0 35 34 1 19 2 54 5 3 1 9 59 2 41 0 0 0 0 0 0 0 0 27 94 4 75 6 4 78 0 0 0 0 0 0 0 0 0 0 0 0 0 0 3 94 121 147 97 153 0 0 0 0 0 0 0 0 0 0 0 0 0 0 0 36 1 8 18 2 54 6 3 1 18 15 42 0 0 0 0 0 0 0 0 0 29 1 9 138 2 50 5 9 26 63 26 11 24 0 0 0 0 0 0 0 0 99 131 233 2 36 11 24 142 0 0 0 0 0 0 0 0 0 0 0 0 0 11 30 1 8 59 2 50 6 3 1 112 2 45 0 0 0 0 0 0 0 0 101 1 9 65 2 41 5 3 1 8 67 26 11 24 0 0 0 0 0 0 0 35 34 105 103 9 19 15 111 22 11 24 6 3 1 60 2 43 0 0 0 0 29 1 9 18 26 98 6 3 1 12 19 2 46 0 0 0 0 0 0 0 0 61 16 17 13 1 7 83 5 40 13 140 1 7 89 0 0 0 0 0 0 0 3 100 4 74 4 78 6 10 38 0 0 0 0 0 0 0 0 0 0 0 0 4 32 31 1 12 67 37 11 46 6 3 1 8 18 26 11 24 0 0 0 0 62 1 8 92 2 49 6 3 1 66 15 42 0 0 0 0 0 0 0 0 0 27 55 4 78 4 28 6 4 70 0 0 0 0 0 0 0 0 0 0 0 0 135 4 71 6 4 77 0 0 0 0 0 0 0 0 0 0 0 0 0 0 0 7 33 1 12 63 15 111 22 11 24 5 3 95 15 42 0 0 0 0 0 0 7 33 1 8 10 81 2 48 6 3 1 8 63 2 41 0 0 0 0 0 0 29 1 9 22 102 15 25 22 47 5 3 1 58 69 2 50 0 0 0 0 0 20 16 1 13 14 10 82 5 64 13 14 1 7 83 0 0 0 0 0 0 0 11 30 1 12 68 2 24 5 3 1 8 18 2 45 0 0 0 0 0 0 0 129 96 13 14 1 7 83 5 39 13 14 1 84 0 0 0 0 0 0 0 0 135 10 38 4 77 6 4 70 0 0 0 0 0 0 0 0 0 0 0 0 0 3 55 4 28 4 73 6 4 71 0 0 0 0 0 0 0 0 0 0 0 0 35 34 1 8 21 2 48 5 3 1 19 2 56 0 0 0 0 0 0 0 0 11 30 1 12 68 15 25 79 56 5 9 22 102 2 48 0 0 0 0 0 0 99 124 10 38 6 4 75 0 0 0 0 0 0 0 0 0 0 0 0 0 0 29 1 9 58 37 11 44 6 3 95 2 53 0 0 0 0 0 0 0 0 0 29 1 8 19 2 41 6 3 157 26 11 24 0 0 0 0 0 0 0 0 0 7 62 1 9 10 81 2 49 5 3 1 8 18 2 51 0 0 0 0 0 0 36 1 58 26 98 5 3 1 8 21 2 45 0 0 0 0 0 0 0 0 0 40 16 10 23 14 1 84 5 20 23 14 1 10 38 0 0 0 0 0 0 0 27 143 146 165 97 134 0 0 0 0 0 0 0 0 0 0 0 0 0 0 0 7 86 1 61 16 13 14 5 7 88 1 64 13 14 0 0 0 0 0 0 0 11 30 1 8 21 37 11 46 5 3 1 12 92 2 48 0 0 0 0 0 0 115 216 122 20 109 17 13 0 0 0 0 0 0 0 0 0 0 0 0 0 0 107 126 4 77 4 75 6 4 72 0 0 0 0 0 0 0 0 0 0 0 0 107 126 4 78 4 74 6 4 70 0 0 0 0 0 0 0 0 0 0 0 0 3 143 10 248 110 134 0 0 0 0 0 0 0 0 0 0 0 0 0 0 0 11 30 1 10 81 2 45 5 3 1 8 67 2 53 0 0 0 0 0 0 0 35 34 1 9 65 2 52 5 3 1 9 19 2 48 0 0 0 0 0 0 0 27 1 10 344 22 7 224 97 134 0 0 0 0 0 0 0 0 0 0 0 0 62 1 9 19 2 41 5 3 1 12 65 2 56 0 0 0 0 0 0 0 0 10 82 1 64 16 17 13 5 7 88 1 20 13 17 0 0 0 0 0 0 0 35 34 1 10 81 37 11 46 5 3 1 8 63 2 49 0 0 0 0 0 0 27 178 22 167 181 2 62 2 50 0 0 0 0 0 0 0 0 0 0 0 0 4 32 31 1 21 15 25 22 53 6 3 1 12 21 2 41 0 0 0 0 0 27 55 4 71 4 28 6 4 28 76 0 0 0 0 0 0 0 0 0 0 0 3 55 91 10 38 4 71 6 4 28 0 0 0 0 0 0 0 0 0 0 0 20 16 17 1 10 85 5 40 93 1 7 83 0 0 0 0 0 0 0 0 0 7 33 1 9 58 2 49 6 3 1 12 19 2 41 0 0 0 0 0 0 0 263 179 209 141 175 0 0 0 0 0 0 0 0 0 0 0 0 0 0 0 0 4 32 31 1 7 102 2 45 5 3 105 103 9 19 2 52 0 0 0 0 0 7 33 1 12 18 2 43 5 3 95 9 2 49 0 0 0 0 0 0 0 0 62 1 69 21 15 42 5 9 108 177 2 54 0 0 0 0 0 0 0 0 0 36 1 9 117 2 43 6 3 1 8 65 2 44 0 0 0 0 0 0 0 0 4 32 31 1 8 21 2 52 6 3 1 8 57 26 11 24 0 0 0 0 0 64 16 17 1 84 5 20 93 1 7 88 0 0 0 0 0 0 0 0 0 0 20 16 17 13 1 7 80 5 39 17 13 1 7 90 0 0 0 0 0 0 0 99 124 4 72 4 28 6 4 159 0 0 0 0 0 0 0 0 0 0 0 0 35 34 1 21 2 52 5 3 1 8 21 2 54 0 0 0 0 0 0 0 0 7 36 1 8 306 2 50 6 3 1 8 112 2 52 0 0 0 0 0 0 0 4 32 31 1 21 15 25 22 45 5 3 1 8 21 15 42 0 0 0 0 0 40 16 1 13 14 7 80 5 61 13 14 1 7 86 0 0 0 0 0 0 0 35 34 1 12 60 2 51 6 3 1 12 65 2 43 0 0 0 0 0 0 0 7 33 1 9 18 15 25 22 47 5 3 1 8 66 2 51 0 0 0 0 0 35 34 1 12 63 15 111 22 11 24 5 3 1 8 66 2 56 0 0 0 0 33 1 57 2 43 6 3 1 12 19 2 50 0 0 0 0 0 0 0 0 0 29 1 12 59 2 52 6 3 1 9 65 2 45 0 0 0 0 0 0 0 0 20 16 10 23 14 1 10 38 5 61 23 14 1 10 82 0 0 0 0 0 0 135 4 71 4 72 6 10 38 0 0 0 0 0 0 0 0 0 0 0 0 0 39 16 17 1 7 80 5 20 17 1 10 85 0 0 0 0 0 0 0 0 0 7 33 1 9 19 2 48 6 3 1 57 2 50 0 0 0 0 0 0 0 0 11 30 1 8 18 15 25 22 47 6 3 95 9 2 41 0 0 0 0 0 0 7 89 1 20 16 13 14 0 0 0 0 0 0 0 0 0 0 0 0 0 0 62 1 12 63 2 50 5 3 1 12 19 2 48 0 0 0 0 0 0 0 0 35 34 1 63 37 11 44 6 3 1 9 68 2 50 0 0 0 0 0 0 0 64 16 17 1 13 84 5 39 17 13 1 7 90 0 0 0 0 0 0 0 0\n\t [[Node: loss_19/time_distributed_18_loss/SparseSoftmaxCrossEntropyWithLogits/SparseSoftmaxCrossEntropyWithLogits = SparseSoftmaxCrossEntropyWithLogits[T=DT_FLOAT, Tlabels=DT_INT64, _device=\"/job:localhost/replica:0/task:0/cpu:0\"](loss_19/time_distributed_18_loss/Reshape_1, loss_19/time_distributed_18_loss/Cast)]]\n",
     "output_type": "error",
     "traceback": [
      "\u001b[0;31m---------------------------------------------------------------------------\u001b[0m",
      "\u001b[0;31mInvalidArgumentError\u001b[0m                      Traceback (most recent call last)",
      "\u001b[0;32m~/anaconda3/envs/aind-nlp-capstone/lib/python3.5/site-packages/tensorflow/python/client/session.py\u001b[0m in \u001b[0;36m_do_call\u001b[0;34m(self, fn, *args)\u001b[0m\n\u001b[1;32m   1038\u001b[0m     \u001b[0;32mtry\u001b[0m\u001b[0;34m:\u001b[0m\u001b[0;34m\u001b[0m\u001b[0m\n\u001b[0;32m-> 1039\u001b[0;31m       \u001b[0;32mreturn\u001b[0m \u001b[0mfn\u001b[0m\u001b[0;34m(\u001b[0m\u001b[0;34m*\u001b[0m\u001b[0margs\u001b[0m\u001b[0;34m)\u001b[0m\u001b[0;34m\u001b[0m\u001b[0m\n\u001b[0m\u001b[1;32m   1040\u001b[0m     \u001b[0;32mexcept\u001b[0m \u001b[0merrors\u001b[0m\u001b[0;34m.\u001b[0m\u001b[0mOpError\u001b[0m \u001b[0;32mas\u001b[0m \u001b[0me\u001b[0m\u001b[0;34m:\u001b[0m\u001b[0;34m\u001b[0m\u001b[0m\n",
      "\u001b[0;32m~/anaconda3/envs/aind-nlp-capstone/lib/python3.5/site-packages/tensorflow/python/client/session.py\u001b[0m in \u001b[0;36m_run_fn\u001b[0;34m(session, feed_dict, fetch_list, target_list, options, run_metadata)\u001b[0m\n\u001b[1;32m   1020\u001b[0m                                  \u001b[0mfeed_dict\u001b[0m\u001b[0;34m,\u001b[0m \u001b[0mfetch_list\u001b[0m\u001b[0;34m,\u001b[0m \u001b[0mtarget_list\u001b[0m\u001b[0;34m,\u001b[0m\u001b[0;34m\u001b[0m\u001b[0m\n\u001b[0;32m-> 1021\u001b[0;31m                                  status, run_metadata)\n\u001b[0m\u001b[1;32m   1022\u001b[0m \u001b[0;34m\u001b[0m\u001b[0m\n",
      "\u001b[0;32m~/anaconda3/envs/aind-nlp-capstone/lib/python3.5/contextlib.py\u001b[0m in \u001b[0;36m__exit__\u001b[0;34m(self, type, value, traceback)\u001b[0m\n\u001b[1;32m     65\u001b[0m             \u001b[0;32mtry\u001b[0m\u001b[0;34m:\u001b[0m\u001b[0;34m\u001b[0m\u001b[0m\n\u001b[0;32m---> 66\u001b[0;31m                 \u001b[0mnext\u001b[0m\u001b[0;34m(\u001b[0m\u001b[0mself\u001b[0m\u001b[0;34m.\u001b[0m\u001b[0mgen\u001b[0m\u001b[0;34m)\u001b[0m\u001b[0;34m\u001b[0m\u001b[0m\n\u001b[0m\u001b[1;32m     67\u001b[0m             \u001b[0;32mexcept\u001b[0m \u001b[0mStopIteration\u001b[0m\u001b[0;34m:\u001b[0m\u001b[0;34m\u001b[0m\u001b[0m\n",
      "\u001b[0;32m~/anaconda3/envs/aind-nlp-capstone/lib/python3.5/site-packages/tensorflow/python/framework/errors_impl.py\u001b[0m in \u001b[0;36mraise_exception_on_not_ok_status\u001b[0;34m()\u001b[0m\n\u001b[1;32m    465\u001b[0m           \u001b[0mcompat\u001b[0m\u001b[0;34m.\u001b[0m\u001b[0mas_text\u001b[0m\u001b[0;34m(\u001b[0m\u001b[0mpywrap_tensorflow\u001b[0m\u001b[0;34m.\u001b[0m\u001b[0mTF_Message\u001b[0m\u001b[0;34m(\u001b[0m\u001b[0mstatus\u001b[0m\u001b[0;34m)\u001b[0m\u001b[0;34m)\u001b[0m\u001b[0;34m,\u001b[0m\u001b[0;34m\u001b[0m\u001b[0m\n\u001b[0;32m--> 466\u001b[0;31m           pywrap_tensorflow.TF_GetCode(status))\n\u001b[0m\u001b[1;32m    467\u001b[0m   \u001b[0;32mfinally\u001b[0m\u001b[0;34m:\u001b[0m\u001b[0;34m\u001b[0m\u001b[0m\n",
      "\u001b[0;31mInvalidArgumentError\u001b[0m: Received a label value of 344 which is outside the valid range of [0, 344).  Label values: 10 38 1 20 16 17 5 7 83 1 39 17 0 0 0 0 0 0 0 0 0 99 124 4 72 4 77 6 4 75 0 0 0 0 0 0 0 0 0 0 0 0 20 16 1 13 14 84 5 39 13 14 1 7 86 0 0 0 0 0 0 0 0 3 55 91 10 38 4 73 6 4 71 0 0 0 0 0 0 0 0 0 0 0 101 1 9 18 2 48 6 3 1 12 19 2 53 0 0 0 0 0 0 0 0 10 85 1 61 16 13 14 5 7 86 27 1 13 14 0 0 0 0 0 0 0 20 109 10 23 14 1 192 236 0 0 0 0 0 0 0 0 0 0 0 0 0 29 1 21 2 45 6 3 1 8 139 26 11 24 0 0 0 0 0 0 0 0 27 145 121 148 97 153 0 0 0 0 0 0 0 0 0 0 0 0 0 0 0 3 55 4 78 4 72 6 4 74 0 0 0 0 0 0 0 0 0 0 0 0 3 55 4 75 4 78 6 4 73 0 0 0 0 0 0 0 0 0 0 0 0 101 1 58 69 2 43 5 3 1 12 65 2 56 0 0 0 0 0 0 0 0 11 30 1 12 59 2 53 5 3 1 9 60 2 52 0 0 0 0 0 0 0 7 36 1 10 81 69 15 42 5 3 1 8 137 2 43 0 0 0 0 0 0 3 55 4 78 4 70 6 4 28 76 0 0 0 0 0 0 0 0 0 0 0 36 1 19 37 11 44 6 3 1 8 63 2 45 0 0 0 0 0 0 0 0 11 30 1 9 125 2 52 5 3 1 8 10 81 2 53 0 0 0 0 0 0 191 96 13 14 1 7 83 5 64 13 14 1 7 80 0 0 0 0 0 0 0 11 30 1 8 7 102 2 43 6 3 1 21 2 49 0 0 0 0 0 0 0 3 100 4 72 10 38 6 4 75 0 0 0 0 0 0 0 0 0 0 0 0 7 80 1 20 16 10 23 14 5 7 86 1 61 23 14 0 0 0 0 0 0 4 32 31 1 9 66 2 48 6 3 1 67 2 51 0 0 0 0 0 0 0 27 55 4 74 10 38 6 4 71 0 0 0 0 0 0 0 0 0 0 0 0 39 13 14 1 10 16 22 38 5 27 1 13 14 84 0 0 0 0 0 0 0 11 30 1 8 65 37 11 46 6 3 1 8 19 2 52 0 0 0 0 0 0 27 143 121 151 97 134 0 0 0 0 0 0 0 0 0 0 0 0 0 0 0 3 158 91 7 147 97 162 0 0 0 0 0 0 0 0 0 0 0 0 0 0 146 10 218 1 40 109 10 23 14 0 0 0 0 0 0 0 0 0 0 0 0 10 220 1 20 109 10 23 14 0 0 0 0 0 0 0 0 0 0 0 0 0 29 1 12 19 15 25 22 47 6 3 1 9 57 2 50 0 0 0 0 0 0 7 33 1 9 18 2 46 5 3 1 12 67 2 43 0 0 0 0 0 0 0 101 1 9 65 15 25 22 51 5 3 1 21 2 54 0 0 0 0 0 0 0 35 34 1 9 66 2 48 5 3 1 8 68 15 42 0 0 0 0 0 0 0 62 1 8 60 2 43 5 3 1 12 67 2 52 0 0 0 0 0 0 0 0 7 33 1 12 21 2 41 5 3 1 8 67 2 54 0 0 0 0 0 0 0 10 82 1 20 16 10 23 14 5 7 90 27 1 10 23 14 0 0 0 0 0 1 3 223 15 35 34 0 0 0 0 0 0 0 0 0 0 0 0 0 0 0 4 32 31 1 9 58 15 25 22 48 6 3 1 8 60 26 11 24 0 0 0 20 16 17 1 7 88 5 20 17 1 10 85 0 0 0 0 0 0 0 0 0 11 30 1 59 15 25 22 53 6 3 1 21 2 43 0 0 0 0 0 0 0 3 158 91 144 163 110 166 0 0 0 0 0 0 0 0 0 0 0 0 0 0 7 86 1 64 16 17 5 7 83 1 20 93 0 0 0 0 0 0 0 0 0 35 34 1 19 15 25 22 45 5 3 1 12 18 2 48 0 0 0 0 0 0 11 30 1 104 15 42 6 3 105 103 9 19 2 49 0 0 0 0 0 0 0 20 16 10 23 14 1 84 5 40 23 14 1 7 90 0 0 0 0 0 0 0 62 105 103 9 19 15 25 22 45 5 3 1 8 21 26 11 24 0 0 0 0 3 113 120 168 97 155 0 0 0 0 0 0 0 0 0 0 0 0 0 0 0 64 16 17 1 10 38 5 39 17 1 7 86 0 0 0 0 0 0 0 0 0 35 34 1 9 66 15 111 22 11 24 6 3 1 8 68 2 43 0 0 0 0 33 1 66 37 11 24 6 3 1 8 10 81 2 53 0 0 0 0 0 0 0 4 32 31 1 12 21 2 52 6 3 1 8 18 2 41 0 0 0 0 0 0 29 1 9 59 2 43 6 3 1 12 63 2 45 0 0 0 0 0 0 0 0 29 1 8 60 15 25 22 48 5 3 1 8 19 2 44 0 0 0 0 0 0 35 34 1 12 59 26 98 5 3 1 9 18 2 47 0 0 0 0 0 0 0 36 1 9 7 102 2 49 6 3 1 8 59 2 47 0 0 0 0 0 0 0 7 33 1 8 58 2 48 6 3 1 67 2 43 0 0 0 0 0 0 0 0 62 1 8 57 2 50 5 3 1 8 68 2 56 0 0 0 0 0 0 0 0 35 34 1 9 18 2 43 5 3 1 21 2 52 0 0 0 0 0 0 0 0 62 1 8 104 15 42 6 3 1 12 57 26 11 24 0 0 0 0 0 0 0 107 126 10 38 4 70 6 4 78 0 0 0 0 0 0 0 0 0 0 0 0 36 1 9 59 37 11 46 5 3 1 8 19 2 51 0 0 0 0 0 0 0 7 33 1 10 81 2 41 6 3 1 57 26 11 24 0 0 0 0 0 0 0 35 34 1 60 2 41 5 3 1 8 59 2 50 0 0 0 0 0 0 0 0 7 83 1 10 16 10 23 14 64 5 10 82 1 10 23 14 0 0 0 0 0 84 1 20 16 17 13 5 7 88 1 61 13 17 0 0 0 0 0 0 0 0 99 127 91 28 76 4 77 6 4 71 0 0 0 0 0 0 0 0 0 0 0 7 36 1 8 10 81 2 48 6 3 1 9 19 2 52 0 0 0 0 0 0 29 1 8 10 81 2 43 5 3 1 19 2 50 0 0 0 0 0 0 0 0 4 32 31 1 9 117 2 50 6 3 1 65 2 51 0 0 0 0 0 0 0 101 1 8 18 2 53 5 3 1 8 19 15 42 0 0 0 0 0 0 0 0 7 33 1 9 60 2 48 5 3 1 19 2 47 0 0 0 0 0 0 0 0 99 127 91 4 77 4 74 6 4 75 0 0 0 0 0 0 0 0 0 0 0 39 16 10 23 14 1 7 87 5 64 23 14 1 10 85 0 0 0 0 0 0 7 33 1 60 26 98 5 3 1 12 92 2 41 0 0 0 0 0 0 0 0 11 30 1 104 26 98 5 3 1 9 59 2 49 0 0 0 0 0 0 0 0 29 1 59 26 98 5 3 1 58 2 52 0 0 0 0 0 0 0 0 0 0 3 55 4 73 4 28 6 4 28 76 0 0 0 0 0 0 0 0 0 0 0 36 1 19 2 52 5 3 1 21 2 50 0 0 0 0 0 0 0 0 0 0 29 1 12 59 2 49 6 3 1 9 22 102 2 41 0 0 0 0 0 0 0 7 89 1 20 16 17 13 5 7 86 1 39 17 13 0 0 0 0 0 0 0 10 85 1 20 16 13 14 5 7 88 1 61 13 14 0 0 0 0 0 0 0 29 1 57 15 25 22 48 5 3 1 65 26 11 24 0 0 0 0 0 0 0 106 130 4 74 6 4 71 0 0 0 0 0 0 0 0 0 0 0 0 0 0 101 1 8 18 37 11 44 5 3 1 67 2 43 0 0 0 0 0 0 0 0 4 32 31 1 9 68 2 54 5 3 1 8 19 2 51 0 0 0 0 0 0 20 16 1 13 14 7 83 5 61 13 14 1 7 88 0 0 0 0 0 0 0 99 127 10 38 4 75 6 4 70 0 0 0 0 0 0 0 0 0 0 0 0 99 127 4 75 28 76 6 4 71 0 0 0 0 0 0 0 0 0 0 0 0 40 16 17 13 1 10 38 5 64 13 17 1 7 80 0 0 0 0 0 0 0 29 1 8 18 37 11 44 5 3 1 9 19 2 43 0 0 0 0 0 0 0 4 32 31 1 12 18 15 42 5 3 1 8 66 26 11 24 0 0 0 0 0 36 1 104 2 45 6 3 1 8 18 2 46 0 0 0 0 0 0 0 0 0 116 100 4 78 4 77 6 4 71 0 0 0 0 0 0 0 0 0 0 0 0 3 94 4 71 4 78 6 4 75 0 0 0 0 0 0 0 0 0 0 0 0 3 55 91 4 77 6 4 74 0 0 0 0 0 0 0 0 0 0 0 0 0 11 30 1 243 15 42 6 3 1 9 65 2 56 0 0 0 0 0 0 0 0 33 105 103 9 19 2 41 5 3 1 69 21 2 48 0 0 0 0 0 0 0 7 89 1 39 13 14 108 96 5 10 85 1 61 13 14 0 0 0 0 0 0 7 80 1 20 13 14 108 96 5 7 87 1 39 13 14 0 0 0 0 0 0 4 32 31 1 19 37 11 44 5 3 1 21 15 42 0 0 0 0 0 0 0 35 34 1 58 8 2 49 5 3 95 69 2 56 0 0 0 0 0 0 0 0 4 32 31 1 9 66 2 49 6 3 1 8 92 2 53 0 0 0 0 0 0 35 34 1 9 18 2 52 5 3 1 9 60 26 11 24 0 0 0 0 0 0 3 55 10 38 28 76 6 4 77 0 0 0 0 0 0 0 0 0 0 0 0 4 32 31 1 9 125 2 43 6 3 1 65 2 44 0 0 0 0 0 0 0 3 118 113 7 97 150 174 0 0 0 0 0 0 0 0 0 0 0 0 0 0 64 16 1 13 14 10 82 5 20 13 14 1 10 38 0 0 0 0 0 0 0 4 32 31 1 9 65 2 49 6 3 1 8 57 2 50 0 0 0 0 0 0 3 55 91 28 76 10 38 6 4 28 0 0 0 0 0 0 0 0 0 0 0 11 30 1 12 92 15 25 79 56 5 3 1 21 2 47 0 0 0 0 0 0 27 143 7 151 97 153 0 0 0 0 0 0 0 0 0 0 0 0 0 0 0 62 1 9 63 2 50 5 3 1 68 2 54 0 0 0 0 0 0 0 0 0 35 34 1 9 57 2 54 5 3 1 9 21 2 41 0 0 0 0 0 0 0 20 16 17 1 13 7 88 5 20 13 17 1 10 38 0 0 0 0 0 0 0 36 1 12 18 2 41 6 3 1 12 63 2 50 0 0 0 0 0 0 0 0 11 30 1 12 19 15 42 5 3 1 57 2 47 0 0 0 0 0 0 0 0 212 99 124 278 0 0 0 0 0 0 0 0 0 0 0 0 0 0 0 0 0 7 87 1 20 16 10 23 14 5 7 89 1 64 23 14 0 0 0 0 0 0 3 94 4 70 4 78 6 4 73 0 0 0 0 0 0 0 0 0 0 0 0 135 4 74 4 73 6 4 28 0 0 0 0 0 0 0 0 0 0 0 0 0 11 30 1 9 19 2 50 5 3 1 21 2 49 0 0 0 0 0 0 0 0 27 94 4 28 4 77 6 28 76 0 0 0 0 0 0 0 0 0 0 0 0 29 1 9 26 63 15 42 6 3 1 9 65 2 43 0 0 0 0 0 0 0 7 90 1 20 16 17 5 10 85 1 39 17 0 0 0 0 0 0 0 0 0 36 1 9 125 2 50 5 3 1 60 2 51 0 0 0 0 0 0 0 0 0 7 90 1 64 16 17 13 5 7 89 1 20 13 17 0 0 0 0 0 0 0 7 33 1 104 2 24 6 3 1 9 59 2 44 0 0 0 0 0 0 0 0 27 55 7 288 153 193 0 0 0 0 0 0 0 0 0 0 0 0 0 0 0 11 30 1 9 21 15 42 6 3 1 68 2 50 0 0 0 0 0 0 0 0 20 16 17 1 10 38 5 61 17 1 7 80 0 0 0 0 0 0 0 0 0 11 30 1 104 2 50 6 3 95 9 2 56 0 0 0 0 0 0 0 0 0 7 62 1 10 81 2 49 6 3 1 9 65 2 56 0 0 0 0 0 0 0 3 55 4 70 6 4 75 0 0 0 0 0 0 0 0 0 0 0 0 0 0 27 113 120 148 97 150 0 0 0 0 0 0 0 0 0 0 0 0 0 0 0 106 130 28 76 4 74 6 4 73 0 0 0 0 0 0 0 0 0 0 0 0 20 16 10 23 14 1 10 85 5 61 23 14 1 7 89 0 0 0 0 0 0 4 32 31 1 9 19 15 25 22 47 5 3 1 8 67 2 50 0 0 0 0 27 55 4 77 4 74 6 4 78 0 0 0 0 0 0 0 0 0 0 0 0 29 1 69 21 2 41 6 3 1 8 10 81 2 53 0 0 0 0 0 0 0 116 100 4 74 4 72 6 4 77 0 0 0 0 0 0 0 0 0 0 0 0 29 1 9 66 15 111 22 11 24 5 9 22 102 2 52 0 0 0 0 0 0 129 96 10 23 14 1 7 80 5 61 23 14 1 7 88 0 0 0 0 0 0 29 1 12 66 15 25 22 51 5 3 1 9 18 2 48 0 0 0 0 0 0 146 7 201 1 39 109 10 23 156 0 0 0 0 0 0 0 0 0 0 0 0 4 32 31 1 9 19 2 41 6 3 1 8 59 26 11 24 0 0 0 0 0 27 55 4 74 4 70 6 4 28 0 0 0 0 0 0 0 0 0 0 0 0 29 1 8 112 15 25 22 51 5 3 1 66 2 50 0 0 0 0 0 0 0 3 160 171 1 198 22 164 185 187 0 0 0 0 0 0 0 0 0 0 0 0 27 55 4 77 78 6 28 0 0 0 0 0 0 0 0 0 0 0 0 0 0 3 100 4 75 28 76 6 4 74 0 0 0 0 0 0 0 0 0 0 0 0 11 30 1 9 59 37 11 44 5 3 1 8 18 2 52 0 0 0 0 0 0 106 130 28 76 4 73 6 4 28 0 0 0 0 0 0 0 0 0 0 0 0 4 32 31 1 8 21 15 25 79 56 5 3 1 8 60 2 46 0 0 0 0 11 30 1 7 102 2 54 5 3 1 9 21 2 56 0 0 0 0 0 0 0 27 94 10 38 4 71 6 4 78 0 0 0 0 0 0 0 0 0 0 0 0 116 100 38 4 71 6 4 78 0 0 0 0 0 0 0 0 0 0 0 0 0 20 16 1 13 14 7 87 5 40 13 14 1 10 38 0 0 0 0 0 0 0 36 1 8 63 37 11 46 5 3 1 21 2 53 0 0 0 0 0 0 0 0 84 1 20 16 10 23 14 5 7 83 1 64 23 14 0 0 0 0 0 0 0 7 90 1 61 16 13 14 5 7 83 1 64 13 14 0 0 0 0 0 0 0 29 1 68 2 52 6 3 1 8 19 2 41 0 0 0 0 0 0 0 0 0 27 55 4 70 4 74 6 4 77 0 0 0 0 0 0 0 0 0 0 0 0 11 30 1 18 2 52 5 3 1 12 57 2 43 0 0 0 0 0 0 0 0 29 1 9 19 2 52 6 3 1 9 57 2 49 0 0 0 0 0 0 0 0 36 105 103 9 19 15 25 79 56 5 3 1 58 69 2 44 0 0 0 0 0 20 16 10 23 14 1 7 86 5 39 23 14 1 7 87 0 0 0 0 0 0 135 4 73 4 28 76 6 4 74 0 0 0 0 0 0 0 0 0 0 0 0 29 1 9 58 2 53 5 3 1 9 21 2 48 0 0 0 0 0 0 0 0 35 34 1 8 21 2 49 6 3 1 59 2 43 0 0 0 0 0 0 0 0 29 1 8 63 2 49 5 3 1 12 66 2 53 0 0 0 0 0 0 0 0 36 1 63 2 52 5 3 1 8 21 2 53 0 0 0 0 0 0 0 0 0 29 1 68 15 25 22 51 5 3 1 8 65 26 11 24 0 0 0 0 0 0 7 80 1 64 16 17 5 10 38 1 61 17 0 0 0 0 0 0 0 0 0 7 33 1 12 59 2 43 5 3 1 12 68 26 11 24 0 0 0 0 0 0 116 207 22 136 7 36 2 46 0 0 0 0 0 0 0 0 0 0 0 0 0 64 16 17 1 10 38 5 20 17 1 7 88 0 0 0 0 0 0 0 0 0 3 55 115 248 110 176 0 0 0 0 0 0 0 0 0 0 0 0 0 0 0 35 34 1 9 117 15 42 6 3 1 21 2 48 0 0 0 0 0 0 0 0 35 34 1 19 2 54 5 3 1 9 59 2 41 0 0 0 0 0 0 0 0 27 94 4 75 6 4 78 0 0 0 0 0 0 0 0 0 0 0 0 0 0 3 94 121 147 97 153 0 0 0 0 0 0 0 0 0 0 0 0 0 0 0 36 1 8 18 2 54 6 3 1 18 15 42 0 0 0 0 0 0 0 0 0 29 1 9 138 2 50 5 9 26 63 26 11 24 0 0 0 0 0 0 0 0 99 131 233 2 36 11 24 142 0 0 0 0 0 0 0 0 0 0 0 0 0 11 30 1 8 59 2 50 6 3 1 112 2 45 0 0 0 0 0 0 0 0 101 1 9 65 2 41 5 3 1 8 67 26 11 24 0 0 0 0 0 0 0 35 34 105 103 9 19 15 111 22 11 24 6 3 1 60 2 43 0 0 0 0 29 1 9 18 26 98 6 3 1 12 19 2 46 0 0 0 0 0 0 0 0 61 16 17 13 1 7 83 5 40 13 140 1 7 89 0 0 0 0 0 0 0 3 100 4 74 4 78 6 10 38 0 0 0 0 0 0 0 0 0 0 0 0 4 32 31 1 12 67 37 11 46 6 3 1 8 18 26 11 24 0 0 0 0 62 1 8 92 2 49 6 3 1 66 15 42 0 0 0 0 0 0 0 0 0 27 55 4 78 4 28 6 4 70 0 0 0 0 0 0 0 0 0 0 0 0 135 4 71 6 4 77 0 0 0 0 0 0 0 0 0 0 0 0 0 0 0 7 33 1 12 63 15 111 22 11 24 5 3 95 15 42 0 0 0 0 0 0 7 33 1 8 10 81 2 48 6 3 1 8 63 2 41 0 0 0 0 0 0 29 1 9 22 102 15 25 22 47 5 3 1 58 69 2 50 0 0 0 0 0 20 16 1 13 14 10 82 5 64 13 14 1 7 83 0 0 0 0 0 0 0 11 30 1 12 68 2 24 5 3 1 8 18 2 45 0 0 0 0 0 0 0 129 96 13 14 1 7 83 5 39 13 14 1 84 0 0 0 0 0 0 0 0 135 10 38 4 77 6 4 70 0 0 0 0 0 0 0 0 0 0 0 0 0 3 55 4 28 4 73 6 4 71 0 0 0 0 0 0 0 0 0 0 0 0 35 34 1 8 21 2 48 5 3 1 19 2 56 0 0 0 0 0 0 0 0 11 30 1 12 68 15 25 79 56 5 9 22 102 2 48 0 0 0 0 0 0 99 124 10 38 6 4 75 0 0 0 0 0 0 0 0 0 0 0 0 0 0 29 1 9 58 37 11 44 6 3 95 2 53 0 0 0 0 0 0 0 0 0 29 1 8 19 2 41 6 3 157 26 11 24 0 0 0 0 0 0 0 0 0 7 62 1 9 10 81 2 49 5 3 1 8 18 2 51 0 0 0 0 0 0 36 1 58 26 98 5 3 1 8 21 2 45 0 0 0 0 0 0 0 0 0 40 16 10 23 14 1 84 5 20 23 14 1 10 38 0 0 0 0 0 0 0 27 143 146 165 97 134 0 0 0 0 0 0 0 0 0 0 0 0 0 0 0 7 86 1 61 16 13 14 5 7 88 1 64 13 14 0 0 0 0 0 0 0 11 30 1 8 21 37 11 46 5 3 1 12 92 2 48 0 0 0 0 0 0 115 216 122 20 109 17 13 0 0 0 0 0 0 0 0 0 0 0 0 0 0 107 126 4 77 4 75 6 4 72 0 0 0 0 0 0 0 0 0 0 0 0 107 126 4 78 4 74 6 4 70 0 0 0 0 0 0 0 0 0 0 0 0 3 143 10 248 110 134 0 0 0 0 0 0 0 0 0 0 0 0 0 0 0 11 30 1 10 81 2 45 5 3 1 8 67 2 53 0 0 0 0 0 0 0 35 34 1 9 65 2 52 5 3 1 9 19 2 48 0 0 0 0 0 0 0 27 1 10 344 22 7 224 97 134 0 0 0 0 0 0 0 0 0 0 0 0 62 1 9 19 2 41 5 3 1 12 65 2 56 0 0 0 0 0 0 0 0 10 82 1 64 16 17 13 5 7 88 1 20 13 17 0 0 0 0 0 0 0 35 34 1 10 81 37 11 46 5 3 1 8 63 2 49 0 0 0 0 0 0 27 178 22 167 181 2 62 2 50 0 0 0 0 0 0 0 0 0 0 0 0 4 32 31 1 21 15 25 22 53 6 3 1 12 21 2 41 0 0 0 0 0 27 55 4 71 4 28 6 4 28 76 0 0 0 0 0 0 0 0 0 0 0 3 55 91 10 38 4 71 6 4 28 0 0 0 0 0 0 0 0 0 0 0 20 16 17 1 10 85 5 40 93 1 7 83 0 0 0 0 0 0 0 0 0 7 33 1 9 58 2 49 6 3 1 12 19 2 41 0 0 0 0 0 0 0 263 179 209 141 175 0 0 0 0 0 0 0 0 0 0 0 0 0 0 0 0 4 32 31 1 7 102 2 45 5 3 105 103 9 19 2 52 0 0 0 0 0 7 33 1 12 18 2 43 5 3 95 9 2 49 0 0 0 0 0 0 0 0 62 1 69 21 15 42 5 9 108 177 2 54 0 0 0 0 0 0 0 0 0 36 1 9 117 2 43 6 3 1 8 65 2 44 0 0 0 0 0 0 0 0 4 32 31 1 8 21 2 52 6 3 1 8 57 26 11 24 0 0 0 0 0 64 16 17 1 84 5 20 93 1 7 88 0 0 0 0 0 0 0 0 0 0 20 16 17 13 1 7 80 5 39 17 13 1 7 90 0 0 0 0 0 0 0 99 124 4 72 4 28 6 4 159 0 0 0 0 0 0 0 0 0 0 0 0 35 34 1 21 2 52 5 3 1 8 21 2 54 0 0 0 0 0 0 0 0 7 36 1 8 306 2 50 6 3 1 8 112 2 52 0 0 0 0 0 0 0 4 32 31 1 21 15 25 22 45 5 3 1 8 21 15 42 0 0 0 0 0 40 16 1 13 14 7 80 5 61 13 14 1 7 86 0 0 0 0 0 0 0 35 34 1 12 60 2 51 6 3 1 12 65 2 43 0 0 0 0 0 0 0 7 33 1 9 18 15 25 22 47 5 3 1 8 66 2 51 0 0 0 0 0 35 34 1 12 63 15 111 22 11 24 5 3 1 8 66 2 56 0 0 0 0 33 1 57 2 43 6 3 1 12 19 2 50 0 0 0 0 0 0 0 0 0 29 1 12 59 2 52 6 3 1 9 65 2 45 0 0 0 0 0 0 0 0 20 16 10 23 14 1 10 38 5 61 23 14 1 10 82 0 0 0 0 0 0 135 4 71 4 72 6 10 38 0 0 0 0 0 0 0 0 0 0 0 0 0 39 16 17 1 7 80 5 20 17 1 10 85 0 0 0 0 0 0 0 0 0 7 33 1 9 19 2 48 6 3 1 57 2 50 0 0 0 0 0 0 0 0 11 30 1 8 18 15 25 22 47 6 3 95 9 2 41 0 0 0 0 0 0 7 89 1 20 16 13 14 0 0 0 0 0 0 0 0 0 0 0 0 0 0 62 1 12 63 2 50 5 3 1 12 19 2 48 0 0 0 0 0 0 0 0 35 34 1 63 37 11 44 6 3 1 9 68 2 50 0 0 0 0 0 0 0 64 16 17 1 13 84 5 39 17 13 1 7 90 0 0 0 0 0 0 0 0\n\t [[Node: loss_19/time_distributed_18_loss/SparseSoftmaxCrossEntropyWithLogits/SparseSoftmaxCrossEntropyWithLogits = SparseSoftmaxCrossEntropyWithLogits[T=DT_FLOAT, Tlabels=DT_INT64, _device=\"/job:localhost/replica:0/task:0/cpu:0\"](loss_19/time_distributed_18_loss/Reshape_1, loss_19/time_distributed_18_loss/Cast)]]",
      "\nDuring handling of the above exception, another exception occurred:\n",
      "\u001b[0;31mInvalidArgumentError\u001b[0m                      Traceback (most recent call last)",
      "\u001b[0;32m<ipython-input-46-0385eafd71c2>\u001b[0m in \u001b[0;36m<module>\u001b[0;34m\u001b[0m\n\u001b[1;32m     43\u001b[0m     \u001b[0menglish_vocab_size\u001b[0m\u001b[0;34m,\u001b[0m\u001b[0;34m\u001b[0m\u001b[0m\n\u001b[1;32m     44\u001b[0m     french_vocab_size)\n\u001b[0;32m---> 45\u001b[0;31m \u001b[0msimple_rnn_model\u001b[0m\u001b[0;34m.\u001b[0m\u001b[0mfit\u001b[0m\u001b[0;34m(\u001b[0m\u001b[0mtmp_x\u001b[0m\u001b[0;34m,\u001b[0m \u001b[0mpreproc_french_sentences\u001b[0m\u001b[0;34m,\u001b[0m \u001b[0mbatch_size\u001b[0m\u001b[0;34m=\u001b[0m\u001b[0;36m256\u001b[0m\u001b[0;34m,\u001b[0m \u001b[0mepochs\u001b[0m\u001b[0;34m=\u001b[0m\u001b[0;36m10\u001b[0m\u001b[0;34m,\u001b[0m \u001b[0mvalidation_split\u001b[0m\u001b[0;34m=\u001b[0m\u001b[0;36m0.2\u001b[0m\u001b[0;34m)\u001b[0m\u001b[0;34m\u001b[0m\u001b[0m\n\u001b[0m\u001b[1;32m     46\u001b[0m \u001b[0;34m\u001b[0m\u001b[0m\n\u001b[1;32m     47\u001b[0m \u001b[0;31m# Print prediction(s)\u001b[0m\u001b[0;34m\u001b[0m\u001b[0;34m\u001b[0m\u001b[0m\n",
      "\u001b[0;32m~/anaconda3/envs/aind-nlp-capstone/lib/python3.5/site-packages/keras/models.py\u001b[0m in \u001b[0;36mfit\u001b[0;34m(self, x, y, batch_size, epochs, verbose, callbacks, validation_split, validation_data, shuffle, class_weight, sample_weight, initial_epoch, steps_per_epoch, validation_steps, **kwargs)\u001b[0m\n\u001b[1;32m    958\u001b[0m                               \u001b[0minitial_epoch\u001b[0m\u001b[0;34m=\u001b[0m\u001b[0minitial_epoch\u001b[0m\u001b[0;34m,\u001b[0m\u001b[0;34m\u001b[0m\u001b[0m\n\u001b[1;32m    959\u001b[0m                               \u001b[0msteps_per_epoch\u001b[0m\u001b[0;34m=\u001b[0m\u001b[0msteps_per_epoch\u001b[0m\u001b[0;34m,\u001b[0m\u001b[0;34m\u001b[0m\u001b[0m\n\u001b[0;32m--> 960\u001b[0;31m                               validation_steps=validation_steps)\n\u001b[0m\u001b[1;32m    961\u001b[0m \u001b[0;34m\u001b[0m\u001b[0m\n\u001b[1;32m    962\u001b[0m     def evaluate(self, x, y, batch_size=32, verbose=1,\n",
      "\u001b[0;32m~/anaconda3/envs/aind-nlp-capstone/lib/python3.5/site-packages/keras/engine/training.py\u001b[0m in \u001b[0;36mfit\u001b[0;34m(self, x, y, batch_size, epochs, verbose, callbacks, validation_split, validation_data, shuffle, class_weight, sample_weight, initial_epoch, steps_per_epoch, validation_steps, **kwargs)\u001b[0m\n\u001b[1;32m   1655\u001b[0m                               \u001b[0minitial_epoch\u001b[0m\u001b[0;34m=\u001b[0m\u001b[0minitial_epoch\u001b[0m\u001b[0;34m,\u001b[0m\u001b[0;34m\u001b[0m\u001b[0m\n\u001b[1;32m   1656\u001b[0m                               \u001b[0msteps_per_epoch\u001b[0m\u001b[0;34m=\u001b[0m\u001b[0msteps_per_epoch\u001b[0m\u001b[0;34m,\u001b[0m\u001b[0;34m\u001b[0m\u001b[0m\n\u001b[0;32m-> 1657\u001b[0;31m                               validation_steps=validation_steps)\n\u001b[0m\u001b[1;32m   1658\u001b[0m \u001b[0;34m\u001b[0m\u001b[0m\n\u001b[1;32m   1659\u001b[0m     def evaluate(self, x=None, y=None,\n",
      "\u001b[0;32m~/anaconda3/envs/aind-nlp-capstone/lib/python3.5/site-packages/keras/engine/training.py\u001b[0m in \u001b[0;36m_fit_loop\u001b[0;34m(self, f, ins, out_labels, batch_size, epochs, verbose, callbacks, val_f, val_ins, shuffle, callback_metrics, initial_epoch, steps_per_epoch, validation_steps)\u001b[0m\n\u001b[1;32m   1225\u001b[0m                             val_outs = self._test_loop(val_f, val_ins,\n\u001b[1;32m   1226\u001b[0m                                                        \u001b[0mbatch_size\u001b[0m\u001b[0;34m=\u001b[0m\u001b[0mbatch_size\u001b[0m\u001b[0;34m,\u001b[0m\u001b[0;34m\u001b[0m\u001b[0m\n\u001b[0;32m-> 1227\u001b[0;31m                                                        verbose=0)\n\u001b[0m\u001b[1;32m   1228\u001b[0m                             \u001b[0;32mif\u001b[0m \u001b[0;32mnot\u001b[0m \u001b[0misinstance\u001b[0m\u001b[0;34m(\u001b[0m\u001b[0mval_outs\u001b[0m\u001b[0;34m,\u001b[0m \u001b[0mlist\u001b[0m\u001b[0;34m)\u001b[0m\u001b[0;34m:\u001b[0m\u001b[0;34m\u001b[0m\u001b[0m\n\u001b[1;32m   1229\u001b[0m                                 \u001b[0mval_outs\u001b[0m \u001b[0;34m=\u001b[0m \u001b[0;34m[\u001b[0m\u001b[0mval_outs\u001b[0m\u001b[0;34m]\u001b[0m\u001b[0;34m\u001b[0m\u001b[0m\n",
      "\u001b[0;32m~/anaconda3/envs/aind-nlp-capstone/lib/python3.5/site-packages/keras/engine/training.py\u001b[0m in \u001b[0;36m_test_loop\u001b[0;34m(self, f, ins, batch_size, verbose, steps)\u001b[0m\n\u001b[1;32m   1368\u001b[0m                     \u001b[0mins_batch\u001b[0m \u001b[0;34m=\u001b[0m \u001b[0m_slice_arrays\u001b[0m\u001b[0;34m(\u001b[0m\u001b[0mins\u001b[0m\u001b[0;34m,\u001b[0m \u001b[0mbatch_ids\u001b[0m\u001b[0;34m)\u001b[0m\u001b[0;34m\u001b[0m\u001b[0m\n\u001b[1;32m   1369\u001b[0m \u001b[0;34m\u001b[0m\u001b[0m\n\u001b[0;32m-> 1370\u001b[0;31m                 \u001b[0mbatch_outs\u001b[0m \u001b[0;34m=\u001b[0m \u001b[0mf\u001b[0m\u001b[0;34m(\u001b[0m\u001b[0mins_batch\u001b[0m\u001b[0;34m)\u001b[0m\u001b[0;34m\u001b[0m\u001b[0m\n\u001b[0m\u001b[1;32m   1371\u001b[0m                 \u001b[0;32mif\u001b[0m \u001b[0misinstance\u001b[0m\u001b[0;34m(\u001b[0m\u001b[0mbatch_outs\u001b[0m\u001b[0;34m,\u001b[0m \u001b[0mlist\u001b[0m\u001b[0;34m)\u001b[0m\u001b[0;34m:\u001b[0m\u001b[0;34m\u001b[0m\u001b[0m\n\u001b[1;32m   1372\u001b[0m                     \u001b[0;32mif\u001b[0m \u001b[0mbatch_index\u001b[0m \u001b[0;34m==\u001b[0m \u001b[0;36m0\u001b[0m\u001b[0;34m:\u001b[0m\u001b[0;34m\u001b[0m\u001b[0m\n",
      "\u001b[0;32m~/anaconda3/envs/aind-nlp-capstone/lib/python3.5/site-packages/keras/backend/tensorflow_backend.py\u001b[0m in \u001b[0;36m__call__\u001b[0;34m(self, inputs)\u001b[0m\n\u001b[1;32m   2355\u001b[0m         \u001b[0msession\u001b[0m \u001b[0;34m=\u001b[0m \u001b[0mget_session\u001b[0m\u001b[0;34m(\u001b[0m\u001b[0;34m)\u001b[0m\u001b[0;34m\u001b[0m\u001b[0m\n\u001b[1;32m   2356\u001b[0m         updated = session.run(fetches=fetches, feed_dict=feed_dict,\n\u001b[0;32m-> 2357\u001b[0;31m                               **self.session_kwargs)\n\u001b[0m\u001b[1;32m   2358\u001b[0m         \u001b[0;32mreturn\u001b[0m \u001b[0mupdated\u001b[0m\u001b[0;34m[\u001b[0m\u001b[0;34m:\u001b[0m\u001b[0mlen\u001b[0m\u001b[0;34m(\u001b[0m\u001b[0mself\u001b[0m\u001b[0;34m.\u001b[0m\u001b[0moutputs\u001b[0m\u001b[0;34m)\u001b[0m\u001b[0;34m]\u001b[0m\u001b[0;34m\u001b[0m\u001b[0m\n\u001b[1;32m   2359\u001b[0m \u001b[0;34m\u001b[0m\u001b[0m\n",
      "\u001b[0;32m~/anaconda3/envs/aind-nlp-capstone/lib/python3.5/site-packages/tensorflow/python/client/session.py\u001b[0m in \u001b[0;36mrun\u001b[0;34m(self, fetches, feed_dict, options, run_metadata)\u001b[0m\n\u001b[1;32m    776\u001b[0m     \u001b[0;32mtry\u001b[0m\u001b[0;34m:\u001b[0m\u001b[0;34m\u001b[0m\u001b[0m\n\u001b[1;32m    777\u001b[0m       result = self._run(None, fetches, feed_dict, options_ptr,\n\u001b[0;32m--> 778\u001b[0;31m                          run_metadata_ptr)\n\u001b[0m\u001b[1;32m    779\u001b[0m       \u001b[0;32mif\u001b[0m \u001b[0mrun_metadata\u001b[0m\u001b[0;34m:\u001b[0m\u001b[0;34m\u001b[0m\u001b[0m\n\u001b[1;32m    780\u001b[0m         \u001b[0mproto_data\u001b[0m \u001b[0;34m=\u001b[0m \u001b[0mtf_session\u001b[0m\u001b[0;34m.\u001b[0m\u001b[0mTF_GetBuffer\u001b[0m\u001b[0;34m(\u001b[0m\u001b[0mrun_metadata_ptr\u001b[0m\u001b[0;34m)\u001b[0m\u001b[0;34m\u001b[0m\u001b[0m\n",
      "\u001b[0;32m~/anaconda3/envs/aind-nlp-capstone/lib/python3.5/site-packages/tensorflow/python/client/session.py\u001b[0m in \u001b[0;36m_run\u001b[0;34m(self, handle, fetches, feed_dict, options, run_metadata)\u001b[0m\n\u001b[1;32m    980\u001b[0m     \u001b[0;32mif\u001b[0m \u001b[0mfinal_fetches\u001b[0m \u001b[0;32mor\u001b[0m \u001b[0mfinal_targets\u001b[0m\u001b[0;34m:\u001b[0m\u001b[0;34m\u001b[0m\u001b[0m\n\u001b[1;32m    981\u001b[0m       results = self._do_run(handle, final_targets, final_fetches,\n\u001b[0;32m--> 982\u001b[0;31m                              feed_dict_string, options, run_metadata)\n\u001b[0m\u001b[1;32m    983\u001b[0m     \u001b[0;32melse\u001b[0m\u001b[0;34m:\u001b[0m\u001b[0;34m\u001b[0m\u001b[0m\n\u001b[1;32m    984\u001b[0m       \u001b[0mresults\u001b[0m \u001b[0;34m=\u001b[0m \u001b[0;34m[\u001b[0m\u001b[0;34m]\u001b[0m\u001b[0;34m\u001b[0m\u001b[0m\n",
      "\u001b[0;32m~/anaconda3/envs/aind-nlp-capstone/lib/python3.5/site-packages/tensorflow/python/client/session.py\u001b[0m in \u001b[0;36m_do_run\u001b[0;34m(self, handle, target_list, fetch_list, feed_dict, options, run_metadata)\u001b[0m\n\u001b[1;32m   1030\u001b[0m     \u001b[0;32mif\u001b[0m \u001b[0mhandle\u001b[0m \u001b[0;32mis\u001b[0m \u001b[0;32mNone\u001b[0m\u001b[0;34m:\u001b[0m\u001b[0;34m\u001b[0m\u001b[0m\n\u001b[1;32m   1031\u001b[0m       return self._do_call(_run_fn, self._session, feed_dict, fetch_list,\n\u001b[0;32m-> 1032\u001b[0;31m                            target_list, options, run_metadata)\n\u001b[0m\u001b[1;32m   1033\u001b[0m     \u001b[0;32melse\u001b[0m\u001b[0;34m:\u001b[0m\u001b[0;34m\u001b[0m\u001b[0m\n\u001b[1;32m   1034\u001b[0m       return self._do_call(_prun_fn, self._session, handle, feed_dict,\n",
      "\u001b[0;32m~/anaconda3/envs/aind-nlp-capstone/lib/python3.5/site-packages/tensorflow/python/client/session.py\u001b[0m in \u001b[0;36m_do_call\u001b[0;34m(self, fn, *args)\u001b[0m\n\u001b[1;32m   1050\u001b[0m         \u001b[0;32mexcept\u001b[0m \u001b[0mKeyError\u001b[0m\u001b[0;34m:\u001b[0m\u001b[0;34m\u001b[0m\u001b[0m\n\u001b[1;32m   1051\u001b[0m           \u001b[0;32mpass\u001b[0m\u001b[0;34m\u001b[0m\u001b[0m\n\u001b[0;32m-> 1052\u001b[0;31m       \u001b[0;32mraise\u001b[0m \u001b[0mtype\u001b[0m\u001b[0;34m(\u001b[0m\u001b[0me\u001b[0m\u001b[0;34m)\u001b[0m\u001b[0;34m(\u001b[0m\u001b[0mnode_def\u001b[0m\u001b[0;34m,\u001b[0m \u001b[0mop\u001b[0m\u001b[0;34m,\u001b[0m \u001b[0mmessage\u001b[0m\u001b[0;34m)\u001b[0m\u001b[0;34m\u001b[0m\u001b[0m\n\u001b[0m\u001b[1;32m   1053\u001b[0m \u001b[0;34m\u001b[0m\u001b[0m\n\u001b[1;32m   1054\u001b[0m   \u001b[0;32mdef\u001b[0m \u001b[0m_extend_graph\u001b[0m\u001b[0;34m(\u001b[0m\u001b[0mself\u001b[0m\u001b[0;34m)\u001b[0m\u001b[0;34m:\u001b[0m\u001b[0;34m\u001b[0m\u001b[0m\n",
      "\u001b[0;31mInvalidArgumentError\u001b[0m: Received a label value of 344 which is outside the valid range of [0, 344).  Label values: 10 38 1 20 16 17 5 7 83 1 39 17 0 0 0 0 0 0 0 0 0 99 124 4 72 4 77 6 4 75 0 0 0 0 0 0 0 0 0 0 0 0 20 16 1 13 14 84 5 39 13 14 1 7 86 0 0 0 0 0 0 0 0 3 55 91 10 38 4 73 6 4 71 0 0 0 0 0 0 0 0 0 0 0 101 1 9 18 2 48 6 3 1 12 19 2 53 0 0 0 0 0 0 0 0 10 85 1 61 16 13 14 5 7 86 27 1 13 14 0 0 0 0 0 0 0 20 109 10 23 14 1 192 236 0 0 0 0 0 0 0 0 0 0 0 0 0 29 1 21 2 45 6 3 1 8 139 26 11 24 0 0 0 0 0 0 0 0 27 145 121 148 97 153 0 0 0 0 0 0 0 0 0 0 0 0 0 0 0 3 55 4 78 4 72 6 4 74 0 0 0 0 0 0 0 0 0 0 0 0 3 55 4 75 4 78 6 4 73 0 0 0 0 0 0 0 0 0 0 0 0 101 1 58 69 2 43 5 3 1 12 65 2 56 0 0 0 0 0 0 0 0 11 30 1 12 59 2 53 5 3 1 9 60 2 52 0 0 0 0 0 0 0 7 36 1 10 81 69 15 42 5 3 1 8 137 2 43 0 0 0 0 0 0 3 55 4 78 4 70 6 4 28 76 0 0 0 0 0 0 0 0 0 0 0 36 1 19 37 11 44 6 3 1 8 63 2 45 0 0 0 0 0 0 0 0 11 30 1 9 125 2 52 5 3 1 8 10 81 2 53 0 0 0 0 0 0 191 96 13 14 1 7 83 5 64 13 14 1 7 80 0 0 0 0 0 0 0 11 30 1 8 7 102 2 43 6 3 1 21 2 49 0 0 0 0 0 0 0 3 100 4 72 10 38 6 4 75 0 0 0 0 0 0 0 0 0 0 0 0 7 80 1 20 16 10 23 14 5 7 86 1 61 23 14 0 0 0 0 0 0 4 32 31 1 9 66 2 48 6 3 1 67 2 51 0 0 0 0 0 0 0 27 55 4 74 10 38 6 4 71 0 0 0 0 0 0 0 0 0 0 0 0 39 13 14 1 10 16 22 38 5 27 1 13 14 84 0 0 0 0 0 0 0 11 30 1 8 65 37 11 46 6 3 1 8 19 2 52 0 0 0 0 0 0 27 143 121 151 97 134 0 0 0 0 0 0 0 0 0 0 0 0 0 0 0 3 158 91 7 147 97 162 0 0 0 0 0 0 0 0 0 0 0 0 0 0 146 10 218 1 40 109 10 23 14 0 0 0 0 0 0 0 0 0 0 0 0 10 220 1 20 109 10 23 14 0 0 0 0 0 0 0 0 0 0 0 0 0 29 1 12 19 15 25 22 47 6 3 1 9 57 2 50 0 0 0 0 0 0 7 33 1 9 18 2 46 5 3 1 12 67 2 43 0 0 0 0 0 0 0 101 1 9 65 15 25 22 51 5 3 1 21 2 54 0 0 0 0 0 0 0 35 34 1 9 66 2 48 5 3 1 8 68 15 42 0 0 0 0 0 0 0 62 1 8 60 2 43 5 3 1 12 67 2 52 0 0 0 0 0 0 0 0 7 33 1 12 21 2 41 5 3 1 8 67 2 54 0 0 0 0 0 0 0 10 82 1 20 16 10 23 14 5 7 90 27 1 10 23 14 0 0 0 0 0 1 3 223 15 35 34 0 0 0 0 0 0 0 0 0 0 0 0 0 0 0 4 32 31 1 9 58 15 25 22 48 6 3 1 8 60 26 11 24 0 0 0 20 16 17 1 7 88 5 20 17 1 10 85 0 0 0 0 0 0 0 0 0 11 30 1 59 15 25 22 53 6 3 1 21 2 43 0 0 0 0 0 0 0 3 158 91 144 163 110 166 0 0 0 0 0 0 0 0 0 0 0 0 0 0 7 86 1 64 16 17 5 7 83 1 20 93 0 0 0 0 0 0 0 0 0 35 34 1 19 15 25 22 45 5 3 1 12 18 2 48 0 0 0 0 0 0 11 30 1 104 15 42 6 3 105 103 9 19 2 49 0 0 0 0 0 0 0 20 16 10 23 14 1 84 5 40 23 14 1 7 90 0 0 0 0 0 0 0 62 105 103 9 19 15 25 22 45 5 3 1 8 21 26 11 24 0 0 0 0 3 113 120 168 97 155 0 0 0 0 0 0 0 0 0 0 0 0 0 0 0 64 16 17 1 10 38 5 39 17 1 7 86 0 0 0 0 0 0 0 0 0 35 34 1 9 66 15 111 22 11 24 6 3 1 8 68 2 43 0 0 0 0 33 1 66 37 11 24 6 3 1 8 10 81 2 53 0 0 0 0 0 0 0 4 32 31 1 12 21 2 52 6 3 1 8 18 2 41 0 0 0 0 0 0 29 1 9 59 2 43 6 3 1 12 63 2 45 0 0 0 0 0 0 0 0 29 1 8 60 15 25 22 48 5 3 1 8 19 2 44 0 0 0 0 0 0 35 34 1 12 59 26 98 5 3 1 9 18 2 47 0 0 0 0 0 0 0 36 1 9 7 102 2 49 6 3 1 8 59 2 47 0 0 0 0 0 0 0 7 33 1 8 58 2 48 6 3 1 67 2 43 0 0 0 0 0 0 0 0 62 1 8 57 2 50 5 3 1 8 68 2 56 0 0 0 0 0 0 0 0 35 34 1 9 18 2 43 5 3 1 21 2 52 0 0 0 0 0 0 0 0 62 1 8 104 15 42 6 3 1 12 57 26 11 24 0 0 0 0 0 0 0 107 126 10 38 4 70 6 4 78 0 0 0 0 0 0 0 0 0 0 0 0 36 1 9 59 37 11 46 5 3 1 8 19 2 51 0 0 0 0 0 0 0 7 33 1 10 81 2 41 6 3 1 57 26 11 24 0 0 0 0 0 0 0 35 34 1 60 2 41 5 3 1 8 59 2 50 0 0 0 0 0 0 0 0 7 83 1 10 16 10 23 14 64 5 10 82 1 10 23 14 0 0 0 0 0 84 1 20 16 17 13 5 7 88 1 61 13 17 0 0 0 0 0 0 0 0 99 127 91 28 76 4 77 6 4 71 0 0 0 0 0 0 0 0 0 0 0 7 36 1 8 10 81 2 48 6 3 1 9 19 2 52 0 0 0 0 0 0 29 1 8 10 81 2 43 5 3 1 19 2 50 0 0 0 0 0 0 0 0 4 32 31 1 9 117 2 50 6 3 1 65 2 51 0 0 0 0 0 0 0 101 1 8 18 2 53 5 3 1 8 19 15 42 0 0 0 0 0 0 0 0 7 33 1 9 60 2 48 5 3 1 19 2 47 0 0 0 0 0 0 0 0 99 127 91 4 77 4 74 6 4 75 0 0 0 0 0 0 0 0 0 0 0 39 16 10 23 14 1 7 87 5 64 23 14 1 10 85 0 0 0 0 0 0 7 33 1 60 26 98 5 3 1 12 92 2 41 0 0 0 0 0 0 0 0 11 30 1 104 26 98 5 3 1 9 59 2 49 0 0 0 0 0 0 0 0 29 1 59 26 98 5 3 1 58 2 52 0 0 0 0 0 0 0 0 0 0 3 55 4 73 4 28 6 4 28 76 0 0 0 0 0 0 0 0 0 0 0 36 1 19 2 52 5 3 1 21 2 50 0 0 0 0 0 0 0 0 0 0 29 1 12 59 2 49 6 3 1 9 22 102 2 41 0 0 0 0 0 0 0 7 89 1 20 16 17 13 5 7 86 1 39 17 13 0 0 0 0 0 0 0 10 85 1 20 16 13 14 5 7 88 1 61 13 14 0 0 0 0 0 0 0 29 1 57 15 25 22 48 5 3 1 65 26 11 24 0 0 0 0 0 0 0 106 130 4 74 6 4 71 0 0 0 0 0 0 0 0 0 0 0 0 0 0 101 1 8 18 37 11 44 5 3 1 67 2 43 0 0 0 0 0 0 0 0 4 32 31 1 9 68 2 54 5 3 1 8 19 2 51 0 0 0 0 0 0 20 16 1 13 14 7 83 5 61 13 14 1 7 88 0 0 0 0 0 0 0 99 127 10 38 4 75 6 4 70 0 0 0 0 0 0 0 0 0 0 0 0 99 127 4 75 28 76 6 4 71 0 0 0 0 0 0 0 0 0 0 0 0 40 16 17 13 1 10 38 5 64 13 17 1 7 80 0 0 0 0 0 0 0 29 1 8 18 37 11 44 5 3 1 9 19 2 43 0 0 0 0 0 0 0 4 32 31 1 12 18 15 42 5 3 1 8 66 26 11 24 0 0 0 0 0 36 1 104 2 45 6 3 1 8 18 2 46 0 0 0 0 0 0 0 0 0 116 100 4 78 4 77 6 4 71 0 0 0 0 0 0 0 0 0 0 0 0 3 94 4 71 4 78 6 4 75 0 0 0 0 0 0 0 0 0 0 0 0 3 55 91 4 77 6 4 74 0 0 0 0 0 0 0 0 0 0 0 0 0 11 30 1 243 15 42 6 3 1 9 65 2 56 0 0 0 0 0 0 0 0 33 105 103 9 19 2 41 5 3 1 69 21 2 48 0 0 0 0 0 0 0 7 89 1 39 13 14 108 96 5 10 85 1 61 13 14 0 0 0 0 0 0 7 80 1 20 13 14 108 96 5 7 87 1 39 13 14 0 0 0 0 0 0 4 32 31 1 19 37 11 44 5 3 1 21 15 42 0 0 0 0 0 0 0 35 34 1 58 8 2 49 5 3 95 69 2 56 0 0 0 0 0 0 0 0 4 32 31 1 9 66 2 49 6 3 1 8 92 2 53 0 0 0 0 0 0 35 34 1 9 18 2 52 5 3 1 9 60 26 11 24 0 0 0 0 0 0 3 55 10 38 28 76 6 4 77 0 0 0 0 0 0 0 0 0 0 0 0 4 32 31 1 9 125 2 43 6 3 1 65 2 44 0 0 0 0 0 0 0 3 118 113 7 97 150 174 0 0 0 0 0 0 0 0 0 0 0 0 0 0 64 16 1 13 14 10 82 5 20 13 14 1 10 38 0 0 0 0 0 0 0 4 32 31 1 9 65 2 49 6 3 1 8 57 2 50 0 0 0 0 0 0 3 55 91 28 76 10 38 6 4 28 0 0 0 0 0 0 0 0 0 0 0 11 30 1 12 92 15 25 79 56 5 3 1 21 2 47 0 0 0 0 0 0 27 143 7 151 97 153 0 0 0 0 0 0 0 0 0 0 0 0 0 0 0 62 1 9 63 2 50 5 3 1 68 2 54 0 0 0 0 0 0 0 0 0 35 34 1 9 57 2 54 5 3 1 9 21 2 41 0 0 0 0 0 0 0 20 16 17 1 13 7 88 5 20 13 17 1 10 38 0 0 0 0 0 0 0 36 1 12 18 2 41 6 3 1 12 63 2 50 0 0 0 0 0 0 0 0 11 30 1 12 19 15 42 5 3 1 57 2 47 0 0 0 0 0 0 0 0 212 99 124 278 0 0 0 0 0 0 0 0 0 0 0 0 0 0 0 0 0 7 87 1 20 16 10 23 14 5 7 89 1 64 23 14 0 0 0 0 0 0 3 94 4 70 4 78 6 4 73 0 0 0 0 0 0 0 0 0 0 0 0 135 4 74 4 73 6 4 28 0 0 0 0 0 0 0 0 0 0 0 0 0 11 30 1 9 19 2 50 5 3 1 21 2 49 0 0 0 0 0 0 0 0 27 94 4 28 4 77 6 28 76 0 0 0 0 0 0 0 0 0 0 0 0 29 1 9 26 63 15 42 6 3 1 9 65 2 43 0 0 0 0 0 0 0 7 90 1 20 16 17 5 10 85 1 39 17 0 0 0 0 0 0 0 0 0 36 1 9 125 2 50 5 3 1 60 2 51 0 0 0 0 0 0 0 0 0 7 90 1 64 16 17 13 5 7 89 1 20 13 17 0 0 0 0 0 0 0 7 33 1 104 2 24 6 3 1 9 59 2 44 0 0 0 0 0 0 0 0 27 55 7 288 153 193 0 0 0 0 0 0 0 0 0 0 0 0 0 0 0 11 30 1 9 21 15 42 6 3 1 68 2 50 0 0 0 0 0 0 0 0 20 16 17 1 10 38 5 61 17 1 7 80 0 0 0 0 0 0 0 0 0 11 30 1 104 2 50 6 3 95 9 2 56 0 0 0 0 0 0 0 0 0 7 62 1 10 81 2 49 6 3 1 9 65 2 56 0 0 0 0 0 0 0 3 55 4 70 6 4 75 0 0 0 0 0 0 0 0 0 0 0 0 0 0 27 113 120 148 97 150 0 0 0 0 0 0 0 0 0 0 0 0 0 0 0 106 130 28 76 4 74 6 4 73 0 0 0 0 0 0 0 0 0 0 0 0 20 16 10 23 14 1 10 85 5 61 23 14 1 7 89 0 0 0 0 0 0 4 32 31 1 9 19 15 25 22 47 5 3 1 8 67 2 50 0 0 0 0 27 55 4 77 4 74 6 4 78 0 0 0 0 0 0 0 0 0 0 0 0 29 1 69 21 2 41 6 3 1 8 10 81 2 53 0 0 0 0 0 0 0 116 100 4 74 4 72 6 4 77 0 0 0 0 0 0 0 0 0 0 0 0 29 1 9 66 15 111 22 11 24 5 9 22 102 2 52 0 0 0 0 0 0 129 96 10 23 14 1 7 80 5 61 23 14 1 7 88 0 0 0 0 0 0 29 1 12 66 15 25 22 51 5 3 1 9 18 2 48 0 0 0 0 0 0 146 7 201 1 39 109 10 23 156 0 0 0 0 0 0 0 0 0 0 0 0 4 32 31 1 9 19 2 41 6 3 1 8 59 26 11 24 0 0 0 0 0 27 55 4 74 4 70 6 4 28 0 0 0 0 0 0 0 0 0 0 0 0 29 1 8 112 15 25 22 51 5 3 1 66 2 50 0 0 0 0 0 0 0 3 160 171 1 198 22 164 185 187 0 0 0 0 0 0 0 0 0 0 0 0 27 55 4 77 78 6 28 0 0 0 0 0 0 0 0 0 0 0 0 0 0 3 100 4 75 28 76 6 4 74 0 0 0 0 0 0 0 0 0 0 0 0 11 30 1 9 59 37 11 44 5 3 1 8 18 2 52 0 0 0 0 0 0 106 130 28 76 4 73 6 4 28 0 0 0 0 0 0 0 0 0 0 0 0 4 32 31 1 8 21 15 25 79 56 5 3 1 8 60 2 46 0 0 0 0 11 30 1 7 102 2 54 5 3 1 9 21 2 56 0 0 0 0 0 0 0 27 94 10 38 4 71 6 4 78 0 0 0 0 0 0 0 0 0 0 0 0 116 100 38 4 71 6 4 78 0 0 0 0 0 0 0 0 0 0 0 0 0 20 16 1 13 14 7 87 5 40 13 14 1 10 38 0 0 0 0 0 0 0 36 1 8 63 37 11 46 5 3 1 21 2 53 0 0 0 0 0 0 0 0 84 1 20 16 10 23 14 5 7 83 1 64 23 14 0 0 0 0 0 0 0 7 90 1 61 16 13 14 5 7 83 1 64 13 14 0 0 0 0 0 0 0 29 1 68 2 52 6 3 1 8 19 2 41 0 0 0 0 0 0 0 0 0 27 55 4 70 4 74 6 4 77 0 0 0 0 0 0 0 0 0 0 0 0 11 30 1 18 2 52 5 3 1 12 57 2 43 0 0 0 0 0 0 0 0 29 1 9 19 2 52 6 3 1 9 57 2 49 0 0 0 0 0 0 0 0 36 105 103 9 19 15 25 79 56 5 3 1 58 69 2 44 0 0 0 0 0 20 16 10 23 14 1 7 86 5 39 23 14 1 7 87 0 0 0 0 0 0 135 4 73 4 28 76 6 4 74 0 0 0 0 0 0 0 0 0 0 0 0 29 1 9 58 2 53 5 3 1 9 21 2 48 0 0 0 0 0 0 0 0 35 34 1 8 21 2 49 6 3 1 59 2 43 0 0 0 0 0 0 0 0 29 1 8 63 2 49 5 3 1 12 66 2 53 0 0 0 0 0 0 0 0 36 1 63 2 52 5 3 1 8 21 2 53 0 0 0 0 0 0 0 0 0 29 1 68 15 25 22 51 5 3 1 8 65 26 11 24 0 0 0 0 0 0 7 80 1 64 16 17 5 10 38 1 61 17 0 0 0 0 0 0 0 0 0 7 33 1 12 59 2 43 5 3 1 12 68 26 11 24 0 0 0 0 0 0 116 207 22 136 7 36 2 46 0 0 0 0 0 0 0 0 0 0 0 0 0 64 16 17 1 10 38 5 20 17 1 7 88 0 0 0 0 0 0 0 0 0 3 55 115 248 110 176 0 0 0 0 0 0 0 0 0 0 0 0 0 0 0 35 34 1 9 117 15 42 6 3 1 21 2 48 0 0 0 0 0 0 0 0 35 34 1 19 2 54 5 3 1 9 59 2 41 0 0 0 0 0 0 0 0 27 94 4 75 6 4 78 0 0 0 0 0 0 0 0 0 0 0 0 0 0 3 94 121 147 97 153 0 0 0 0 0 0 0 0 0 0 0 0 0 0 0 36 1 8 18 2 54 6 3 1 18 15 42 0 0 0 0 0 0 0 0 0 29 1 9 138 2 50 5 9 26 63 26 11 24 0 0 0 0 0 0 0 0 99 131 233 2 36 11 24 142 0 0 0 0 0 0 0 0 0 0 0 0 0 11 30 1 8 59 2 50 6 3 1 112 2 45 0 0 0 0 0 0 0 0 101 1 9 65 2 41 5 3 1 8 67 26 11 24 0 0 0 0 0 0 0 35 34 105 103 9 19 15 111 22 11 24 6 3 1 60 2 43 0 0 0 0 29 1 9 18 26 98 6 3 1 12 19 2 46 0 0 0 0 0 0 0 0 61 16 17 13 1 7 83 5 40 13 140 1 7 89 0 0 0 0 0 0 0 3 100 4 74 4 78 6 10 38 0 0 0 0 0 0 0 0 0 0 0 0 4 32 31 1 12 67 37 11 46 6 3 1 8 18 26 11 24 0 0 0 0 62 1 8 92 2 49 6 3 1 66 15 42 0 0 0 0 0 0 0 0 0 27 55 4 78 4 28 6 4 70 0 0 0 0 0 0 0 0 0 0 0 0 135 4 71 6 4 77 0 0 0 0 0 0 0 0 0 0 0 0 0 0 0 7 33 1 12 63 15 111 22 11 24 5 3 95 15 42 0 0 0 0 0 0 7 33 1 8 10 81 2 48 6 3 1 8 63 2 41 0 0 0 0 0 0 29 1 9 22 102 15 25 22 47 5 3 1 58 69 2 50 0 0 0 0 0 20 16 1 13 14 10 82 5 64 13 14 1 7 83 0 0 0 0 0 0 0 11 30 1 12 68 2 24 5 3 1 8 18 2 45 0 0 0 0 0 0 0 129 96 13 14 1 7 83 5 39 13 14 1 84 0 0 0 0 0 0 0 0 135 10 38 4 77 6 4 70 0 0 0 0 0 0 0 0 0 0 0 0 0 3 55 4 28 4 73 6 4 71 0 0 0 0 0 0 0 0 0 0 0 0 35 34 1 8 21 2 48 5 3 1 19 2 56 0 0 0 0 0 0 0 0 11 30 1 12 68 15 25 79 56 5 9 22 102 2 48 0 0 0 0 0 0 99 124 10 38 6 4 75 0 0 0 0 0 0 0 0 0 0 0 0 0 0 29 1 9 58 37 11 44 6 3 95 2 53 0 0 0 0 0 0 0 0 0 29 1 8 19 2 41 6 3 157 26 11 24 0 0 0 0 0 0 0 0 0 7 62 1 9 10 81 2 49 5 3 1 8 18 2 51 0 0 0 0 0 0 36 1 58 26 98 5 3 1 8 21 2 45 0 0 0 0 0 0 0 0 0 40 16 10 23 14 1 84 5 20 23 14 1 10 38 0 0 0 0 0 0 0 27 143 146 165 97 134 0 0 0 0 0 0 0 0 0 0 0 0 0 0 0 7 86 1 61 16 13 14 5 7 88 1 64 13 14 0 0 0 0 0 0 0 11 30 1 8 21 37 11 46 5 3 1 12 92 2 48 0 0 0 0 0 0 115 216 122 20 109 17 13 0 0 0 0 0 0 0 0 0 0 0 0 0 0 107 126 4 77 4 75 6 4 72 0 0 0 0 0 0 0 0 0 0 0 0 107 126 4 78 4 74 6 4 70 0 0 0 0 0 0 0 0 0 0 0 0 3 143 10 248 110 134 0 0 0 0 0 0 0 0 0 0 0 0 0 0 0 11 30 1 10 81 2 45 5 3 1 8 67 2 53 0 0 0 0 0 0 0 35 34 1 9 65 2 52 5 3 1 9 19 2 48 0 0 0 0 0 0 0 27 1 10 344 22 7 224 97 134 0 0 0 0 0 0 0 0 0 0 0 0 62 1 9 19 2 41 5 3 1 12 65 2 56 0 0 0 0 0 0 0 0 10 82 1 64 16 17 13 5 7 88 1 20 13 17 0 0 0 0 0 0 0 35 34 1 10 81 37 11 46 5 3 1 8 63 2 49 0 0 0 0 0 0 27 178 22 167 181 2 62 2 50 0 0 0 0 0 0 0 0 0 0 0 0 4 32 31 1 21 15 25 22 53 6 3 1 12 21 2 41 0 0 0 0 0 27 55 4 71 4 28 6 4 28 76 0 0 0 0 0 0 0 0 0 0 0 3 55 91 10 38 4 71 6 4 28 0 0 0 0 0 0 0 0 0 0 0 20 16 17 1 10 85 5 40 93 1 7 83 0 0 0 0 0 0 0 0 0 7 33 1 9 58 2 49 6 3 1 12 19 2 41 0 0 0 0 0 0 0 263 179 209 141 175 0 0 0 0 0 0 0 0 0 0 0 0 0 0 0 0 4 32 31 1 7 102 2 45 5 3 105 103 9 19 2 52 0 0 0 0 0 7 33 1 12 18 2 43 5 3 95 9 2 49 0 0 0 0 0 0 0 0 62 1 69 21 15 42 5 9 108 177 2 54 0 0 0 0 0 0 0 0 0 36 1 9 117 2 43 6 3 1 8 65 2 44 0 0 0 0 0 0 0 0 4 32 31 1 8 21 2 52 6 3 1 8 57 26 11 24 0 0 0 0 0 64 16 17 1 84 5 20 93 1 7 88 0 0 0 0 0 0 0 0 0 0 20 16 17 13 1 7 80 5 39 17 13 1 7 90 0 0 0 0 0 0 0 99 124 4 72 4 28 6 4 159 0 0 0 0 0 0 0 0 0 0 0 0 35 34 1 21 2 52 5 3 1 8 21 2 54 0 0 0 0 0 0 0 0 7 36 1 8 306 2 50 6 3 1 8 112 2 52 0 0 0 0 0 0 0 4 32 31 1 21 15 25 22 45 5 3 1 8 21 15 42 0 0 0 0 0 40 16 1 13 14 7 80 5 61 13 14 1 7 86 0 0 0 0 0 0 0 35 34 1 12 60 2 51 6 3 1 12 65 2 43 0 0 0 0 0 0 0 7 33 1 9 18 15 25 22 47 5 3 1 8 66 2 51 0 0 0 0 0 35 34 1 12 63 15 111 22 11 24 5 3 1 8 66 2 56 0 0 0 0 33 1 57 2 43 6 3 1 12 19 2 50 0 0 0 0 0 0 0 0 0 29 1 12 59 2 52 6 3 1 9 65 2 45 0 0 0 0 0 0 0 0 20 16 10 23 14 1 10 38 5 61 23 14 1 10 82 0 0 0 0 0 0 135 4 71 4 72 6 10 38 0 0 0 0 0 0 0 0 0 0 0 0 0 39 16 17 1 7 80 5 20 17 1 10 85 0 0 0 0 0 0 0 0 0 7 33 1 9 19 2 48 6 3 1 57 2 50 0 0 0 0 0 0 0 0 11 30 1 8 18 15 25 22 47 6 3 95 9 2 41 0 0 0 0 0 0 7 89 1 20 16 13 14 0 0 0 0 0 0 0 0 0 0 0 0 0 0 62 1 12 63 2 50 5 3 1 12 19 2 48 0 0 0 0 0 0 0 0 35 34 1 63 37 11 44 6 3 1 9 68 2 50 0 0 0 0 0 0 0 64 16 17 1 13 84 5 39 17 13 1 7 90 0 0 0 0 0 0 0 0\n\t [[Node: loss_19/time_distributed_18_loss/SparseSoftmaxCrossEntropyWithLogits/SparseSoftmaxCrossEntropyWithLogits = SparseSoftmaxCrossEntropyWithLogits[T=DT_FLOAT, Tlabels=DT_INT64, _device=\"/job:localhost/replica:0/task:0/cpu:0\"](loss_19/time_distributed_18_loss/Reshape_1, loss_19/time_distributed_18_loss/Cast)]]\n\nCaused by op 'loss_19/time_distributed_18_loss/SparseSoftmaxCrossEntropyWithLogits/SparseSoftmaxCrossEntropyWithLogits', defined at:\n  File \"/Users/nic/anaconda3/envs/aind-nlp-capstone/lib/python3.5/runpy.py\", line 193, in _run_module_as_main\n    \"__main__\", mod_spec)\n  File \"/Users/nic/anaconda3/envs/aind-nlp-capstone/lib/python3.5/runpy.py\", line 85, in _run_code\n    exec(code, run_globals)\n  File \"/Users/nic/anaconda3/envs/aind-nlp-capstone/lib/python3.5/site-packages/ipykernel_launcher.py\", line 16, in <module>\n    app.launch_new_instance()\n  File \"/Users/nic/anaconda3/envs/aind-nlp-capstone/lib/python3.5/site-packages/traitlets/config/application.py\", line 658, in launch_instance\n    app.start()\n  File \"/Users/nic/anaconda3/envs/aind-nlp-capstone/lib/python3.5/site-packages/ipykernel/kernelapp.py\", line 505, in start\n    self.io_loop.start()\n  File \"/Users/nic/anaconda3/envs/aind-nlp-capstone/lib/python3.5/site-packages/tornado/platform/asyncio.py\", line 148, in start\n    self.asyncio_loop.run_forever()\n  File \"/Users/nic/anaconda3/envs/aind-nlp-capstone/lib/python3.5/asyncio/base_events.py\", line 421, in run_forever\n    self._run_once()\n  File \"/Users/nic/anaconda3/envs/aind-nlp-capstone/lib/python3.5/asyncio/base_events.py\", line 1425, in _run_once\n    handle._run()\n  File \"/Users/nic/anaconda3/envs/aind-nlp-capstone/lib/python3.5/asyncio/events.py\", line 127, in _run\n    self._callback(*self._args)\n  File \"/Users/nic/anaconda3/envs/aind-nlp-capstone/lib/python3.5/site-packages/tornado/ioloop.py\", line 690, in <lambda>\n    lambda f: self._run_callback(functools.partial(callback, future))\n  File \"/Users/nic/anaconda3/envs/aind-nlp-capstone/lib/python3.5/site-packages/tornado/ioloop.py\", line 743, in _run_callback\n    ret = callback()\n  File \"/Users/nic/anaconda3/envs/aind-nlp-capstone/lib/python3.5/site-packages/tornado/gen.py\", line 781, in inner\n    self.run()\n  File \"/Users/nic/anaconda3/envs/aind-nlp-capstone/lib/python3.5/site-packages/tornado/gen.py\", line 742, in run\n    yielded = self.gen.send(value)\n  File \"/Users/nic/anaconda3/envs/aind-nlp-capstone/lib/python3.5/site-packages/ipykernel/kernelbase.py\", line 378, in dispatch_queue\n    yield self.process_one()\n  File \"/Users/nic/anaconda3/envs/aind-nlp-capstone/lib/python3.5/site-packages/tornado/gen.py\", line 225, in wrapper\n    runner = Runner(result, future, yielded)\n  File \"/Users/nic/anaconda3/envs/aind-nlp-capstone/lib/python3.5/site-packages/tornado/gen.py\", line 708, in __init__\n    self.run()\n  File \"/Users/nic/anaconda3/envs/aind-nlp-capstone/lib/python3.5/site-packages/tornado/gen.py\", line 742, in run\n    yielded = self.gen.send(value)\n  File \"/Users/nic/anaconda3/envs/aind-nlp-capstone/lib/python3.5/site-packages/ipykernel/kernelbase.py\", line 365, in process_one\n    yield gen.maybe_future(dispatch(*args))\n  File \"/Users/nic/anaconda3/envs/aind-nlp-capstone/lib/python3.5/site-packages/tornado/gen.py\", line 209, in wrapper\n    yielded = next(result)\n  File \"/Users/nic/anaconda3/envs/aind-nlp-capstone/lib/python3.5/site-packages/ipykernel/kernelbase.py\", line 272, in dispatch_shell\n    yield gen.maybe_future(handler(stream, idents, msg))\n  File \"/Users/nic/anaconda3/envs/aind-nlp-capstone/lib/python3.5/site-packages/tornado/gen.py\", line 209, in wrapper\n    yielded = next(result)\n  File \"/Users/nic/anaconda3/envs/aind-nlp-capstone/lib/python3.5/site-packages/ipykernel/kernelbase.py\", line 542, in execute_request\n    user_expressions, allow_stdin,\n  File \"/Users/nic/anaconda3/envs/aind-nlp-capstone/lib/python3.5/site-packages/tornado/gen.py\", line 209, in wrapper\n    yielded = next(result)\n  File \"/Users/nic/anaconda3/envs/aind-nlp-capstone/lib/python3.5/site-packages/ipykernel/ipkernel.py\", line 294, in do_execute\n    res = shell.run_cell(code, store_history=store_history, silent=silent)\n  File \"/Users/nic/anaconda3/envs/aind-nlp-capstone/lib/python3.5/site-packages/ipykernel/zmqshell.py\", line 536, in run_cell\n    return super(ZMQInteractiveShell, self).run_cell(*args, **kwargs)\n  File \"/Users/nic/anaconda3/envs/aind-nlp-capstone/lib/python3.5/site-packages/IPython/core/interactiveshell.py\", line 2848, in run_cell\n    raw_cell, store_history, silent, shell_futures)\n  File \"/Users/nic/anaconda3/envs/aind-nlp-capstone/lib/python3.5/site-packages/IPython/core/interactiveshell.py\", line 2874, in _run_cell\n    return runner(coro)\n  File \"/Users/nic/anaconda3/envs/aind-nlp-capstone/lib/python3.5/site-packages/IPython/core/async_helpers.py\", line 67, in _pseudo_sync_runner\n    coro.send(None)\n  File \"/Users/nic/anaconda3/envs/aind-nlp-capstone/lib/python3.5/site-packages/IPython/core/interactiveshell.py\", line 3049, in run_cell_async\n    interactivity=interactivity, compiler=compiler, result=result)\n  File \"/Users/nic/anaconda3/envs/aind-nlp-capstone/lib/python3.5/site-packages/IPython/core/interactiveshell.py\", line 3214, in run_ast_nodes\n    if (yield from self.run_code(code, result)):\n  File \"/Users/nic/anaconda3/envs/aind-nlp-capstone/lib/python3.5/site-packages/IPython/core/interactiveshell.py\", line 3296, in run_code\n    exec(code_obj, self.user_global_ns, self.user_ns)\n  File \"<ipython-input-46-0385eafd71c2>\", line 44, in <module>\n    french_vocab_size)\n  File \"<ipython-input-46-0385eafd71c2>\", line 27, in simple_model\n    metrics=['accuracy'])\n  File \"/Users/nic/anaconda3/envs/aind-nlp-capstone/lib/python3.5/site-packages/keras/models.py\", line 821, in compile\n    **kwargs)\n  File \"/Users/nic/anaconda3/envs/aind-nlp-capstone/lib/python3.5/site-packages/keras/engine/training.py\", line 860, in compile\n    sample_weight, mask)\n  File \"/Users/nic/anaconda3/envs/aind-nlp-capstone/lib/python3.5/site-packages/keras/engine/training.py\", line 459, in weighted\n    score_array = fn(y_true, y_pred)\n  File \"/Users/nic/anaconda3/envs/aind-nlp-capstone/lib/python3.5/site-packages/keras/losses.py\", line 62, in sparse_categorical_crossentropy\n    return K.sparse_categorical_crossentropy(y_true, y_pred)\n  File \"/Users/nic/anaconda3/envs/aind-nlp-capstone/lib/python3.5/site-packages/keras/backend/tensorflow_backend.py\", line 2922, in sparse_categorical_crossentropy\n    logits=logits)\n  File \"/Users/nic/anaconda3/envs/aind-nlp-capstone/lib/python3.5/site-packages/tensorflow/python/ops/nn_ops.py\", line 1742, in sparse_softmax_cross_entropy_with_logits\n    precise_logits, labels, name=name)\n  File \"/Users/nic/anaconda3/envs/aind-nlp-capstone/lib/python3.5/site-packages/tensorflow/python/ops/gen_nn_ops.py\", line 2418, in _sparse_softmax_cross_entropy_with_logits\n    features=features, labels=labels, name=name)\n  File \"/Users/nic/anaconda3/envs/aind-nlp-capstone/lib/python3.5/site-packages/tensorflow/python/framework/op_def_library.py\", line 768, in apply_op\n    op_def=op_def)\n  File \"/Users/nic/anaconda3/envs/aind-nlp-capstone/lib/python3.5/site-packages/tensorflow/python/framework/ops.py\", line 2336, in create_op\n    original_op=self._default_original_op, op_def=op_def)\n  File \"/Users/nic/anaconda3/envs/aind-nlp-capstone/lib/python3.5/site-packages/tensorflow/python/framework/ops.py\", line 1228, in __init__\n    self._traceback = _extract_stack()\n\nInvalidArgumentError (see above for traceback): Received a label value of 344 which is outside the valid range of [0, 344).  Label values: 10 38 1 20 16 17 5 7 83 1 39 17 0 0 0 0 0 0 0 0 0 99 124 4 72 4 77 6 4 75 0 0 0 0 0 0 0 0 0 0 0 0 20 16 1 13 14 84 5 39 13 14 1 7 86 0 0 0 0 0 0 0 0 3 55 91 10 38 4 73 6 4 71 0 0 0 0 0 0 0 0 0 0 0 101 1 9 18 2 48 6 3 1 12 19 2 53 0 0 0 0 0 0 0 0 10 85 1 61 16 13 14 5 7 86 27 1 13 14 0 0 0 0 0 0 0 20 109 10 23 14 1 192 236 0 0 0 0 0 0 0 0 0 0 0 0 0 29 1 21 2 45 6 3 1 8 139 26 11 24 0 0 0 0 0 0 0 0 27 145 121 148 97 153 0 0 0 0 0 0 0 0 0 0 0 0 0 0 0 3 55 4 78 4 72 6 4 74 0 0 0 0 0 0 0 0 0 0 0 0 3 55 4 75 4 78 6 4 73 0 0 0 0 0 0 0 0 0 0 0 0 101 1 58 69 2 43 5 3 1 12 65 2 56 0 0 0 0 0 0 0 0 11 30 1 12 59 2 53 5 3 1 9 60 2 52 0 0 0 0 0 0 0 7 36 1 10 81 69 15 42 5 3 1 8 137 2 43 0 0 0 0 0 0 3 55 4 78 4 70 6 4 28 76 0 0 0 0 0 0 0 0 0 0 0 36 1 19 37 11 44 6 3 1 8 63 2 45 0 0 0 0 0 0 0 0 11 30 1 9 125 2 52 5 3 1 8 10 81 2 53 0 0 0 0 0 0 191 96 13 14 1 7 83 5 64 13 14 1 7 80 0 0 0 0 0 0 0 11 30 1 8 7 102 2 43 6 3 1 21 2 49 0 0 0 0 0 0 0 3 100 4 72 10 38 6 4 75 0 0 0 0 0 0 0 0 0 0 0 0 7 80 1 20 16 10 23 14 5 7 86 1 61 23 14 0 0 0 0 0 0 4 32 31 1 9 66 2 48 6 3 1 67 2 51 0 0 0 0 0 0 0 27 55 4 74 10 38 6 4 71 0 0 0 0 0 0 0 0 0 0 0 0 39 13 14 1 10 16 22 38 5 27 1 13 14 84 0 0 0 0 0 0 0 11 30 1 8 65 37 11 46 6 3 1 8 19 2 52 0 0 0 0 0 0 27 143 121 151 97 134 0 0 0 0 0 0 0 0 0 0 0 0 0 0 0 3 158 91 7 147 97 162 0 0 0 0 0 0 0 0 0 0 0 0 0 0 146 10 218 1 40 109 10 23 14 0 0 0 0 0 0 0 0 0 0 0 0 10 220 1 20 109 10 23 14 0 0 0 0 0 0 0 0 0 0 0 0 0 29 1 12 19 15 25 22 47 6 3 1 9 57 2 50 0 0 0 0 0 0 7 33 1 9 18 2 46 5 3 1 12 67 2 43 0 0 0 0 0 0 0 101 1 9 65 15 25 22 51 5 3 1 21 2 54 0 0 0 0 0 0 0 35 34 1 9 66 2 48 5 3 1 8 68 15 42 0 0 0 0 0 0 0 62 1 8 60 2 43 5 3 1 12 67 2 52 0 0 0 0 0 0 0 0 7 33 1 12 21 2 41 5 3 1 8 67 2 54 0 0 0 0 0 0 0 10 82 1 20 16 10 23 14 5 7 90 27 1 10 23 14 0 0 0 0 0 1 3 223 15 35 34 0 0 0 0 0 0 0 0 0 0 0 0 0 0 0 4 32 31 1 9 58 15 25 22 48 6 3 1 8 60 26 11 24 0 0 0 20 16 17 1 7 88 5 20 17 1 10 85 0 0 0 0 0 0 0 0 0 11 30 1 59 15 25 22 53 6 3 1 21 2 43 0 0 0 0 0 0 0 3 158 91 144 163 110 166 0 0 0 0 0 0 0 0 0 0 0 0 0 0 7 86 1 64 16 17 5 7 83 1 20 93 0 0 0 0 0 0 0 0 0 35 34 1 19 15 25 22 45 5 3 1 12 18 2 48 0 0 0 0 0 0 11 30 1 104 15 42 6 3 105 103 9 19 2 49 0 0 0 0 0 0 0 20 16 10 23 14 1 84 5 40 23 14 1 7 90 0 0 0 0 0 0 0 62 105 103 9 19 15 25 22 45 5 3 1 8 21 26 11 24 0 0 0 0 3 113 120 168 97 155 0 0 0 0 0 0 0 0 0 0 0 0 0 0 0 64 16 17 1 10 38 5 39 17 1 7 86 0 0 0 0 0 0 0 0 0 35 34 1 9 66 15 111 22 11 24 6 3 1 8 68 2 43 0 0 0 0 33 1 66 37 11 24 6 3 1 8 10 81 2 53 0 0 0 0 0 0 0 4 32 31 1 12 21 2 52 6 3 1 8 18 2 41 0 0 0 0 0 0 29 1 9 59 2 43 6 3 1 12 63 2 45 0 0 0 0 0 0 0 0 29 1 8 60 15 25 22 48 5 3 1 8 19 2 44 0 0 0 0 0 0 35 34 1 12 59 26 98 5 3 1 9 18 2 47 0 0 0 0 0 0 0 36 1 9 7 102 2 49 6 3 1 8 59 2 47 0 0 0 0 0 0 0 7 33 1 8 58 2 48 6 3 1 67 2 43 0 0 0 0 0 0 0 0 62 1 8 57 2 50 5 3 1 8 68 2 56 0 0 0 0 0 0 0 0 35 34 1 9 18 2 43 5 3 1 21 2 52 0 0 0 0 0 0 0 0 62 1 8 104 15 42 6 3 1 12 57 26 11 24 0 0 0 0 0 0 0 107 126 10 38 4 70 6 4 78 0 0 0 0 0 0 0 0 0 0 0 0 36 1 9 59 37 11 46 5 3 1 8 19 2 51 0 0 0 0 0 0 0 7 33 1 10 81 2 41 6 3 1 57 26 11 24 0 0 0 0 0 0 0 35 34 1 60 2 41 5 3 1 8 59 2 50 0 0 0 0 0 0 0 0 7 83 1 10 16 10 23 14 64 5 10 82 1 10 23 14 0 0 0 0 0 84 1 20 16 17 13 5 7 88 1 61 13 17 0 0 0 0 0 0 0 0 99 127 91 28 76 4 77 6 4 71 0 0 0 0 0 0 0 0 0 0 0 7 36 1 8 10 81 2 48 6 3 1 9 19 2 52 0 0 0 0 0 0 29 1 8 10 81 2 43 5 3 1 19 2 50 0 0 0 0 0 0 0 0 4 32 31 1 9 117 2 50 6 3 1 65 2 51 0 0 0 0 0 0 0 101 1 8 18 2 53 5 3 1 8 19 15 42 0 0 0 0 0 0 0 0 7 33 1 9 60 2 48 5 3 1 19 2 47 0 0 0 0 0 0 0 0 99 127 91 4 77 4 74 6 4 75 0 0 0 0 0 0 0 0 0 0 0 39 16 10 23 14 1 7 87 5 64 23 14 1 10 85 0 0 0 0 0 0 7 33 1 60 26 98 5 3 1 12 92 2 41 0 0 0 0 0 0 0 0 11 30 1 104 26 98 5 3 1 9 59 2 49 0 0 0 0 0 0 0 0 29 1 59 26 98 5 3 1 58 2 52 0 0 0 0 0 0 0 0 0 0 3 55 4 73 4 28 6 4 28 76 0 0 0 0 0 0 0 0 0 0 0 36 1 19 2 52 5 3 1 21 2 50 0 0 0 0 0 0 0 0 0 0 29 1 12 59 2 49 6 3 1 9 22 102 2 41 0 0 0 0 0 0 0 7 89 1 20 16 17 13 5 7 86 1 39 17 13 0 0 0 0 0 0 0 10 85 1 20 16 13 14 5 7 88 1 61 13 14 0 0 0 0 0 0 0 29 1 57 15 25 22 48 5 3 1 65 26 11 24 0 0 0 0 0 0 0 106 130 4 74 6 4 71 0 0 0 0 0 0 0 0 0 0 0 0 0 0 101 1 8 18 37 11 44 5 3 1 67 2 43 0 0 0 0 0 0 0 0 4 32 31 1 9 68 2 54 5 3 1 8 19 2 51 0 0 0 0 0 0 20 16 1 13 14 7 83 5 61 13 14 1 7 88 0 0 0 0 0 0 0 99 127 10 38 4 75 6 4 70 0 0 0 0 0 0 0 0 0 0 0 0 99 127 4 75 28 76 6 4 71 0 0 0 0 0 0 0 0 0 0 0 0 40 16 17 13 1 10 38 5 64 13 17 1 7 80 0 0 0 0 0 0 0 29 1 8 18 37 11 44 5 3 1 9 19 2 43 0 0 0 0 0 0 0 4 32 31 1 12 18 15 42 5 3 1 8 66 26 11 24 0 0 0 0 0 36 1 104 2 45 6 3 1 8 18 2 46 0 0 0 0 0 0 0 0 0 116 100 4 78 4 77 6 4 71 0 0 0 0 0 0 0 0 0 0 0 0 3 94 4 71 4 78 6 4 75 0 0 0 0 0 0 0 0 0 0 0 0 3 55 91 4 77 6 4 74 0 0 0 0 0 0 0 0 0 0 0 0 0 11 30 1 243 15 42 6 3 1 9 65 2 56 0 0 0 0 0 0 0 0 33 105 103 9 19 2 41 5 3 1 69 21 2 48 0 0 0 0 0 0 0 7 89 1 39 13 14 108 96 5 10 85 1 61 13 14 0 0 0 0 0 0 7 80 1 20 13 14 108 96 5 7 87 1 39 13 14 0 0 0 0 0 0 4 32 31 1 19 37 11 44 5 3 1 21 15 42 0 0 0 0 0 0 0 35 34 1 58 8 2 49 5 3 95 69 2 56 0 0 0 0 0 0 0 0 4 32 31 1 9 66 2 49 6 3 1 8 92 2 53 0 0 0 0 0 0 35 34 1 9 18 2 52 5 3 1 9 60 26 11 24 0 0 0 0 0 0 3 55 10 38 28 76 6 4 77 0 0 0 0 0 0 0 0 0 0 0 0 4 32 31 1 9 125 2 43 6 3 1 65 2 44 0 0 0 0 0 0 0 3 118 113 7 97 150 174 0 0 0 0 0 0 0 0 0 0 0 0 0 0 64 16 1 13 14 10 82 5 20 13 14 1 10 38 0 0 0 0 0 0 0 4 32 31 1 9 65 2 49 6 3 1 8 57 2 50 0 0 0 0 0 0 3 55 91 28 76 10 38 6 4 28 0 0 0 0 0 0 0 0 0 0 0 11 30 1 12 92 15 25 79 56 5 3 1 21 2 47 0 0 0 0 0 0 27 143 7 151 97 153 0 0 0 0 0 0 0 0 0 0 0 0 0 0 0 62 1 9 63 2 50 5 3 1 68 2 54 0 0 0 0 0 0 0 0 0 35 34 1 9 57 2 54 5 3 1 9 21 2 41 0 0 0 0 0 0 0 20 16 17 1 13 7 88 5 20 13 17 1 10 38 0 0 0 0 0 0 0 36 1 12 18 2 41 6 3 1 12 63 2 50 0 0 0 0 0 0 0 0 11 30 1 12 19 15 42 5 3 1 57 2 47 0 0 0 0 0 0 0 0 212 99 124 278 0 0 0 0 0 0 0 0 0 0 0 0 0 0 0 0 0 7 87 1 20 16 10 23 14 5 7 89 1 64 23 14 0 0 0 0 0 0 3 94 4 70 4 78 6 4 73 0 0 0 0 0 0 0 0 0 0 0 0 135 4 74 4 73 6 4 28 0 0 0 0 0 0 0 0 0 0 0 0 0 11 30 1 9 19 2 50 5 3 1 21 2 49 0 0 0 0 0 0 0 0 27 94 4 28 4 77 6 28 76 0 0 0 0 0 0 0 0 0 0 0 0 29 1 9 26 63 15 42 6 3 1 9 65 2 43 0 0 0 0 0 0 0 7 90 1 20 16 17 5 10 85 1 39 17 0 0 0 0 0 0 0 0 0 36 1 9 125 2 50 5 3 1 60 2 51 0 0 0 0 0 0 0 0 0 7 90 1 64 16 17 13 5 7 89 1 20 13 17 0 0 0 0 0 0 0 7 33 1 104 2 24 6 3 1 9 59 2 44 0 0 0 0 0 0 0 0 27 55 7 288 153 193 0 0 0 0 0 0 0 0 0 0 0 0 0 0 0 11 30 1 9 21 15 42 6 3 1 68 2 50 0 0 0 0 0 0 0 0 20 16 17 1 10 38 5 61 17 1 7 80 0 0 0 0 0 0 0 0 0 11 30 1 104 2 50 6 3 95 9 2 56 0 0 0 0 0 0 0 0 0 7 62 1 10 81 2 49 6 3 1 9 65 2 56 0 0 0 0 0 0 0 3 55 4 70 6 4 75 0 0 0 0 0 0 0 0 0 0 0 0 0 0 27 113 120 148 97 150 0 0 0 0 0 0 0 0 0 0 0 0 0 0 0 106 130 28 76 4 74 6 4 73 0 0 0 0 0 0 0 0 0 0 0 0 20 16 10 23 14 1 10 85 5 61 23 14 1 7 89 0 0 0 0 0 0 4 32 31 1 9 19 15 25 22 47 5 3 1 8 67 2 50 0 0 0 0 27 55 4 77 4 74 6 4 78 0 0 0 0 0 0 0 0 0 0 0 0 29 1 69 21 2 41 6 3 1 8 10 81 2 53 0 0 0 0 0 0 0 116 100 4 74 4 72 6 4 77 0 0 0 0 0 0 0 0 0 0 0 0 29 1 9 66 15 111 22 11 24 5 9 22 102 2 52 0 0 0 0 0 0 129 96 10 23 14 1 7 80 5 61 23 14 1 7 88 0 0 0 0 0 0 29 1 12 66 15 25 22 51 5 3 1 9 18 2 48 0 0 0 0 0 0 146 7 201 1 39 109 10 23 156 0 0 0 0 0 0 0 0 0 0 0 0 4 32 31 1 9 19 2 41 6 3 1 8 59 26 11 24 0 0 0 0 0 27 55 4 74 4 70 6 4 28 0 0 0 0 0 0 0 0 0 0 0 0 29 1 8 112 15 25 22 51 5 3 1 66 2 50 0 0 0 0 0 0 0 3 160 171 1 198 22 164 185 187 0 0 0 0 0 0 0 0 0 0 0 0 27 55 4 77 78 6 28 0 0 0 0 0 0 0 0 0 0 0 0 0 0 3 100 4 75 28 76 6 4 74 0 0 0 0 0 0 0 0 0 0 0 0 11 30 1 9 59 37 11 44 5 3 1 8 18 2 52 0 0 0 0 0 0 106 130 28 76 4 73 6 4 28 0 0 0 0 0 0 0 0 0 0 0 0 4 32 31 1 8 21 15 25 79 56 5 3 1 8 60 2 46 0 0 0 0 11 30 1 7 102 2 54 5 3 1 9 21 2 56 0 0 0 0 0 0 0 27 94 10 38 4 71 6 4 78 0 0 0 0 0 0 0 0 0 0 0 0 116 100 38 4 71 6 4 78 0 0 0 0 0 0 0 0 0 0 0 0 0 20 16 1 13 14 7 87 5 40 13 14 1 10 38 0 0 0 0 0 0 0 36 1 8 63 37 11 46 5 3 1 21 2 53 0 0 0 0 0 0 0 0 84 1 20 16 10 23 14 5 7 83 1 64 23 14 0 0 0 0 0 0 0 7 90 1 61 16 13 14 5 7 83 1 64 13 14 0 0 0 0 0 0 0 29 1 68 2 52 6 3 1 8 19 2 41 0 0 0 0 0 0 0 0 0 27 55 4 70 4 74 6 4 77 0 0 0 0 0 0 0 0 0 0 0 0 11 30 1 18 2 52 5 3 1 12 57 2 43 0 0 0 0 0 0 0 0 29 1 9 19 2 52 6 3 1 9 57 2 49 0 0 0 0 0 0 0 0 36 105 103 9 19 15 25 79 56 5 3 1 58 69 2 44 0 0 0 0 0 20 16 10 23 14 1 7 86 5 39 23 14 1 7 87 0 0 0 0 0 0 135 4 73 4 28 76 6 4 74 0 0 0 0 0 0 0 0 0 0 0 0 29 1 9 58 2 53 5 3 1 9 21 2 48 0 0 0 0 0 0 0 0 35 34 1 8 21 2 49 6 3 1 59 2 43 0 0 0 0 0 0 0 0 29 1 8 63 2 49 5 3 1 12 66 2 53 0 0 0 0 0 0 0 0 36 1 63 2 52 5 3 1 8 21 2 53 0 0 0 0 0 0 0 0 0 29 1 68 15 25 22 51 5 3 1 8 65 26 11 24 0 0 0 0 0 0 7 80 1 64 16 17 5 10 38 1 61 17 0 0 0 0 0 0 0 0 0 7 33 1 12 59 2 43 5 3 1 12 68 26 11 24 0 0 0 0 0 0 116 207 22 136 7 36 2 46 0 0 0 0 0 0 0 0 0 0 0 0 0 64 16 17 1 10 38 5 20 17 1 7 88 0 0 0 0 0 0 0 0 0 3 55 115 248 110 176 0 0 0 0 0 0 0 0 0 0 0 0 0 0 0 35 34 1 9 117 15 42 6 3 1 21 2 48 0 0 0 0 0 0 0 0 35 34 1 19 2 54 5 3 1 9 59 2 41 0 0 0 0 0 0 0 0 27 94 4 75 6 4 78 0 0 0 0 0 0 0 0 0 0 0 0 0 0 3 94 121 147 97 153 0 0 0 0 0 0 0 0 0 0 0 0 0 0 0 36 1 8 18 2 54 6 3 1 18 15 42 0 0 0 0 0 0 0 0 0 29 1 9 138 2 50 5 9 26 63 26 11 24 0 0 0 0 0 0 0 0 99 131 233 2 36 11 24 142 0 0 0 0 0 0 0 0 0 0 0 0 0 11 30 1 8 59 2 50 6 3 1 112 2 45 0 0 0 0 0 0 0 0 101 1 9 65 2 41 5 3 1 8 67 26 11 24 0 0 0 0 0 0 0 35 34 105 103 9 19 15 111 22 11 24 6 3 1 60 2 43 0 0 0 0 29 1 9 18 26 98 6 3 1 12 19 2 46 0 0 0 0 0 0 0 0 61 16 17 13 1 7 83 5 40 13 140 1 7 89 0 0 0 0 0 0 0 3 100 4 74 4 78 6 10 38 0 0 0 0 0 0 0 0 0 0 0 0 4 32 31 1 12 67 37 11 46 6 3 1 8 18 26 11 24 0 0 0 0 62 1 8 92 2 49 6 3 1 66 15 42 0 0 0 0 0 0 0 0 0 27 55 4 78 4 28 6 4 70 0 0 0 0 0 0 0 0 0 0 0 0 135 4 71 6 4 77 0 0 0 0 0 0 0 0 0 0 0 0 0 0 0 7 33 1 12 63 15 111 22 11 24 5 3 95 15 42 0 0 0 0 0 0 7 33 1 8 10 81 2 48 6 3 1 8 63 2 41 0 0 0 0 0 0 29 1 9 22 102 15 25 22 47 5 3 1 58 69 2 50 0 0 0 0 0 20 16 1 13 14 10 82 5 64 13 14 1 7 83 0 0 0 0 0 0 0 11 30 1 12 68 2 24 5 3 1 8 18 2 45 0 0 0 0 0 0 0 129 96 13 14 1 7 83 5 39 13 14 1 84 0 0 0 0 0 0 0 0 135 10 38 4 77 6 4 70 0 0 0 0 0 0 0 0 0 0 0 0 0 3 55 4 28 4 73 6 4 71 0 0 0 0 0 0 0 0 0 0 0 0 35 34 1 8 21 2 48 5 3 1 19 2 56 0 0 0 0 0 0 0 0 11 30 1 12 68 15 25 79 56 5 9 22 102 2 48 0 0 0 0 0 0 99 124 10 38 6 4 75 0 0 0 0 0 0 0 0 0 0 0 0 0 0 29 1 9 58 37 11 44 6 3 95 2 53 0 0 0 0 0 0 0 0 0 29 1 8 19 2 41 6 3 157 26 11 24 0 0 0 0 0 0 0 0 0 7 62 1 9 10 81 2 49 5 3 1 8 18 2 51 0 0 0 0 0 0 36 1 58 26 98 5 3 1 8 21 2 45 0 0 0 0 0 0 0 0 0 40 16 10 23 14 1 84 5 20 23 14 1 10 38 0 0 0 0 0 0 0 27 143 146 165 97 134 0 0 0 0 0 0 0 0 0 0 0 0 0 0 0 7 86 1 61 16 13 14 5 7 88 1 64 13 14 0 0 0 0 0 0 0 11 30 1 8 21 37 11 46 5 3 1 12 92 2 48 0 0 0 0 0 0 115 216 122 20 109 17 13 0 0 0 0 0 0 0 0 0 0 0 0 0 0 107 126 4 77 4 75 6 4 72 0 0 0 0 0 0 0 0 0 0 0 0 107 126 4 78 4 74 6 4 70 0 0 0 0 0 0 0 0 0 0 0 0 3 143 10 248 110 134 0 0 0 0 0 0 0 0 0 0 0 0 0 0 0 11 30 1 10 81 2 45 5 3 1 8 67 2 53 0 0 0 0 0 0 0 35 34 1 9 65 2 52 5 3 1 9 19 2 48 0 0 0 0 0 0 0 27 1 10 344 22 7 224 97 134 0 0 0 0 0 0 0 0 0 0 0 0 62 1 9 19 2 41 5 3 1 12 65 2 56 0 0 0 0 0 0 0 0 10 82 1 64 16 17 13 5 7 88 1 20 13 17 0 0 0 0 0 0 0 35 34 1 10 81 37 11 46 5 3 1 8 63 2 49 0 0 0 0 0 0 27 178 22 167 181 2 62 2 50 0 0 0 0 0 0 0 0 0 0 0 0 4 32 31 1 21 15 25 22 53 6 3 1 12 21 2 41 0 0 0 0 0 27 55 4 71 4 28 6 4 28 76 0 0 0 0 0 0 0 0 0 0 0 3 55 91 10 38 4 71 6 4 28 0 0 0 0 0 0 0 0 0 0 0 20 16 17 1 10 85 5 40 93 1 7 83 0 0 0 0 0 0 0 0 0 7 33 1 9 58 2 49 6 3 1 12 19 2 41 0 0 0 0 0 0 0 263 179 209 141 175 0 0 0 0 0 0 0 0 0 0 0 0 0 0 0 0 4 32 31 1 7 102 2 45 5 3 105 103 9 19 2 52 0 0 0 0 0 7 33 1 12 18 2 43 5 3 95 9 2 49 0 0 0 0 0 0 0 0 62 1 69 21 15 42 5 9 108 177 2 54 0 0 0 0 0 0 0 0 0 36 1 9 117 2 43 6 3 1 8 65 2 44 0 0 0 0 0 0 0 0 4 32 31 1 8 21 2 52 6 3 1 8 57 26 11 24 0 0 0 0 0 64 16 17 1 84 5 20 93 1 7 88 0 0 0 0 0 0 0 0 0 0 20 16 17 13 1 7 80 5 39 17 13 1 7 90 0 0 0 0 0 0 0 99 124 4 72 4 28 6 4 159 0 0 0 0 0 0 0 0 0 0 0 0 35 34 1 21 2 52 5 3 1 8 21 2 54 0 0 0 0 0 0 0 0 7 36 1 8 306 2 50 6 3 1 8 112 2 52 0 0 0 0 0 0 0 4 32 31 1 21 15 25 22 45 5 3 1 8 21 15 42 0 0 0 0 0 40 16 1 13 14 7 80 5 61 13 14 1 7 86 0 0 0 0 0 0 0 35 34 1 12 60 2 51 6 3 1 12 65 2 43 0 0 0 0 0 0 0 7 33 1 9 18 15 25 22 47 5 3 1 8 66 2 51 0 0 0 0 0 35 34 1 12 63 15 111 22 11 24 5 3 1 8 66 2 56 0 0 0 0 33 1 57 2 43 6 3 1 12 19 2 50 0 0 0 0 0 0 0 0 0 29 1 12 59 2 52 6 3 1 9 65 2 45 0 0 0 0 0 0 0 0 20 16 10 23 14 1 10 38 5 61 23 14 1 10 82 0 0 0 0 0 0 135 4 71 4 72 6 10 38 0 0 0 0 0 0 0 0 0 0 0 0 0 39 16 17 1 7 80 5 20 17 1 10 85 0 0 0 0 0 0 0 0 0 7 33 1 9 19 2 48 6 3 1 57 2 50 0 0 0 0 0 0 0 0 11 30 1 8 18 15 25 22 47 6 3 95 9 2 41 0 0 0 0 0 0 7 89 1 20 16 13 14 0 0 0 0 0 0 0 0 0 0 0 0 0 0 62 1 12 63 2 50 5 3 1 12 19 2 48 0 0 0 0 0 0 0 0 35 34 1 63 37 11 44 6 3 1 9 68 2 50 0 0 0 0 0 0 0 64 16 17 1 13 84 5 39 17 13 1 7 90 0 0 0 0 0 0 0 0\n\t [[Node: loss_19/time_distributed_18_loss/SparseSoftmaxCrossEntropyWithLogits/SparseSoftmaxCrossEntropyWithLogits = SparseSoftmaxCrossEntropyWithLogits[T=DT_FLOAT, Tlabels=DT_INT64, _device=\"/job:localhost/replica:0/task:0/cpu:0\"](loss_19/time_distributed_18_loss/Reshape_1, loss_19/time_distributed_18_loss/Cast)]]\n"
     ]
    }
   ],
   "source": [
    "from keras.models import Sequential\n",
    "from keras.layers import Input, LSTM\n",
    "\n",
    "def simple_model(input_shape, output_sequence_length, english_vocab_size, french_vocab_size):\n",
    "    \"\"\"\n",
    "    Build and train a basic RNN on x and y\n",
    "    :param input_shape: Tuple of input shape\n",
    "    :param output_sequence_length: Length of output sequence\n",
    "    :param english_vocab_size: Number of unique English words in the dataset\n",
    "    :param french_vocab_size: Number of unique French words in the dataset\n",
    "    :return: Keras model built, but not trained\n",
    "    \"\"\"\n",
    "    # TODO: Build the layers\n",
    "    print(\"input_shape=\", input_shape)\n",
    "    print(\"output_sequence_length=\", output_sequence_length)\n",
    "    print(\"english_vocab_size\", english_vocab_size)\n",
    "    print(\"french_vocab_size\", french_vocab_size)\n",
    "        \n",
    "    learning_rate = 0.001\n",
    "    latent_dim=512\n",
    "    \n",
    "    model = Sequential()\n",
    "    model.add(GRU(units=latent_dim, input_shape=input_shape[1:], return_sequences=True))\n",
    "    model.add(TimeDistributed(Dense(french_vocab_size, activation='softmax')))\n",
    "    model.compile(loss=sparse_categorical_crossentropy,\n",
    "                  optimizer=Adam(learning_rate),\n",
    "                  metrics=['accuracy'])\n",
    "    \n",
    "    print(model.summary())\n",
    "    \n",
    "    return model\n",
    "\n",
    "tests.test_simple_model(simple_model)\n",
    "\n",
    "# Reshaping the input to work with a basic RNN\n",
    "tmp_x = pad(preproc_english_sentences, max_french_sequence_length)\n",
    "tmp_x = tmp_x.reshape((-1, preproc_french_sentences.shape[-2], 1))\n",
    "\n",
    "# Train the neural network\n",
    "simple_rnn_model = simple_model(\n",
    "    tmp_x.shape,\n",
    "    max_french_sequence_length,\n",
    "    english_vocab_size,\n",
    "    french_vocab_size)\n",
    "simple_rnn_model.fit(tmp_x, preproc_french_sentences, batch_size=256, epochs=10, validation_split=0.2)\n",
    "\n",
    "# Print prediction(s)\n",
    "print(logits_to_text(simple_rnn_model.predict(tmp_x[:1])[0], french_tokenizer))"
   ]
  },
  {
   "cell_type": "markdown",
   "metadata": {},
   "source": [
    "### Model 2: Embedding (IMPLEMENTATION)\n",
    "![RNN](images/embedding.png)\n",
    "You've turned the words into ids, but there's a better representation of a word.  This is called word embeddings.  An embedding is a vector representation of the word that is close to similar words in n-dimensional space, where the n represents the size of the embedding vectors.\n",
    "\n",
    "In this model, you'll create a RNN model using embedding."
   ]
  },
  {
   "cell_type": "code",
   "execution_count": null,
   "metadata": {},
   "outputs": [],
   "source": [
    "from keras.layers import LSTM\n",
    "from keras.layers import Input\n",
    "\n",
    "def embed_model(input_shape, output_sequence_length, english_vocab_size, french_vocab_size):\n",
    "    \"\"\"\n",
    "    Build and train a RNN model using word embedding on x and y\n",
    "    :param input_shape: Tuple of input shape\n",
    "    :param output_sequence_length: Length of output sequence\n",
    "    :param english_vocab_size: Number of unique English words in the dataset\n",
    "    :param french_vocab_size: Number of unique French words in the dataset\n",
    "    :return: Keras model built, but not trained\n",
    "    \"\"\"\n",
    "    \n",
    "    print(\"input_shape=\", input_shape)\n",
    "    print(\"output_sequence_length=\", output_sequence_length)\n",
    "    print(\"english_vocab_size\", english_vocab_size)\n",
    "    print(\"french_vocab_size\", french_vocab_size)\n",
    "    \n",
    "    input_sequence_length = input_shape[1]\n",
    "    \n",
    "    latent_dim = 128\n",
    "    \n",
    "    model = Sequential()\n",
    "    model.add(Embedding(name='emb', input_dim=english_vocab_size, output_dim=latent_dim, \n",
    "                        input_length=input_shape[1], input_shape=input_shape[1:]))\n",
    "    model.add(LSTM(name='lstm1', units=latent_dim, input_shape=(english_vocab_size, latent_dim))) \n",
    "    model.add(RepeatVector(name='rv', n=output_sequence_length))  \n",
    "    model.add(LSTM(name='lstm2', units=latent_dim, return_sequences=True))\n",
    "    model.add(TimeDistributed(Dense(name='dense_fr', units=french_vocab_size, activation='softmax'), name='td'))\n",
    "    \n",
    "    print(model.summary())\n",
    "    \n",
    "    return model\n",
    "\n",
    "tests.test_embed_model(embed_model)\n",
    "\n",
    "\n",
    "\n",
    "# Reshaping the input to work with a embedding RNN\n",
    "tmp_x = pad(preproc_english_sentences, max_french_sequence_length)\n",
    "tmp_x = tmp_x.reshape((-1, preproc_french_sentences.shape[-2], 1))\n",
    "\n",
    "# Train the neural network\n",
    "embed_model = embed_model(\n",
    "    tmp_x.shape,\n",
    "    max_french_sequence_length,\n",
    "    english_vocab_size,\n",
    "    french_vocab_size)\n",
    "embed_model.fit(tmp_x, preproc_french_sentences, batch_size=512, epochs=10, validation_split=0.2)\n",
    "\n",
    "# Print prediction(s)\n",
    "print(logits_to_text(embed_model.predict(tmp_x[:1])[0], french_tokenizer))\n"
   ]
  },
  {
   "cell_type": "markdown",
   "metadata": {},
   "source": [
    "### Model 3: Bidirectional RNNs (IMPLEMENTATION)\n",
    "![RNN](images/bidirectional.png)\n",
    "One restriction of a RNN is that it can't see the future input, only the past.  This is where bidirectional recurrent neural networks come in.  They are able to see the future data."
   ]
  },
  {
   "cell_type": "code",
   "execution_count": null,
   "metadata": {},
   "outputs": [],
   "source": [
    "def bd_model(input_shape, output_sequence_length, english_vocab_size, french_vocab_size):\n",
    "    \"\"\"\n",
    "    Build and train a bidirectional RNN model on x and y\n",
    "    :param input_shape: Tuple of input shape\n",
    "    :param output_sequence_length: Length of output sequence\n",
    "    :param english_vocab_size: Number of unique English words in the dataset\n",
    "    :param french_vocab_size: Number of unique French words in the dataset\n",
    "    :return: Keras model built, but not trained\n",
    "    \"\"\"\n",
    "\n",
    "    # Based on examples from https://machinelearningmastery.com/develop-bidirectional-lstm-sequence-classification-python-keras/\n",
    "    model = Sequential()\n",
    "    model.add(Bidirectional(LSTM(20, return_sequences=True), input_shape=(n_timesteps, 1)))\n",
    "    model.add(TimeDistributed(Dense(1, activation='sigmoid')))\n",
    "    model.compile(loss='binary_crossentropy', optimizer='adam', metrics=['acc'])\n",
    "        \n",
    "    print(model.summary())\n",
    "        \n",
    "    return model\n",
    "\n",
    "\n",
    "tests.test_bd_model(bd_model)\n",
    "\n",
    "\n",
    "# TODO: Train and Print prediction(s)\n",
    "\n",
    "\n",
    "# Reshaping the input\n",
    "tmp_x = pad(preproc_english_sentences, max_french_sequence_length)\n",
    "tmp_x = tmp_x.reshape((-1, preproc_french_sentences.shape[-2], 1))\n",
    "\n",
    "# Train the neural network\n",
    "bd_model = bd_model(\n",
    "    tmp_x.shape,\n",
    "    max_french_sequence_length,\n",
    "    english_vocab_size,\n",
    "    french_vocab_size)\n",
    "bd_model.fit(tmp_x, preproc_french_sentences, batch_size=512, epochs=10, validation_split=0.2)\n",
    "\n",
    "# Print prediction(s)\n",
    "print(logits_to_text(bd_model.predict(tmp_x[:1])[0], french_tokenizer))\n"
   ]
  },
  {
   "cell_type": "markdown",
   "metadata": {},
   "source": [
    "### Model 4: Encoder-Decoder (OPTIONAL)\n",
    "Time to look at encoder-decoder models.  This model is made up of an encoder and decoder. The encoder creates a matrix representation of the sentence.  The decoder takes this matrix as input and predicts the translation as output.\n",
    "\n",
    "Create an encoder-decoder model in the cell below."
   ]
  },
  {
   "cell_type": "code",
   "execution_count": null,
   "metadata": {},
   "outputs": [],
   "source": [
    "def encdec_model(input_shape, output_sequence_length, english_vocab_size, french_vocab_size):\n",
    "    \"\"\"\n",
    "    Build and train an encoder-decoder model on x and y\n",
    "    :param input_shape: Tuple of input shape\n",
    "    :param output_sequence_length: Length of output sequence\n",
    "    :param english_vocab_size: Number of unique English words in the dataset\n",
    "    :param french_vocab_size: Number of unique French words in the dataset\n",
    "    :return: Keras model built, but not trained\n",
    "    \"\"\"\n",
    "# Define an input sequence and process it.\n",
    "    encoder_inputs = Input(shape=(None, self.num_encoder_tokens))\n",
    "    encoder_lstm = LSTM(self.latent_dim, return_state=True)\n",
    "    # Unidirectional encoding\n",
    "    encoder_outputs, state_h, state_c = encoder_lstm(encoder_inputs)\n",
    "    # We discard `encoder_outputs` and only keep the states.\n",
    "    encoder_states = [state_h, state_c]\n",
    "    # Set up the decoder, using `encoder_states` as initial state.\n",
    "    decoder_inputs = Input(shape=(None, self.num_decoder_tokens))\n",
    "    # We set up our decoder to return full output sequences,\n",
    "    # and to return internal states as well. We don't use the\n",
    "    # return states in the training model, but we will use them in inference.\n",
    "    decoder_lstm = LSTM(self.latent_dim, return_sequences=True, return_state=True)\n",
    "    decoder_outputs_interim, _, _ = decoder_lstm(decoder_inputs, initial_state=encoder_states)\n",
    "    decoder_dense = Dense(self.num_decoder_tokens, activation='softmax')\n",
    "    decoder_outputs = decoder_dense(decoder_outputs_interim)\n",
    "    # Define the model that will turn\n",
    "    # `encoder_input_data` & `decoder_input_data` into `decoder_target_data`\n",
    "    model = Model([encoder_inputs, decoder_inputs], decoder_outputs)\n",
    "    model.compile(optimizer=self.optimizer, loss='categorical_crossentropy')\n",
    "\n",
    "    # Redefine encoder model (needs to work even when the model has just been loaded from an h5 file)\n",
    "    # This should work even when the `model` has self.bidi==True\n",
    "    encoder_inputs = model.input[0]  # input_1\n",
    "    encoder_outputs, state_h_enc, state_c_enc = model.layers[2].output  # lstm_1\n",
    "    encoder_states = [state_h_enc, state_c_enc]\n",
    "    self.encoder_model = Model(encoder_inputs, encoder_states)\n",
    "\n",
    "    decoder_inputs = model.input[1]  # input_2\n",
    "    decoder_state_input_h = Input(shape=(self.latent_dim,), name='dec_input_h')\n",
    "    decoder_state_input_c = Input(shape=(self.latent_dim,), name='dec_input_c')\n",
    "    decoder_states_inputs = [decoder_state_input_h, decoder_state_input_c]\n",
    "    decoder_lstm = model.layers[3]\n",
    "    decoder_outputs, state_h_dec, state_c_dec = decoder_lstm(\n",
    "        decoder_inputs, initial_state=decoder_states_inputs)\n",
    "    decoder_states = [state_h_dec, state_c_dec]\n",
    "    decoder_dense = model.layers[4]\n",
    "    decoder_outputs = decoder_dense(decoder_outputs)\n",
    "    self.decoder_model = Model(\n",
    "        [decoder_inputs] + decoder_states_inputs,\n",
    "        [decoder_outputs] + decoder_states)\n",
    "\n",
    "    return model\n",
    "\n",
    "tests.test_encdec_model(encdec_model)\n",
    "\n",
    "\n",
    "# OPTIONAL: Train and Print prediction(s)"
   ]
  },
  {
   "cell_type": "markdown",
   "metadata": {},
   "source": [
    "### Model 5: Custom (IMPLEMENTATION)\n",
    "Use everything you learned from the previous models to create a model that incorporates embedding and a bidirectional rnn into one model."
   ]
  },
  {
   "cell_type": "code",
   "execution_count": null,
   "metadata": {},
   "outputs": [],
   "source": [
    "def model_final(input_shape, output_sequence_length, english_vocab_size, french_vocab_size):\n",
    "    \"\"\"\n",
    "    Build and train a model that incorporates embedding, encoder-decoder, and bidirectional RNN on x and y\n",
    "    :param input_shape: Tuple of input shape\n",
    "    :param output_sequence_length: Length of output sequence\n",
    "    :param english_vocab_size: Number of unique English words in the dataset\n",
    "    :param french_vocab_size: Number of unique French words in the dataset\n",
    "    :return: Keras model built, but not trained\n",
    "    \"\"\"\n",
    "    latent_dim = 64 # TODO try 128\n",
    "    num_decoder_tokens = french_vocab_size\n",
    "    optimizer = 'adam'\n",
    "    # Define an input sequence and process it.\n",
    "    encoder_inputs = Input(shape=(None, self.num_encoder_tokens))\n",
    "    encoder_lstm = LSTM(latent_dim, return_state=True)\n",
    "    # Bidirectional encoding\n",
    "    encoder_lstm = Bidirectional(encoder_lstm)\n",
    "    encoder_outputs, forward_h, forward_c,  backward_h, backward_c = encoder_lstm(encoder_inputs)\n",
    "    state_h = Concatenate()([forward_h, backward_h])\n",
    "    state_c = Concatenate()([forward_c, backward_c])\n",
    "    # We discard `encoder_outputs` and only keep the states.\n",
    "    encoder_states = [state_h, state_c]\n",
    "    # Set up the decoder, using `encoder_states` as initial state.\n",
    "    decoder_inputs = Input(shape=(None, self.num_decoder_tokens))\n",
    "    # We set up our decoder to return full output sequences,\n",
    "    # and to return internal states as well. We don't use the\n",
    "    # return states in the training model, but we will use them in inference.\n",
    "    decoder_lstm = LSTM(latent_dim * 2, return_sequences=True, return_state=True)\n",
    "    decoder_outputs_interim, _, _ = decoder_lstm(decoder_inputs, initial_state=encoder_states)\n",
    "    decoder_dense = Dense(num_decoder_tokens, activation='softmax')\n",
    "    decoder_outputs = decoder_dense(decoder_outputs_interim)\n",
    "    # Define the model that will turn\n",
    "    # `encoder_input_data` & `decoder_input_data` into `decoder_target_data`\n",
    "    model = Model([encoder_inputs, decoder_inputs], decoder_outputs)\n",
    "    model.compile(optimizer=optimizer, loss='categorical_crossentropy')\n",
    "\n",
    "    # Redefine encoder model (needs to work even when the model has just been loaded from an h5 file)\n",
    "    # This should work even when the `model` has self.bidi==True\n",
    "    # encoder_inputs = model.input[0]  # input_1\n",
    "    # encoder_outputs, state_h_enc, state_c_enc = model.layers[2].output  # lstm_1\n",
    "    encoder_states = [state_h, state_c]\n",
    "    encoder_model = Model(encoder_inputs, encoder_states)\n",
    "\n",
    "    decoder_inputs = model.input[1]  # input_2\n",
    "    decoder_state_input_h = Input(shape=(latent_dim,), name='dec_input_h')\n",
    "    decoder_state_input_c = Input(shape=(latent_dim,), name='dec_input_c')\n",
    "    decoder_states_inputs = [decoder_state_input_h, decoder_state_input_c]\n",
    "    decoder_lstm = model.layers[3]\n",
    "    decoder_outputs, state_h_dec, state_c_dec = decoder_lstm(\n",
    "        decoder_inputs, initial_state=decoder_states_inputs)\n",
    "    decoder_states = [state_h_dec, state_c_dec]\n",
    "    decoder_dense = model.layers[4]\n",
    "    decoder_outputs = decoder_dense(decoder_outputs)\n",
    "    decoder_model = Model(\n",
    "        [decoder_inputs] + decoder_states_inputs,\n",
    "        [decoder_outputs] + decoder_states)\n",
    "\n",
    "    return model\n",
    "\n",
    "\n",
    "tests.test_model_final(model_final)\n",
    "\n",
    "\n",
    "print('Final Model Loaded')\n",
    "encoder_input_data\n",
    "decoder_input_data, \n",
    "decoder_target_data\n",
    "\n",
    "# TODO: Train the final model\n",
    "history = self.model.fit([encoder_input_data, decoder_input_data], decoder_target_data,\n",
    "                                     batch_size=512,\n",
    "                                     epochs=epochs,\n",
    "                                     validation_split=0.2,\n",
    "                                     callbacks=[checkpoint, logger, earlyStopping, time_callback])"
   ]
  },
  {
   "cell_type": "markdown",
   "metadata": {},
   "source": [
    "## Prediction (IMPLEMENTATION)"
   ]
  },
  {
   "cell_type": "code",
   "execution_count": null,
   "metadata": {},
   "outputs": [],
   "source": [
    "def final_predictions(x, y, x_tk, y_tk):\n",
    "    \"\"\"\n",
    "    Gets predictions using the final model\n",
    "    :param x: Preprocessed English data\n",
    "    :param y: Preprocessed French data\n",
    "    :param x_tk: English tokenizer\n",
    "    :param y_tk: French tokenizer\n",
    "    \"\"\"\n",
    "    # TODO: Train neural network using model_final\n",
    "    model = None\n",
    "\n",
    "    \n",
    "    ## DON'T EDIT ANYTHING BELOW THIS LINE\n",
    "    y_id_to_word = {value: key for key, value in y_tk.word_index.items()}\n",
    "    y_id_to_word[0] = '<PAD>'\n",
    "\n",
    "    sentence = 'he saw a old yellow truck'\n",
    "    sentence = [x_tk.word_index[word] for word in sentence.split()]\n",
    "    sentence = pad_sequences([sentence], maxlen=x.shape[-1], padding='post')\n",
    "    sentences = np.array([sentence[0], x[0]])\n",
    "    predictions = model.predict(sentences, len(sentences))\n",
    "\n",
    "    print('Sample 1:')\n",
    "    print(' '.join([y_id_to_word[np.argmax(x)] for x in predictions[0]]))\n",
    "    print('Il a vu un vieux camion jaune')\n",
    "    print('Sample 2:')\n",
    "    print(' '.join([y_id_to_word[np.argmax(x)] for x in predictions[1]]))\n",
    "    print(' '.join([y_id_to_word[np.max(x)] for x in y[0]]))\n",
    "\n",
    "\n",
    "final_predictions(preproc_english_sentences, preproc_french_sentences, english_tokenizer, french_tokenizer)"
   ]
  },
  {
   "cell_type": "markdown",
   "metadata": {},
   "source": [
    "## Submission\n",
    "When you're ready to submit, complete the following steps:\n",
    "1. Review the [rubric](https://review.udacity.com/#!/rubrics/1004/view) to ensure your submission meets all requirements to pass\n",
    "2. Generate an HTML version of this notebook\n",
    "\n",
    "  - Run the next cell to attempt automatic generation (this is the recommended method in Workspaces)\n",
    "  - Navigate to **FILE -> Download as -> HTML (.html)**\n",
    "  - Manually generate a copy using `nbconvert` from your shell terminal\n",
    "```\n",
    "$ pip install nbconvert\n",
    "$ python -m nbconvert machine_translation.ipynb\n",
    "```\n",
    "  \n",
    "3. Submit the project\n",
    "\n",
    "  - If you are in a Workspace, simply click the \"Submit Project\" button (bottom towards the right)\n",
    "  \n",
    "  - Otherwise, add the following files into a zip archive and submit them \n",
    "  - `helper.py`\n",
    "  - `machine_translation.ipynb`\n",
    "  - `machine_translation.html`\n",
    "    - You can export the notebook by navigating to **File -> Download as -> HTML (.html)**."
   ]
  },
  {
   "cell_type": "code",
   "execution_count": null,
   "metadata": {},
   "outputs": [],
   "source": [
    "!!python -m nbconvert *.ipynb"
   ]
  },
  {
   "cell_type": "markdown",
   "metadata": {},
   "source": [
    "## Optional Enhancements\n",
    "\n",
    "This project focuses on learning various network architectures for machine translation, but we don't evaluate the models according to best practices by splitting the data into separate test & training sets -- so the model accuracy is overstated. Use the [`sklearn.model_selection.train_test_split()`](http://scikit-learn.org/stable/modules/generated/sklearn.model_selection.train_test_split.html) function to create separate training & test datasets, then retrain each of the models using only the training set and evaluate the prediction accuracy using the hold out test set. Does the \"best\" model change?"
   ]
  }
 ],
 "metadata": {
  "kernelspec": {
   "display_name": "aind-nlp-capstone",
   "language": "python",
   "name": "aind-nlp-capstone"
  },
  "language_info": {
   "codemirror_mode": {
    "name": "ipython",
    "version": 3
   },
   "file_extension": ".py",
   "mimetype": "text/x-python",
   "name": "python",
   "nbconvert_exporter": "python",
   "pygments_lexer": "ipython3",
   "version": "3.5.6"
  }
 },
 "nbformat": 4,
 "nbformat_minor": 1
}
